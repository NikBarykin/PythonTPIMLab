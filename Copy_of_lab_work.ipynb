{
  "cells": [
    {
      "cell_type": "markdown",
      "metadata": {
        "id": "view-in-github",
        "colab_type": "text"
      },
      "source": [
        "<a href=\"https://colab.research.google.com/github/NikBarykin/PythonTPIMLab/blob/master/Copy_of_lab_work.ipynb\" target=\"_parent\"><img src=\"https://colab.research.google.com/assets/colab-badge.svg\" alt=\"Open In Colab\"/></a>"
      ]
    },
    {
      "cell_type": "markdown",
      "metadata": {
        "id": "rloJD2luQnuQ"
      },
      "source": [
        "# Лабораторная работа"
      ]
    },
    {
      "cell_type": "markdown",
      "metadata": {
        "id": "xIZ02xiML9p_"
      },
      "source": [
        "Баллы за секции:\n",
        "- *Задание 1* - 10 баллов\n",
        "- *Задание 2* - 20 баллов\n",
        "- *Задание 3* - 30 баллов\n",
        "- **Итого** - 60 баллов\n",
        "\n",
        "Оценка за лабу $ = \\frac{score}{6}$"
      ]
    },
    {
      "cell_type": "markdown",
      "metadata": {
        "id": "OEDe7x8YRID0"
      },
      "source": [
        "## Внимание! Attention! Achtung!"
      ]
    },
    {
      "cell_type": "markdown",
      "metadata": {
        "id": "ZEmKA-7NR1Y9"
      },
      "source": [
        "**Данная лабораторная работа является блокирующей**, т.е. если лабораторная работа не выполнена, то оценка за курс - неуд.\n",
        "\n",
        "Лабораторная работа считается выполненной, если **за каждое из заданий получено не менее 2 баллов**."
      ]
    },
    {
      "cell_type": "markdown",
      "metadata": {
        "id": "N1ZbZ8dkR5q_"
      },
      "source": [
        "## Формат сдачи лабораторной работы"
      ]
    },
    {
      "cell_type": "markdown",
      "metadata": {
        "id": "tEwx7LLQR-h8"
      },
      "source": [
        "Данная лабораторная работа сдается так же, как и проект - заполняете данный ноутбук, отправляете его через GitHub с указанием проверяющего."
      ]
    },
    {
      "cell_type": "markdown",
      "metadata": {
        "id": "qKwaNCJKj7b8"
      },
      "source": [
        "**Ассистенты не будут запускать ячейки кода, а смотреть на выведенный результат и код. Если ячейка кода не запущена - балл не ставится, даже при правильно написанном коде.**\n",
        "\n",
        "***(Комментарии что курс по Python легче чем по C++ учтены)***"
      ]
    },
    {
      "cell_type": "markdown",
      "metadata": {
        "id": "hlUYK7MDRGye"
      },
      "source": [
        ">**Примечание**\n",
        ">\n",
        ">Данные задания вдохновлены предметом \"Введение в анализ данных\" 2 курса, по итогу которого идёт отбор на DS-поток. Если вы видите себя в смежных областях, советуем выполнить данную лабораторку по максимуму."
      ]
    },
    {
      "cell_type": "code",
      "execution_count": 2,
      "metadata": {
        "id": "1qzEqvohoZfB"
      },
      "outputs": [],
      "source": [
        "# Всё необходимое для выполнения данной лабораторной работы!\n",
        "import requests\n",
        "from time import sleep\n",
        "\n",
        "import numpy as np\n",
        "import pandas as pd\n",
        "import matplotlib.pyplot as plt\n",
        "import seaborn as sns"
      ]
    },
    {
      "cell_type": "markdown",
      "metadata": {
        "id": "rB_FYHU2k8w-"
      },
      "source": [
        "## Задание 1. Парсинг - 10 баллов"
      ]
    },
    {
      "cell_type": "markdown",
      "metadata": {
        "id": "F0gr5cjaoQJy"
      },
      "source": [
        "В этом задании Вам предстоит работать с API сайта <a target=\"_blank\" href=\"hh.ru\">hh.ru</a>. Документация доступна по <a target=\"_blank\" href=\"https://github.com/hhru/api/blob/master/docs/vacancies.md#search\">ссылке</a>."
      ]
    },
    {
      "cell_type": "markdown",
      "metadata": {
        "id": "v8iCQYk7TNvK"
      },
      "source": [
        "<b><font color=\"red\">Внимание!</font> При работе с API не забывайте делать паузы между запросами, иначе вас забанят. Просрочка дедлайна по этой причине не принимается!</b>"
      ]
    },
    {
      "cell_type": "markdown",
      "metadata": {
        "id": "-HAm80rqRqAZ"
      },
      "source": [
        "**Задача:**\n",
        "1. выбрать 5 интересующих вас профессий (не смежных, т.е. Аналатик и Data Engineer не считается корректным)\n",
        "2. затем получить доступные по данным профессиям вакансии в Москве и выделить их физические координаты\n",
        "3. нанести полученные координаты на карту местоположения компаний"
      ]
    },
    {
      "cell_type": "markdown",
      "metadata": {
        "id": "H0GhQJvipXYj"
      },
      "source": [
        "*Пример запроса для профессии:*"
      ]
    },
    {
      "cell_type": "code",
      "execution_count": 3,
      "metadata": {
        "id": "aZLGoS_DpsXI"
      },
      "outputs": [],
      "source": [
        "URL = 'https://api.hh.ru/vacancies'\n",
        "\n",
        "params = {\n",
        "    'text': \"C++ программист\",\n",
        "    'area': 1,\n",
        "    'page': 0,\n",
        "    'per_page': 10\n",
        "}\n",
        "\n",
        "data = requests.get(URL, params).json()"
      ]
    },
    {
      "cell_type": "markdown",
      "metadata": {
        "id": "yHQtIBRQp91_"
      },
      "source": [
        "Если Ваш запрос прошел успешно, то вы получите следующие ключи (значения данных ключей вы найдете по ссылке на документацию):"
      ]
    },
    {
      "cell_type": "code",
      "execution_count": 4,
      "metadata": {
        "colab": {
          "base_uri": "https://localhost:8080/"
        },
        "id": "DW6mxzggpvKw",
        "outputId": "33e9e99d-4f36-473f-aaa8-1ac313f58ea8"
      },
      "outputs": [
        {
          "output_type": "execute_result",
          "data": {
            "text/plain": [
              "dict_keys(['items', 'found', 'pages', 'per_page', 'page', 'clusters', 'arguments', 'alternate_url'])"
            ]
          },
          "metadata": {},
          "execution_count": 4
        }
      ],
      "source": [
        "data.keys()"
      ]
    },
    {
      "cell_type": "markdown",
      "metadata": {
        "id": "O-qAwsmrTAvQ"
      },
      "source": [
        ">**Примечание**\n",
        ">\n",
        ">В `data['pages']` будет хранится количество найденных страниц вакансий - для корректного сбора данных Вам нужно пробежать по **КАЖДОЙ** странице и сделать соотвествующие запросы."
      ]
    },
    {
      "cell_type": "markdown",
      "metadata": {
        "id": "OEPOQVYxsMyN"
      },
      "source": [
        ">**Совет**\n",
        ">\n",
        ">Посмотрите что хранится в `items`!"
      ]
    },
    {
      "cell_type": "markdown",
      "metadata": {
        "id": "JWvkFrh9qhkj"
      },
      "source": [
        "(1 балл) Выберете для нас 5 наиболее интересных специальностей и получите по ним имеющиеся вакансии:"
      ]
    },
    {
      "cell_type": "code",
      "execution_count": 5,
      "metadata": {
        "id": "39uzCv2GOXDE"
      },
      "outputs": [],
      "source": [
        "from random import random\n",
        "\n",
        "def request_vacancies(params):\n",
        "  sleep(0.3 + random())\n",
        "  return requests.get(URL, params).json()"
      ]
    },
    {
      "cell_type": "code",
      "execution_count": 6,
      "metadata": {
        "id": "I3y9XbBUOovj"
      },
      "outputs": [],
      "source": [
        "def get_vacancies(profession: str):\n",
        "  params = {\n",
        "    'text': profession,\n",
        "    'area': 1,\n",
        "    'page': 0,\n",
        "    'per_page': 100\n",
        "  }\n",
        "\n",
        "  initial_data = request_vacancies(params)\n",
        "  no_pages = initial_data['pages']\n",
        "\n",
        "  result = []\n",
        "  for page_i in range(no_pages):\n",
        "    params['page'] = page_i\n",
        "    result += request_vacancies(params)['items']\n",
        "  return result"
      ]
    },
    {
      "cell_type": "code",
      "execution_count": 7,
      "metadata": {
        "id": "jeCRfVF3PFJP"
      },
      "outputs": [],
      "source": [
        "interesting_professions = ['Python-программист', 'Охранник', 'Ветеринар', 'Машинист', 'Продавец']"
      ]
    },
    {
      "cell_type": "code",
      "execution_count": 8,
      "metadata": {
        "id": "lGkniHwaPRXM"
      },
      "outputs": [],
      "source": [
        "profession_vacancies = dict()\n",
        "for profession in interesting_professions:\n",
        "  profession_vacancies[profession] = get_vacancies(profession)"
      ]
    },
    {
      "cell_type": "code",
      "execution_count": 9,
      "metadata": {
        "id": "W10JVzBnVF-u"
      },
      "outputs": [],
      "source": [
        "import itertools\n",
        "\n",
        "vacancies = list(itertools.chain.from_iterable(profession_vacancies.values()))"
      ]
    },
    {
      "cell_type": "markdown",
      "metadata": {
        "id": "g0bdgyNWquuY"
      },
      "source": [
        "(1 балл) Посчитайте сколько всего найдено вакансий:"
      ]
    },
    {
      "cell_type": "code",
      "execution_count": 10,
      "metadata": {
        "colab": {
          "base_uri": "https://localhost:8080/"
        },
        "id": "lxyXtIs6q5cc",
        "outputId": "032742be-aadd-45b8-e82e-0b83d59bebfa"
      },
      "outputs": [
        {
          "output_type": "execute_result",
          "data": {
            "text/plain": [
              "4607"
            ]
          },
          "metadata": {},
          "execution_count": 10
        }
      ],
      "source": [
        "len(vacancies)"
      ]
    },
    {
      "cell_type": "markdown",
      "metadata": {
        "id": "wQeULnNyq5wk"
      },
      "source": [
        "(1 балл) Создайте структуру данных, которая будет хранить в себе имя компании и ее координаты (широта и долгота):"
      ]
    },
    {
      "cell_type": "code",
      "execution_count": 11,
      "metadata": {
        "id": "4olkB-icaSbw"
      },
      "outputs": [],
      "source": [
        "from typing import Optional\n",
        "\n",
        "\n",
        "def vacancy_latitude(vacancy) -> Optional[float]:\n",
        "  return (None if vacancy['address'] is None \n",
        "          else vacancy['address']['lat'])\n",
        "\n",
        "def vacancy_longitude(vacancy) -> Optional[float]:\n",
        "  return (None if vacancy['address'] is None \n",
        "          else vacancy['address']['lng'])"
      ]
    },
    {
      "cell_type": "code",
      "execution_count": 12,
      "metadata": {
        "id": "aR501yltVdLm"
      },
      "outputs": [],
      "source": [
        "from dataclasses import dataclass\n",
        "\n",
        "\n",
        "@dataclass(frozen=True)\n",
        "class Company:\n",
        "  name: str\n",
        "  latitude: Optional[float]\n",
        "  longitude: Optional[float]\n",
        "\n",
        "  def coordinated(self) -> bool:\n",
        "    return self.latitude is not None and self.longitude is not None\n",
        "\n",
        "  def from_vacancy(vacancy):\n",
        "    name = vacancy['employer']['name']\n",
        "    lat = vacancy_latitude(vacancy)\n",
        "    lng = vacancy_longitude(vacancy)\n",
        "    return Company(name, lat, lng)"
      ]
    },
    {
      "cell_type": "markdown",
      "metadata": {
        "id": "ccIi3wIvVkG0"
      },
      "source": [
        "(1 балл) Создайте экземпляр этой структуры данных для каждой компании, которая выставила вакансию:"
      ]
    },
    {
      "cell_type": "code",
      "execution_count": 13,
      "metadata": {
        "id": "tR6mYW7jtcCQ"
      },
      "outputs": [],
      "source": [
        "companies = set(Company.from_vacancy(vacancy) for vacancy in vacancies)"
      ]
    },
    {
      "cell_type": "markdown",
      "metadata": {
        "id": "SyBpNd0vtcNu"
      },
      "source": [
        "(1 балл) Найдите количество вакансий, у которых заданы координаты (значения данных может быть пустым):"
      ]
    },
    {
      "cell_type": "code",
      "execution_count": 14,
      "metadata": {
        "id": "lVgNCVALt2qJ"
      },
      "outputs": [],
      "source": [
        "def coordinated_vacancy(vacancy) -> bool:\n",
        "  return Company.from_vacancy(vacancy).coordinated()"
      ]
    },
    {
      "cell_type": "code",
      "execution_count": 15,
      "metadata": {
        "colab": {
          "base_uri": "https://localhost:8080/"
        },
        "id": "vddqgmO_Y0HM",
        "outputId": "b254b050-aa7e-4647-ecc7-09d0fb8e59a0"
      },
      "outputs": [
        {
          "output_type": "execute_result",
          "data": {
            "text/plain": [
              "2979"
            ]
          },
          "metadata": {},
          "execution_count": 15
        }
      ],
      "source": [
        "coordinated_vacancies = list(filter(coordinated_vacancy, vacancies))\n",
        "len(coordinated_vacancies)"
      ]
    },
    {
      "cell_type": "markdown",
      "metadata": {
        "id": "aWNXrM-cu5Vi"
      },
      "source": [
        "(1 балл) Отберите вакансии, которые расположены в пределах МКАД (можно грубо):"
      ]
    },
    {
      "cell_type": "code",
      "execution_count": 16,
      "metadata": {
        "id": "01g9wVEyyn-J"
      },
      "outputs": [],
      "source": [
        "import math\n",
        "\n",
        "CREMLIN_LAT = 55.751999\n",
        "CREMLIN_LNG = 37.617734\n",
        "CREMLIN_COORDS = (CREMLIN_LAT, CREMLIN_LNG)\n",
        "NOVOGIREEVO_COORDS = (55.7509995, 37.8050003)\n",
        "CONTROL_DISTANCE = math.dist(CREMLIN_COORDS, NOVOGIREEVO_COORDS)"
      ]
    },
    {
      "cell_type": "code",
      "execution_count": 17,
      "metadata": {
        "id": "LJTTSU55ZZIN"
      },
      "outputs": [],
      "source": [
        "def vacancy_in_MRR(vacancy) -> bool:\n",
        "  \"\"\"Вакансия в пределах МКАД, если она не дальше от Кремля, чем ст. Новогиреево\"\"\"\n",
        "  coords = (vacancy_latitude(vacancy), vacancy_longitude(vacancy))\n",
        "  return math.dist(CREMLIN_COORDS, coords) < CONTROL_DISTANCE"
      ]
    },
    {
      "cell_type": "code",
      "execution_count": 18,
      "metadata": {
        "id": "Wq5wxphsZ1mS"
      },
      "outputs": [],
      "source": [
        "vacancies_in_MRR = list(filter(vacancy_in_MRR, coordinated_vacancies))"
      ]
    },
    {
      "cell_type": "markdown",
      "metadata": {
        "id": "4LCb9IL_bgB_"
      },
      "source": [
        "(1 балл) Постройте график в координатах \"широта-долгота\" для отображения вакансий внутри МКАД (не забывайте прописать прозрачность, чтобы увидеть скопления):"
      ]
    },
    {
      "cell_type": "code",
      "execution_count": 19,
      "metadata": {
        "colab": {
          "base_uri": "https://localhost:8080/",
          "height": 447
        },
        "id": "6ogiXDvKcDV8",
        "outputId": "45aa170e-f27c-4b11-8525-aefe18e9efea"
      },
      "outputs": [
        {
          "output_type": "execute_result",
          "data": {
            "text/plain": [
              "<matplotlib.collections.PathCollection at 0x7fc76cf43640>"
            ]
          },
          "metadata": {},
          "execution_count": 19
        },
        {
          "output_type": "display_data",
          "data": {
            "text/plain": [
              "<Figure size 640x480 with 1 Axes>"
            ],
            "image/png": "[encoded data removed]"
          },
          "metadata": {}
        }
      ],
      "source": [
        "latitudes = list(map(vacancy_latitude, vacancies_in_MRR))\n",
        "longitudes = list(map(vacancy_longitude, vacancies_in_MRR))\n",
        "\n",
        "plt.scatter(latitudes, longitudes, alpha=0.3)\n",
        "plt.scatter(CREMLIN_LAT, CREMLIN_LNG, color='red')"
      ]
    },
    {
      "cell_type": "markdown",
      "metadata": {
        "id": "YvS8b7eqt214"
      },
      "source": [
        "(1 балл) Нанесите все точки вакансий на карту (для этого вам поможет данная <a target=\"_blank\" href=\"https://plotly.com/python/mapbox-layers/\">документации</a>, не забудьте про прозрачность и центрирование по Москве): "
      ]
    },
    {
      "cell_type": "code",
      "execution_count": 20,
      "metadata": {
        "colab": {
          "base_uri": "https://localhost:8080/",
          "height": 817
        },
        "id": "1ceHEBdAys8o",
        "outputId": "96b71a48-2db6-4993-f914-94b81f7ec81d"
      },
      "outputs": [
        {
          "output_type": "display_data",
          "data": {
            "text/html": [
              "<html>\n",
              "<head><meta charset=\"utf-8\" /></head>\n",
              "<body>\n",
              "    <div>            <script src=\"https://cdnjs.cloudflare.com/ajax/libs/mathjax/2.7.5/MathJax.js?config=TeX-AMS-MML_SVG\"></script><script type=\"text/javascript\">if (window.MathJax && window.MathJax.Hub && window.MathJax.Hub.Config) {window.MathJax.Hub.Config({SVG: {font: \"STIX-Web\"}});}</script>                <script type=\"text/javascript\">window.PlotlyConfig = {MathJaxConfig: 'local'};</script>\n",
              "        <script src=\"https://cdn.plot.ly/plotly-2.18.2.min.js\"></script>                <div id=\"f4edf0f7-0f2c-444b-87e2-9668d841389a\" class=\"plotly-graph-div\" style=\"height:800px; width:700px;\"></div>            <script type=\"text/javascript\">                                    window.PLOTLYENV=window.PLOTLYENV || {};                                    if (document.getElementById(\"f4edf0f7-0f2c-444b-87e2-9668d841389a\")) {                    Plotly.newPlot(                        \"f4edf0f7-0f2c-444b-87e2-9668d841389a\",                        [{\"hovertemplate\":\"0=%{lat}<br>1=%{lon}<extra></extra>\",\"lat\":[55.761685,55.776613,55.746927,55.771535,55.691958,55.788353,55.749511,55.736686,55.695022,55.776006,55.782906,55.771591,55.800559,55.7267,55.736179,55.695905,55.695022,55.772168,55.777793,55.80865,55.75129,55.684838,55.682808,55.698584,55.773039,55.786187,55.664472,55.755181,55.773631,55.729954,55.781737,55.789461,55.709444,55.796931,55.684509061076035,55.684509061076035,55.755181,55.804471,55.755864,55.760287,55.683787,55.776613,55.759669,55.734445,55.713988,55.741338,55.739645,55.732398,55.755864,55.695905,55.796931,55.75052,55.785341,55.741338,55.722649,55.75052,55.773631,55.768208,55.80525,55.709444,55.7994936462076,55.699862,55.691958,55.75052,55.75052,55.62331,55.681712,55.748235,55.69533872471896,55.748762,55.656682,55.80355,55.74674,55.762237,55.749511,55.804936,55.755181,55.708303,55.737633,55.678103,55.765007,55.72815,55.88198,55.769955,55.791349,55.718334,55.708673,55.691684,55.747115,55.684509061076035,55.794887,55.737502,55.726249,55.754836,55.763331,55.741338,55.62331,55.837161,55.701775,55.761831,55.780649613310786,55.691684,55.749451,55.789628,55.804471,55.824921,55.762424,55.778669,55.749451,55.772411,55.658743,55.65015,55.751857,55.771591,55.803519,55.710129,55.701775,55.736204,55.755864,55.755576,55.775535,55.654376,55.73402,55.806429,55.740421,55.681666,55.713304,55.736174,55.747115,55.800726,55.723668,55.731039,55.800726,55.751832,55.734988,55.73153518910342,55.841215,55.723435,55.691684,55.722152,55.741338,55.775535,55.701775,55.684509061076035,55.762885,55.768269,55.7917349819094,55.78728042428379,55.768269,55.780942,55.755333,55.806429,55.764931,55.741338,55.764931,55.768269,55.77317,55.723567,55.737355,55.75553,55.695905,55.658743,55.80525,55.806429,55.704808,55.67463426053203,55.857159,55.803519,55.774527,55.778335,55.803241,55.772405,55.782906,55.790762,55.730639,55.79049179807263,55.684509061076035,55.726639,55.737182,55.678418,55.708354,55.750479,55.768127,55.755023,55.800726,55.796663,55.75553,55.796471,55.75553,55.704808,55.691734,55.749451,55.723328,55.723328,55.764744,55.723247,55.803099,55.811685,55.682803,55.779565,55.767798,55.755819,55.773449,55.78932,55.681747,55.820177,55.821391,55.760707,55.77355,55.760786,55.919155,55.733898,55.820177,55.75785,55.844041,55.756726,55.73182,55.740887,55.643978,55.749511,55.712675,55.73440895084381,55.73343923796667,55.769195,55.762277,55.65079,55.748123,55.771256,55.759577,55.774968,55.749243,55.757941,55.781302,55.77392,55.8118769592117,55.75044266578962,55.733041,55.755353,55.740254,55.729017,55.764794,55.61813,55.690126,55.740071,55.742747,55.885292,55.773449,55.772502,55.808548,55.823315831588594,55.750028,55.802497,55.760786,55.693043,55.755864,55.760986,55.726882,55.685437,55.78358840942383,55.84024,55.734866,55.746593,55.815676,55.767048,55.648468,55.810319,55.755864,55.794057,55.764006196592035,55.56940286198924,55.744004,55.747115,55.712484716329186,55.792361,55.76237640928895,55.727932,55.764698,55.749646,55.733229,55.762277,55.742676,55.758625,55.65724,55.79279517508274,55.776421,55.905366,55.766167,55.743755,55.73778,55.697295,55.724449,55.756569,55.747586,55.781443,55.77396,55.701298,55.682229,55.847745,55.82041,55.893778,55.886342,55.7195,55.749646,55.765741,55.758686,55.705534,55.805467,55.730953,55.750479,55.743755,55.757182,55.931542,55.748179,55.723328,55.781742,55.802831,55.880298,55.58354,55.68367539974933,55.747115,55.772411,55.663827,55.727516,55.774765,55.760818,55.720312,55.730492,55.776001,55.769038,55.739656,55.782906,55.764673,55.684168,55.770446,55.849534,55.799816,55.724449,55.756964,55.671575,55.715616,55.738302,55.80503491484513,55.728996,55.724449,55.692044,55.755864,55.731065,55.682651,55.912985,55.755864,55.79848,55.818928,55.656682,55.789269,55.76410861554639,55.6124,55.886074,55.727334,55.663517,55.818923,55.75171334881212,55.783443,55.715418,55.753433,55.790109,55.690126,55.793627,55.735307,55.760013,55.803702,55.762272,55.832808,55.75286202819153,55.604376,55.776001,55.792194,55.800281,55.739732,55.739696,55.721508,55.790231,55.755864,55.731658,55.740036,55.749633,55.777449,55.743928,55.694616,55.725944,55.802953,55.740193,55.755863189697266,55.757222,55.880298,55.766754,55.889457,55.859494,55.905366,55.742686,55.654076,55.756143,55.790489,55.64122204337004,55.697189,55.737846,55.782066,55.645756,55.720043,55.753093,55.612934,55.621277,55.779565,55.799816,55.718441,55.860145,55.806105,55.6706950633427,55.610845,55.782066,55.753413,55.629567,55.752708,55.80611,55.826685,55.612182,55.712563,55.722953,55.757339,55.799816,55.621175,55.741571,55.673453,55.737583,55.78358840942383,55.816227,55.915185,55.844041,55.776001,55.612182,55.771145,55.724449,55.630345,55.68335414119704,55.809934,55.77954,55.690126,55.790231,55.792326,55.774629,55.788571,55.653136,55.781443,55.688649,55.721853,55.705483,55.690126,55.797716,55.70742,55.755864,55.819064,55.889275,55.776097,55.63316,55.572207,55.697189,55.738723,55.783721,55.870248,55.773413,55.712475252205806,55.652796,55.76288,55.612045,55.612599,55.738637,55.664593,55.666624,55.690278,55.80024862108433,55.745068,55.818877,55.819494,55.659967,55.771418,55.697691,55.731014,55.618939,55.707202,55.728996,55.724449,55.75476,55.732469,55.75131,55.849534,55.749511,55.749162,55.749646,55.755773,55.789775,55.612182,55.782066,55.71249683040715,55.592464,55.782066,55.797716,55.663629,55.885469,55.612329,55.755864,55.757339,55.775327,55.751477,55.67691,55.786612,55.621409,55.731029,55.744637,55.600318,55.7385,55.755864,55.747956,55.786612,55.724449,55.745605,55.733193,55.736645,55.776001,55.737846,55.739696,55.714932,55.803469,55.605643,55.61813,55.718218,55.720043,55.746664,55.726031,55.731718,55.889275,55.67691,55.74906,55.90968,55.897327,55.665716,55.890108,55.673133,55.755864,55.662136,55.735720481735584,55.865409,55.766491,55.76835,55.871748,55.786521,55.712142,55.844041,55.808801,55.887428,55.873885,55.639756,55.761619,55.779671,55.66932,55.90968,55.754355,55.65079,55.794614,55.843404,55.807921,55.726015,55.811675,55.78081364861184,55.865,55.75932184773512,55.795449,55.683046,55.723582,55.682803,55.802305,55.728849,55.773434,55.618649,55.743522,55.81211,55.867738,55.748179,55.755864,55.754345,55.763711,55.856376,55.654802,55.87096,55.708841,55.732433,55.732433,55.662999,55.710915,55.787371,55.755864,55.762753,55.606955,55.802857,55.653782,55.607255,55.802857,55.755348,55.856376,55.754684,55.604041,55.666599,55.771104,55.782081,55.805791,55.748179,55.623625,55.672488,55.77636,55.730942865047005,55.884545,55.884545,55.655158,55.795449,55.732433,55.641122,55.87452161249809,55.666599,55.651689,55.66932,55.729873,55.60102,55.773337,55.659053,55.811675,55.674971,55.780223,55.795449,55.820582,55.808634,55.666599,55.653167,55.669823,55.718182,55.67782596762655,55.687112,55.856558,55.786764,55.61268,55.606955,55.738809,55.695956,55.805665,55.653304,55.65079,55.726036,55.785539,55.853289,55.842823,55.842823,55.797483,55.705057,55.86387067256524,55.655158,55.683046,55.866561,55.730629,55.762753,55.816227,55.60102,55.708364,55.847139,55.836772,55.781585,55.739747,55.781939,55.816202,55.811675,55.880783,55.795449,55.653782,55.726811,55.869718,55.742711,55.645588,55.584115,55.61268,55.723876,55.653167,55.802305,55.79151215781065,55.646914,55.780223,55.761918,55.653782,55.87041,55.793632,55.647178,55.810668,55.739595,55.811675,55.636306,55.666599,55.86387067256524,55.718623,55.822357,55.796203,55.784233,55.811675,55.651689,55.732433,55.60667,55.867738,55.83572,55.89291204790074,55.795995,55.653304,55.787371,55.735003,55.880303,55.725595,55.889684,55.863949,55.802305,55.621404,55.709622,55.586939,55.717852,55.687822,55.728413,55.710915,55.687822,55.802305,55.654874,55.724216,55.822357,55.762672,55.755864,55.781939,55.866273,55.891825,55.710915,55.771393,55.825709,55.725017,55.792022,55.65754,55.639959,55.804815,55.730629,55.699999,55.730942865047005,55.663715,55.681686,55.653314,55.681189,55.87101119263409,55.811675,55.89291204790074,55.747551,55.839855,55.730629,55.869713,55.717852,55.618939,55.683128,55.816202,55.795322,55.712152,55.772436,55.66469,55.835604,55.795322,55.643851,55.610845,55.772497,55.739225,55.811675,55.795322,55.73846,55.761685,55.582655,55.861802,55.726862,55.606955,55.728408,55.811675,55.794578,55.708841,55.781939,55.65465,55.855532,55.87096,55.666599,55.85578,55.751999,55.811675,55.666599,55.739595,55.569673,55.652822,55.839855,55.891825,55.811675,55.811675,55.600318,55.662379,55.869713,55.730629,55.738809,55.869713,55.858321,55.827697,55.706061,55.708841,55.866561,55.694616,55.666599,55.724059,55.78894,55.738809,55.891825,55.811675,55.728408,55.75593,55.84024,55.569673,55.618939,55.705057,55.569673,55.738809,55.6604846505861,55.864793,55.610845,55.610845,55.755864,55.661333,55.812782,55.802219,55.708354,55.607372,55.751209,55.708354,55.706563,55.791582,55.748123,55.682651,55.887771,55.883323,55.591528,55.658449,55.734978,55.58314399998784,55.675682,55.750884,55.667066,55.708354,55.785979,55.745808,55.736199,55.702384,55.900658,55.703916,55.708283,55.601071,55.710362,55.851394,55.638496,55.696976,55.645725,55.65949,55.68474864928031,55.762414,55.638496,55.636107,55.722467,55.741667,55.820207,55.772178,55.733624,55.585337,55.707233,55.682676,55.878273,55.884868,55.702384,55.718202,55.637535,55.727709,55.874728,55.587097,55.88507,55.714465,55.745813,55.772279,55.847169,55.736681,55.8134,55.707233,55.830176,55.728221,55.707263,55.877657,55.851449,55.792397,55.714364,55.830176,55.779768,55.884868,55.854062,55.669336,55.569673,55.830176,55.64886,55.820111,55.784045,55.569667,55.612599,55.655823,55.708354,55.791547,55.828197,55.646817,55.858090997485746,55.742058,55.656235,55.717472,55.675682,55.748067,55.647051,55.6916108155213,55.714465,55.587499,55.84117,55.905526672135124,55.884868,55.731947,55.793865,55.64189,55.851854,55.848352,55.80653,55.741845351624875,55.858933,55.883479,55.661552,55.730426,55.728221,55.656773,55.576956,55.720945,55.893071,55.675440443037196,55.618649,55.605643,55.887473,55.58696,55.888851,55.621607,55.625786,55.67592,55.784217,55.784192,55.818665,55.784045,55.851131,55.80680226477512,55.852071,55.772178,55.858933,55.704458,55.675022,55.878273,55.582355,55.719592,55.636443,55.690004,55.642748,55.896231,55.721828,55.703875,55.877329,55.578091,55.905669,55.588608,55.846113,55.810359,55.854062,55.735317,55.731536,55.814588,55.888957,55.80653,55.687639,55.80653,55.812681,55.813566,55.692389,55.650551,55.739605,55.826685,55.783625,55.755864,55.727709,55.70005,55.682651,55.915972,55.702698,55.569667,55.662334,55.629531,55.914403,55.73639655924947,55.813212,55.649281,55.636107,55.900658,55.902717,55.569667,55.81002,55.647051,55.861125,55.821558,55.682676,55.769636,55.740765,55.811563,55.877758,55.888957,55.791071,55.896383,55.830376,55.656235,55.884868,55.718202,55.810359,55.647051,55.650028,55.726264,55.657672,55.718202,55.830176,55.830176,55.854062,55.810359,55.739605,55.754203,55.75399,55.775424,55.854062,55.645725,55.854062,55.878273,55.821335,55.629531,55.656235,55.810359,55.820329,55.887771,55.878273,55.597231,55.579012,55.579012,55.579012,55.806808,55.783625,55.826685,55.863217,55.690775,55.682651,55.765194,55.740892,55.770401,55.75207,55.767899,55.812771658301614,55.765853,55.747368,55.845855,55.80598988943795,55.794806,55.763503,55.754983,55.727911,55.755864,55.704864,55.743928,55.749299,55.79347,55.719419,55.760276,55.781322,55.832955,55.790464,55.864055,55.76736571719654,55.762632,55.763594,55.749646,55.761426,55.772411,55.78725,55.730999,55.76288,55.806039,55.760494,55.877374,55.749618,55.773986,55.74975,55.745073,55.694358,55.805133,55.786516,55.784754,55.743928,55.805837,55.790458,55.7755,55.769671,55.792169,55.762394,55.612329,55.796132,55.751148,55.805093,55.757116,55.732357,55.741561,55.779565,55.69587,55.612329,55.764394,55.753215,55.735844,55.883873,55.74187578333581,55.752055,55.793186,55.749451,55.790231,55.748807,55.86296724084883,55.728129,55.708734,55.74148,55.729245,55.68906,55.757131,55.823216,55.749162,55.747241,55.79498724134073,55.73641276956664,55.761913,55.767899,55.822888,55.754983,55.677956,55.775965,55.758549,55.743988,55.616869,55.709992,55.739549,55.738571,55.76288,55.764759,55.869571,55.749618,55.753215,55.671443,55.826023,55.727927,55.890078,55.803332,55.747586,55.749557,55.775809284561454,55.729818,55.785604,55.771626,55.662034,55.782982,55.764496,55.74396875906548,55.706883,55.746096,55.770709,55.758701,55.807921,55.757339,55.708242,55.755864,55.764794,55.796172,55.733361,55.746203,55.6366,55.76956,55.913061,55.747586,55.737552,55.786759,55.737527,55.75584711200045,55.85578,55.646426,55.57405,55.889841,55.761457,55.79516,55.69830747206199,55.755864,55.776537,55.773793,55.785539,55.791653,55.891204,55.77123269345155,55.869071,55.73811,55.635564,55.71124,55.670021,55.739514,55.746218,55.867,55.72125,55.703479,55.769104,55.755864,55.775084,55.845981,55.807602,55.727932,55.747363,55.668935,55.763862,55.77753,55.776132,55.743522,55.719485,55.746476,55.747941,55.86495,55.86496,55.795398,55.857766,55.850964,55.90968,55.76172,55.860827,55.84069484688786,55.776512,55.794401,55.775484,55.86929125220291,55.805037,55.662882,55.70985036933747,55.749646,55.742661,55.774958,55.759091,55.817395,55.726446,55.775646,55.790231,55.757734,55.80744,55.854062,55.727932,55.710692,55.787715,55.79021,55.733918,55.752541,55.62301,55.707867,55.719881,55.758293582524786,55.809343,55.775054,55.774958,55.809474,55.845855,55.763878,55.764222,55.803469,55.757789,55.826023,55.838132,55.640497627130316,55.76288,55.690283,55.662994,55.825482,55.634552,55.69076,55.602647,55.778137,55.594585,55.778628,55.753215,55.794811,55.649164,55.889926,55.844041,55.729873,55.856356,55.735601,55.74903,55.73846,55.753316,55.790109,55.747069,55.809469,55.756214,55.778208,55.727932,55.771297,55.742737,55.777626,55.76288,55.749162,55.774872,55.655158,55.755864,55.757121,55.765331,55.82318819421099,55.890749,55.78000879073442,55.707182,55.762308,55.757339,55.77392,55.728256,55.705042,55.71771,55.620377,55.712655,55.607489,55.720154,55.75123318489651,55.818923,55.86208,55.727491,55.653319,55.849686,55.805796,55.749547,55.60667,55.749299,55.721655,55.708009,55.711067,55.845855,55.706883,55.690278,55.706883,55.772406,55.845855,55.742635,55.75207,55.715768,55.705042,55.749101,55.720798,55.65015,55.829633,55.840245,55.790231,55.749162,55.793586,55.753215,55.863171,55.766805,55.751148,55.71718169250166,55.744637,55.76326,55.64991760253906,55.770476,55.692972,55.599611,55.601203,55.786607,55.853541,55.622278,55.705483,55.612182,55.680433,55.753215,55.71769,55.612599,55.765022,55.905366,55.724226,55.61565397043663,55.88667,55.863106,55.796294,55.905366,55.775646,55.678915,55.743928,55.909247,55.744637,55.606619,55.743117,55.809474,55.662222,55.869268,55.65596,55.691963,55.753215,55.653319,55.871602,55.782086,55.699949,55.80355473317823,55.717235790671424,55.841786,55.753215,55.783195,55.795433,55.86233923656296,55.756705,55.755657,55.755687,55.802462,55.763341,55.710124,55.741328,55.755864,55.586639,55.802153,55.799608,55.594056,55.752055,55.739549,55.802801,55.759076,55.780345,55.776953,55.600893,55.785518,55.824005,55.763538,55.760661,55.611119,55.768664,55.875652,55.789704,55.734714,55.913273,55.673727,55.898376,55.787654,55.775849,55.757911,55.749633,55.739129,55.811563,55.880298,55.744637,55.755864,55.802153,55.883868,55.79013428203236,55.739493,55.619472,55.640609,55.731014,55.622278,55.685548,55.844041,55.77435,55.612329,55.871602,55.642748,55.766471067035475,55.819064,55.793586,55.863212,55.604417,55.762373,55.72997,55.795069,55.888296,55.733974,55.800979,55.7447954026729,55.823211,55.727136,55.731693,55.61269,55.796086,55.614729,55.690283,55.827029,55.80610733880561,55.684715490216746,55.712589,55.763057,55.886342,55.731673,55.749162,55.796167,55.691963,55.75132,55.880778,55.77221723402417,55.71628,55.64348,55.749618,55.766491,55.624444,55.655209,55.884721,55.753666,55.780011,55.704896604219044,55.843692,55.90968,55.743988,55.695829,55.708734,55.762145,55.743811,55.790231,55.893723,55.676935,55.70916,55.694358,55.775965,55.851106,55.740639,55.790231,55.76214,55.844041,55.733898,55.785129,55.744637,55.826488,55.755864,55.86502,55.610814,55.800448,55.758949,55.69076,55.804825,55.744637,55.790231,55.785513,55.913061,55.815585004053816,55.721762,55.812803,55.777388,55.612045,55.823879,55.82668,55.823216,55.584589,55.640604,55.859903,55.728996,55.61191176959014,55.750358,55.719957,55.844895,55.821097,55.83115,55.863171,55.790231,55.612329,55.731014,55.823211,55.652603,55.786171,55.892385,55.864583232037866,55.756239,55.804972,55.719455,55.690283,55.803469,55.770552,55.712589,55.806808,55.76336867573662,55.751148,55.641534,55.682651,55.611119,55.699441,55.879192,55.70441531706066,55.633013,55.72088,55.724738,55.625567,55.705762,55.766764,55.858594,55.685107,55.612329,55.755804,55.73888744129858,55.816616023544874,55.77431,55.690278,55.75322,55.802153,55.766805,55.794614,55.770264,55.712234,55.719105,55.622014,55.753215,55.743988,55.817628,55.885746,55.787715,55.727932,55.889881,55.796203,55.730218,55.654462,55.75205,55.897801,55.766734,55.764283,55.737324,55.744632,55.762399,55.905366,55.744637,55.789497,55.770785,55.895045,55.863171,55.75399,55.710129,55.767332,55.768552,55.61222918148027,55.81126,55.751499523535074,55.804294,55.785513,55.88557,55.74789,55.632764155833655,55.680077,55.677951,55.762718,55.762981,55.762313,55.844041,55.763371,55.757339,55.757604418685226,55.740639,55.790231,55.896852,55.744632,55.727425,55.834426,55.749162,55.731014,55.790231,55.663024,55.73218,55.84024,55.710631,55.779849,55.786779,55.683696,55.92351150512695,55.886761,55.729595083522405,55.692612,55.718623,55.77109359299951,55.762399,55.612329,55.759375,55.882883,55.748924,55.76334762573242,55.761153,55.619467,55.786996,55.755864,55.760256,55.682173,55.855179,55.845855,55.87294,55.746405,55.749415,55.740654,55.744632,55.645121,55.631168,55.74903,55.652085,55.660297,55.700035,55.736909,55.754694,55.77859090636308,55.746167,55.749646,55.776132,55.612126,55.823879,55.705463,55.781469,55.732357,55.780324,55.90201,55.710372,55.823216,55.709992,55.678108,55.790464,55.838,55.797377,55.638475,55.689141,55.705463,55.758453,55.7364352,55.863837524995866,55.755864,55.905447,55.680783,55.767332,55.866334,55.682706,55.674575,55.760241,55.81304,55.771145,55.600918,55.712142,55.785518,55.659647,55.727932,55.761948,55.703611,55.818109,55.784835,55.807946,55.755864,55.755778,55.807602,55.789563,55.636905,55.911542,55.845249,55.869577,55.612329,55.666624,55.678499,55.785736,55.737061,55.804294,55.768405,55.791142,55.633368,55.728211,55.675798,55.612329,55.78099488021231,55.691963,55.844041,55.790231,55.709485,55.755773,55.790231,55.76523,55.790231,55.863833,55.61753,55.612614,55.794624,55.746481,55.799178,55.601203,55.863106,55.751148,55.863171,55.757339,55.796167,55.708486,55.74903,55.747089,55.710687,55.768907,55.748067,55.580676,55.74149,55.90199998808812,55.771145,55.792701,55.749162,55.753215,55.785518,55.67836957769015,55.797534,55.646914,55.767099,55.887473,55.703875,55.913273,55.819454,55.773317,55.834472,55.699807,55.808832,55.854997,55.75207,55.848513,55.658835,55.645141,55.713654,55.749646,55.744632,55.621409,55.823211,55.653294,55.749299,55.693297,55.904079,55.743325,55.75745,55.705042,55.75240894190869,55.880101,55.749243,55.781433,55.6777980019531,55.613311605529205,55.775307,55.568558,55.854997,55.755799,55.672428,55.739346,55.73143,55.755864,55.638318,55.759309,55.878273,55.710124,55.71807,55.767418,55.756852,55.690836,55.678945,55.737725,55.758899,55.777388,55.636107,55.82937,55.751817,55.582655,55.847189,55.747363,55.743401,55.794426,55.778926,55.618649,55.639034,55.789684,55.605714,55.845855,55.885575,55.792326,55.781818,55.744632,55.732945,55.663745,55.710124,55.897236,55.755864,55.658342519369846,55.727927,55.845855,55.82047,55.824804,55.74906,55.820025132247785,55.767058,55.875971,55.729868,55.754593,55.731014,55.621409,55.905366,55.858544,55.625349,55.607489,55.642159,55.747368,55.70529,55.78365,55.782744,55.792346,55.84024,55.653319,55.612111,55.661445,55.782071,55.612045,55.673976,55.781585,55.786602,55.649825,55.612329,55.797534,55.582548,55.690283,55.675682,55.621409,55.790464,55.749162,55.83566,55.727932,55.612182,55.855078,55.7536,55.762348,55.697985,55.729873,55.610138,55.7956412,55.612329,55.670077,55.755773,55.781529,55.788216,55.755429,55.76618645296725,55.74430251367974,55.747069,55.777201,55.705463,55.914696,55.798485,55.755763,55.925117,55.823879,55.790464,55.7325416988542,55.768127,55.84024,55.87044906616211,55.653314,55.753747,55.804567,55.702942,55.764693147947256,55.776234,55.845855,55.725559,55.793445,55.83705,55.679945,55.879324,55.84568598607146,55.790231,55.75104081211102,55.813703,55.855078,55.65946,55.755773,55.778011,55.910922,55.721762,55.90580556360174,55.854891,55.612182,55.739225,55.854032,55.753215,55.8637485323403,55.845784,55.773707,55.823211,55.727932,55.754638,55.787346,55.736878,55.659653,55.785518,55.708354,55.818923,55.74906,55.78238,55.757339,55.772097,55.823707,55.774664,55.707573,55.890987,55.749511,55.90968,55.74108,55.749162,55.664827,55.818923,55.731014,55.790231,55.78486,55.757222,55.804501,55.796167,55.809142691147,55.823211,55.764475,55.885575,55.699781,55.867879,55.858043,55.839891,55.617342,55.777094,55.760135,55.604286,55.807805,55.588949,55.798151,55.694369438501475,55.644379,55.765752,55.71514639808091,55.880682,55.845855,55.675565,55.790018,55.758732,55.744637,55.692612,55.691739,55.794958,55.74869316140298,55.807977,55.733984,55.867672,55.850995,55.637337,55.804972,55.729873,55.691958,55.755444,55.790231,55.682808,55.607473,55.744632,55.755018,55.743654,55.729747,55.74597,55.720859,55.6683388,55.749162,55.621719,55.844041,55.72965,55.729873,55.757339,55.596696,55.758949,55.749162,55.73001,55.67691,55.639187,55.69587,55.856902,55.744632,55.801318,55.612126,55.763437,55.795403,55.640838,55.6678072,55.845855,55.762622,55.861156,55.78939437866211,55.832515,55.683909,55.730603,55.886029,55.607489,55.815691,55.781053,55.741161,55.809474,55.739696,55.746324,55.755864,55.675484,55.656357,55.707451,55.90604505895334,55.806919,55.80615,55.80957,55.663634,55.589274,55.910765,55.73926,55.609787,55.894217,55.61813,55.659647,55.569846,55.762373,55.805093,55.718623,55.687812,55.785518,55.677956,55.795499,55.61813,55.909065,55.755863189697266,55.61813,55.723379,55.825153,55.685102,55.795778,55.825527,55.746481,55.757789,55.822276,55.822878,55.846133,55.717847,55.749157,55.777099,55.587926,55.67029,55.744637,55.677336,55.643658,55.649368,55.67825,55.632205,55.694363,55.683696,55.8076915,55.729747,55.570166,55.612329,55.75655724138167,55.760195,55.744632,55.800914,55.654879,55.677956,55.805042,55.612329,55.637078,55.823211],\"legendgroup\":\"\",\"lon\":[37.658527,37.699975,37.654727,37.591045,37.527956,37.567931,37.537083,37.599328,37.66274,37.5531,37.598232,37.665336,37.585691,37.576798,37.533194,37.625361,37.66274,37.648465,37.585556,37.629403,37.65417,37.560188,37.537029,37.624453,37.665713,37.73694,37.599238,37.654529,37.60558,37.663818,37.592384,37.551735,37.442302,37.537847,37.621987233134625,37.621987233134625,37.654529,37.590344,37.617698,37.664824,37.554169,37.699975,37.573474,37.615434,37.718669,37.531127,37.588242,37.68306,37.617698,37.625361,37.537847,37.539401,37.584658,37.531127,37.653146,37.539401,37.60558,37.623393,37.519863,37.442302,37.7979890070856,37.561679,37.527956,37.539401,37.539401,37.511032,37.516449,37.638889,37.664888906744956,37.58217,37.540075,37.584353,37.53747,37.617069,37.537083,37.589922,37.654529,37.652822,37.618417,37.572378,37.626547,37.646229,37.547656,37.641755,37.707036,37.606784,37.682628,37.66062,37.539087,37.621987233134625,37.712812,37.504789,37.639788,37.560565,37.653262,37.531127,37.511032,37.481271,37.689195,37.683221,37.586471013709115,37.66062,37.542824,37.659326,37.590335,37.516386,37.552022,37.587964,37.542824,37.679044,37.541243,37.539626,37.525288,37.665336,37.584353,37.65461,37.689195,37.585341,37.617698,37.565129,37.60302,37.554627,37.714932,37.705598,37.532071,37.51662,37.695214,37.533185,37.539087,37.554933,37.652993,37.560691,37.554933,37.52527,37.643435,37.6248877815798,37.649579,37.650873,37.66062,37.701439,37.531127,37.60302,37.689195,37.621987233134625,37.557026,37.615982,37.54247681614672,37.63179806613107,37.615982,37.587263,37.606397,37.705598,37.568354,37.531127,37.568354,37.615982,37.665857,37.655149,37.590488,37.654754,37.625361,37.541243,37.519863,37.705598,37.597809,37.503359087713775,37.599795,37.584353,37.587093,37.699633,37.490865,37.67904,37.598232,37.661204,37.62819,37.584445444110415,37.621987233134625,37.645959,37.57254,37.632278,37.652705,37.539527,37.632709,37.509245,37.554933,37.581191,37.654754,37.609919,37.654754,37.597809,37.660548,37.542824,37.621211,37.621211,37.648187,37.564105,37.640632,37.729404,37.564536,37.601421,37.635323,37.617644,37.655329,37.747927,37.631074,37.61768,37.569261,37.665686,37.678963,37.766839,37.667258,37.711347,37.61768,37.587757,37.66265,37.617258,37.637003,37.657691,37.640452,37.537083,37.687488,37.48851992700073,37.643688271104764,37.671804,37.569899,37.587254,37.628613,37.538314,37.770987,37.545312,37.626771,37.569809,37.593327,37.521668,37.625773978595,37.59501272387269,37.580292,37.560071,37.528379,37.679996,37.638683,37.507484,37.578729,37.507924,37.632125,37.553424,37.655329,37.497486,37.512398,37.500212896661594,37.534397,37.64692,37.766839,37.49047,37.617698,37.613889,37.579654,37.621723,37.5601692199707,37.492024,37.566189,37.53738,37.456684,37.651277,37.593201,37.782979,37.617698,37.789501,37.60690619115519,37.583382921460476,37.634955,37.539087,37.66169603306511,37.527615,37.6349636342535,37.476169,37.706757,37.62368,37.562856,37.569899,37.523007,37.65346,37.548294,37.54208970519758,37.528136,37.605023,37.732575,37.656389,37.580948,37.563503,37.640399,37.738584,37.531936,37.481567,37.586293,37.503837,37.577076,37.558077,37.758644,37.614671,37.676026,37.630176,37.62368,37.642411,37.632718,37.768669,37.619405,37.644019,37.539527,37.65638,37.610485,37.605373,37.540245,37.564123,37.633023,37.583742,37.694747,37.636275,37.66047533596723,37.539087,37.679044,37.550244,37.692177,37.727391,37.58128,37.648717,37.647567,37.696992,37.591782,37.606047,37.598232,37.60629,37.48905,37.517006,37.497369,37.502893,37.640399,37.615524,37.594351,37.632727,37.472917,37.51503203439323,37.622747,37.640399,37.555247,37.617698,37.612461,37.661922,37.584658,37.617698,37.686949,37.4978,37.540075,37.510592,37.60689628895753,37.697639,37.534119,37.627813,37.516476,37.497791,37.45716724544763,37.574543,37.646013,37.58358,37.679376,37.578729,37.545087,37.592869,37.601762,37.52271,37.569899,37.518803,37.55663386073031,37.728649,37.696992,37.515964,37.644827,37.605508,37.615398,37.682754,37.531289,37.617698,37.664779,37.637416,37.537434,37.519315,37.568102,37.727346,37.631874,37.747253,37.608868,37.617698669433594,37.659075,37.694747,37.624175,37.597136,37.544692,37.605023,37.566045,37.728802,37.506954,37.747047,37.5485412239591,37.464931,37.628137,37.705284,37.633464,37.621669,37.726996,37.695268,37.728676,37.601421,37.502893,37.633913,37.515919,37.549139,37.4970117361063,37.718669,37.705284,37.791648,37.616521,37.626223,37.585961,37.625001,37.607026,37.662093,37.66565,37.659173,37.502893,37.717806,37.566288,37.780608,37.572225,37.5601692199707,37.599094,37.572109,37.66265,37.696992,37.607026,37.620177,37.640399,37.620627,37.66015347088572,37.727885,37.570267,37.578729,37.531289,37.655742,37.627696,37.578576,37.537973,37.481567,37.62342,37.614392,37.594962,37.578729,37.688369,37.598825,37.617698,37.498016,37.57881,37.663198,37.518973,37.60894,37.464931,37.63756,37.730068,37.712363,37.520303,37.661690668646905,37.606703,37.615264,37.732718,37.604565,37.651133,37.63464,37.51573,37.601879,37.58563456218462,37.603487,37.618354,37.578271,37.599094,37.530301,37.498734,37.639958,37.508346,37.585592,37.622747,37.640399,37.609074,37.728326,37.584622,37.497369,37.537083,37.539742,37.62368,37.614608,37.586033,37.607035,37.705284,37.661706761901314,37.632089,37.705284,37.688369,37.483095,37.602166,37.605966,37.617698,37.659173,37.655643,37.565596,37.505831,37.739617,37.713962,37.612254,37.566072,37.53906,37.756901,37.617698,37.559245,37.739617,37.640399,37.796229,37.575585,37.519386,37.696992,37.628137,37.615398,37.514518,37.618848,37.503271,37.507484,37.610125,37.621669,37.631469,37.687336,37.487362,37.57881,37.505831,37.539347,37.540721,37.604484,37.455696,37.513323,37.513098,37.617698,37.512568,37.58502391534373,37.603496,37.622333,37.615147,37.710898,37.678945,37.656631,37.66265,37.530041,37.639141,37.629224,37.506307,37.550513,37.603999,37.550423,37.540721,37.432178,37.587254,37.799427,37.578442,37.57351,37.756084,37.640848,37.67323292791844,37.675801,37.782717904263954,37.594683,37.666207,37.787695,37.617941,37.594099,37.620321,37.64401,37.506541,37.505508,37.568138,37.667132,37.540245,37.617698,37.432205,37.553855,37.598932,37.491485,37.591153,37.622621,37.534604,37.534604,37.712264,37.747855,37.622819,37.617698,37.52907,37.611203,37.560143,37.552507,37.592402,37.560143,37.759533,37.598932,37.750559,37.724131,37.552148,37.703874,37.736716,37.520339,37.540245,37.716585,37.63146,37.641521,37.459178250331654,37.497252,37.497252,37.762129,37.594683,37.534604,37.595501,37.55996949666896,37.552148,37.765318,37.550423,37.730437,37.602526,37.598447,37.637299,37.640848,37.477687,37.697226,37.594683,37.732916,37.771939,37.552148,37.481082,37.52218,37.605535,37.71721907242087,37.576187,37.599498,37.520222,37.700774,37.611203,37.548402,37.742968,37.499318,37.553963,37.587263,37.75603,37.484891,37.6122,37.578082,37.578082,37.607772,37.605131,37.46899802313672,37.762129,37.666207,37.547126,37.750469,37.794999,37.599094,37.602526,37.521632,37.476699,37.452435,37.479708,37.670672,37.460134,37.703909,37.640848,37.587865,37.594683,37.552507,37.564482,37.677661,37.523097,37.517931,37.676394,37.700774,37.777149,37.481082,37.594099,37.467427574065354,37.746912,37.697226,37.736258,37.552507,37.656029,37.545087,37.746885,37.638305,37.48172,37.640848,37.521129,37.552148,37.46899802313672,37.623268,37.649373,37.719594,37.559541,37.640848,37.765318,37.534595,37.536284,37.667132,37.503576,37.67498404934082,37.488718,37.553963,37.622819,37.569773,37.694747,37.449677,37.580984,37.469979,37.594099,37.713953,37.624885,37.601412,37.5122,37.682727,37.534972,37.747855,37.682727,37.594099,37.583329,37.571282,37.649373,37.529124,37.617698,37.460134,37.708347,37.618704,37.747855,37.64701,37.526169,37.580095,37.775137,37.759839,37.758204,37.726313,37.750469,37.752365,37.459178250331654,37.551986,37.634371,37.64613,37.679251,37.61829848476003,37.640848,37.67498404934082,37.802302,37.490263,37.750469,37.677661,37.5122,37.508346,37.54771,37.703909,37.771319,37.612506,37.63835,37.578262,37.526447,37.771319,37.721687,37.718669,37.632305,37.484433,37.640848,37.771319,37.674499,37.573133,37.671507,37.562955,37.45495,37.611203,37.534972,37.640848,37.492042,37.622621,37.460134,37.552561,37.495797,37.591153,37.552148,37.477381,37.767456,37.640848,37.552148,37.48172,37.577355,37.597612,37.490263,37.618704,37.640848,37.640848,37.53906,37.605274,37.677661,37.750469,37.548402,37.677661,37.655113,37.59886,37.510915,37.622621,37.547126,37.727346,37.552148,37.609559,37.519171,37.548402,37.618704,37.640848,37.534972,37.681982,37.492024,37.577355,37.508346,37.605131,37.577355,37.548402,37.48901137797886,37.615371,37.718669,37.718669,37.617698,37.702634,37.719953,37.582808,37.652705,37.645905,37.631326,37.652705,37.589518,37.710081,37.755419,37.661913,37.555517,37.621642,37.621785,37.737264,37.76504,37.62039484655761,37.761869,37.683949,37.507699,37.652705,37.659829,37.511005,37.712156,37.693597,37.539644,37.702706,37.444611,37.601448,37.708356,37.575882,37.634595,37.622306,37.63341,37.718202,37.610489706427074,37.531451,37.634595,37.656218,37.741827,37.716504,37.533661,37.662398,37.626008,37.621471,37.688306,37.625352,37.480777,37.545141,37.693597,37.672855,37.650981,37.72687,37.526887,37.633661,37.635134,37.624319,37.784318,37.531819,37.540272,37.659847,37.602481,37.688306,37.509168,37.434199,37.616036,37.498689,37.492644,37.539823,37.698016,37.509168,37.654673,37.545141,37.497198,37.631622,37.577355,37.509168,37.55778,37.782701,37.584748,37.577346,37.604565,37.723385,37.652705,37.479286,37.455714,37.633841,37.47529184829892,37.63959,37.547791,37.769073,37.761869,37.714132,37.630598,37.717352396133236,37.624319,37.600298,37.650433,37.61149040348742,37.545141,37.734937,37.634515,37.680194,37.590039,37.544108,37.504681,37.78878160840739,37.641746,37.515407,37.554753,37.688369,37.434199,37.631918,37.63456,37.630167,37.725424,37.61070011045033,37.506541,37.503271,37.661536,37.601205,37.509245,37.669154,37.539814,37.597917,37.500989,37.700622,37.73527,37.584748,37.467311,37.50459802942832,37.540946,37.662398,37.641746,37.571785,37.782782,37.480777,37.625927,37.710081,37.7441,37.605122,37.525827,37.503944,37.463484,37.623905,37.498528,37.677481,37.611122,37.663252,37.539105,37.65629,37.497198,37.560125,37.636329,37.734165,37.518362,37.504681,37.733653,37.504681,37.735395,37.766854,37.622729,37.688881,37.511868,37.625001,37.656829,37.617698,37.72687,37.695178,37.661913,37.566755,37.583185,37.577346,37.543794,37.633194,37.580661,37.712822618385076,37.628918,37.692303,37.656218,37.539644,37.534505,37.577346,37.764132,37.630598,37.662416,37.764177,37.625352,37.522162,37.788351,37.622953,37.596228,37.518362,37.481505,37.521084,37.495177,37.547791,37.545141,37.672855,37.65629,37.630598,37.743471,37.716378,37.529412,37.672855,37.509168,37.509168,37.497198,37.65629,37.511868,37.556388,37.760845,37.688692,37.497198,37.63341,37.497198,37.480777,37.733841,37.633194,37.547791,37.65629,37.74463,37.555517,37.480777,37.629888,37.605724,37.605724,37.605724,37.625612,37.656829,37.625001,37.534748,37.449093,37.661913,37.602615,37.630239,37.502849,37.601367,37.618938,37.56659454833323,37.633517,37.707107,37.662093,37.51327281349108,37.592455,37.596534,37.647154,37.475971,37.617698,37.49745,37.568102,37.539644,37.714276,37.609182,37.646813,37.634083,37.618552,37.530409,37.572145,37.61252758683358,37.642007,37.616755,37.62368,37.64065,37.679044,37.495797,37.639958,37.615264,37.649139,37.518641,37.559119,37.537371,37.586311,37.542581,37.603487,37.674579,37.516952,37.593489,37.707458,37.568102,37.515155,37.531011,37.659775,37.632215,37.79366,37.618291,37.605966,37.799715,37.596013,37.585278,37.593641,37.635521,37.600846,37.601421,37.664896,37.605966,37.595833,37.622504,37.61256,37.60302,37.77619246390685,37.590865,37.635754,37.542824,37.531289,37.715417,37.559453472149954,37.47677,37.622091,37.535835,37.621776,37.655796,37.617114,37.497468,37.539742,37.539122,37.70916202892093,37.64946112880051,37.645321,37.618938,37.496758,37.647154,37.466646,37.672504,37.641036,37.567455,37.609973,37.654287,37.652957,37.58084,37.615264,37.561401,37.658536,37.537371,37.622504,37.554026,37.650585,37.476169,37.593237,37.72422,37.531936,37.629232,37.586624790177986,37.588099,37.665551,37.680374,37.618686,37.63385,37.594611,37.65167344631129,37.592096,37.71671,37.648421,37.623277,37.57351,37.659164,37.73067,37.617698,37.638683,37.715022,37.657053,37.636437,37.644486,37.616449,37.584326,37.531936,37.655481,37.520222,37.641171,37.61467543718504,37.477381,37.74587,37.565272,37.594153,37.56812,37.700011,37.63665731697449,37.617698,37.676053,37.73924,37.484891,37.491242,37.590237,37.62038621230292,37.497414,37.528855,37.758617,37.652436,37.55248,37.520941,37.56538,37.530993,37.672504,37.763989,37.591701,37.617698,37.588018,37.564608,37.581262,37.476169,37.707098,37.539796,37.734668,37.477282,37.655356,37.505508,37.626726,37.68261,37.589859,37.604026,37.605095,37.617024,37.515362,37.679251,37.540721,37.604592,37.481244,37.487329356372356,37.676062,37.592042,37.676214,37.588437481566416,37.58552,37.48561,37.6544601470232,37.62368,37.54312,37.673016,37.624777,37.595339,37.480543,37.58703,37.531289,37.794684,37.702706,37.497198,37.476169,37.675109,37.61114,37.472324,37.666584,37.752212,37.70302,37.655463,37.743615,37.61338304882224,37.455642,37.588054,37.673016,37.464571,37.662093,37.635566,37.617321,37.618165,37.611652,37.650585,37.534559,37.60785533247466,37.59259,37.601879,37.550747,37.625513,37.760369,37.53252,37.523824,37.6024,37.678649,37.640408,37.622504,37.592464,37.765094,37.594279,37.66265,37.730437,37.653343,37.475692,37.538575,37.683715,37.58067,37.679376,37.680949,37.464571,37.676735,37.711904,37.476169,37.666513,37.502875,37.51688,37.59259,37.539742,37.622064,37.762129,37.617698,37.524076,37.638503,37.49781759901586,37.544018,37.601738276126476,37.657646,37.625837,37.659173,37.497513,37.58031,37.639824,37.597477,37.591737,37.645618,37.532367,37.599983,37.52629518518051,37.497791,37.596722,37.608877,37.646139,37.670007,37.792654,37.543021,37.536284,37.539644,37.610682,37.5956,37.618507,37.662093,37.592096,37.601879,37.592096,37.679035,37.662093,37.49957,37.601367,37.591647,37.639824,37.540129,37.697433,37.539626,37.470455,37.492024,37.53128,37.539742,37.493326,37.622504,37.602148,37.596624,37.655248,37.762635339949036,37.566072,37.514985,37.52971649169922,37.622199,37.728398,37.721885,37.727553,37.53331,37.636446,37.608984,37.661617,37.607026,37.568291,37.622504,37.646426,37.604565,37.598762,37.605023,37.688027,37.50366400927305,37.608059,37.602049,37.620609,37.605023,37.58703,37.746624,37.568102,37.590461,37.566072,37.593246,37.564132,37.464571,37.732665,37.663072,37.541781,37.620833,37.622504,37.646139,37.690111,37.70903,37.619683,37.5252066944414,37.67772346709495,37.454843,37.622504,37.719423,37.617141,37.56766161409777,37.618372,37.664545,37.568354,37.591934,37.683554,37.654601,37.657799,37.617698,37.666638,37.607619,37.606954,37.598115,37.71733,37.652957,37.584649,37.642303,37.691495,37.502247,37.724077,37.665408,37.634434,37.596183,37.64639,37.606622,37.601124,37.602148,37.558212,37.612308,37.570707,37.546911,37.587344,37.537074,37.500486,37.623214,37.537434,37.510673,37.604601,37.694747,37.566072,37.617698,37.607619,37.603011,37.53067918518059,37.647908,37.509289,37.606325,37.639958,37.608984,37.699283,37.66265,37.653846,37.605966,37.690111,37.525827,37.588967487436975,37.498016,37.493326,37.604771,37.590856,37.607898,37.747379,37.616485,37.588683,37.587093,37.531774,37.5663080343931,37.497468,37.622333,37.45389,37.695214,37.589446,37.612677,37.601879,37.448285,37.51288121097517,37.54153311252594,37.72387,37.564168,37.676026,37.666162,37.539742,37.715022,37.527965,37.786887,37.587865,37.678160421950324,37.578109,37.741369,37.537371,37.622333,37.652822,37.743947,37.60372,37.57713,37.583832,37.64115437567104,37.482627,37.540721,37.567455,37.557682,37.622091,37.63447,37.565362,37.53128,37.661284,37.504798,37.595321,37.674579,37.672504,37.467131,37.538269,37.531289,37.620411,37.66265,37.613305,37.731039,37.566072,37.596696,37.617698,37.484397,37.718552,37.594584,37.620681,37.53252,37.642429,37.566072,37.531289,37.665408,37.584326,37.715968856653745,37.699562,37.637982,37.582206,37.732718,37.497216,37.593632,37.497468,37.669028,37.663818,37.65911,37.622747,37.60638046043644,37.755895,37.634595,37.637946,37.641045,37.571776,37.602148,37.531289,37.605966,37.639958,37.497468,37.604475,37.512838,37.553612,37.57259879261255,37.598564,37.512281,37.608275,37.601879,37.618848,37.622657,37.72387,37.585017,37.613659389317036,37.655248,37.480732,37.661922,37.606622,37.757817,37.595114,37.56935409192441,37.521569,37.609344,37.606379,37.61229,37.596669,37.602894,37.49188,37.736375,37.605966,37.614608,37.484384144161396,37.71674674004316,37.625999,37.601879,37.622513,37.607619,37.596624,37.799418,37.632772,37.67837,37.732898,37.678065,37.622504,37.567455,37.496839,37.652625,37.775631,37.476169,37.537676,37.719594,37.635916,37.647639,37.598546,37.588386,37.73041,37.56839,37.65717,37.566072,37.619117,37.605023,37.566072,37.534002,37.662838,37.682188,37.602148,37.791154,37.65461,37.524228,37.617141,37.60692086640802,37.773268,37.59808436441799,37.483454,37.665408,37.602166,37.582718,37.52183894973701,37.693776,37.466637,37.565946,37.623501,37.598205,37.66265,37.601412,37.659173,37.65614216400081,37.538269,37.531289,37.617554,37.566072,37.597756,37.659605,37.539742,37.639958,37.531289,37.481001,37.663719,37.492024,37.770025,37.666072,37.600783,37.56989,37.54322814941406,37.585035,37.7309950442025,37.533517,37.623268,37.61968883795849,37.619117,37.605966,37.666045,37.631002,37.707072,37.43426513671875,37.47139,37.50928,37.594414,37.617698,37.611446,37.779314,37.652625,37.662093,37.557044,37.682592,37.68067,37.609263,37.566072,37.659227,37.517383,37.538575,37.59833,37.76027,37.62369,37.511939,37.621516,37.47958550793392,37.720124,37.62368,37.655356,37.606999,37.497216,37.766145,37.70532,37.635521,37.558715,37.570096,37.668165,37.497468,37.654287,37.776008,37.530409,37.576861,37.777922,37.650846,37.545833,37.766145,37.625055,37.6189696,37.54557563558188,37.617698,37.539302,37.672127,37.524228,37.495006,37.66132,37.760234,37.611347,37.63871,37.620177,37.609272,37.656631,37.665408,37.749661,37.476169,37.620887,37.516476,37.502103,37.717564,37.529133,37.617698,37.614617,37.581253,37.752526,37.656586,37.542617,37.660215,37.666719,37.605966,37.51573,37.562757,37.596148,37.468183,37.483454,37.606694,37.793166,37.743633,37.672729,37.661841,37.605966,37.631097588693905,37.527965,37.66265,37.531289,37.675047,37.614608,37.531289,37.638755,37.531289,37.545581,37.495563,37.604538,37.494449,37.682619,37.604771,37.727553,37.602049,37.596004,37.602148,37.659173,37.715022,37.659622,37.538575,37.681335,37.6751,37.626951,37.597261,37.651717,37.504052,37.54871140740951,37.620177,37.578029,37.539742,37.622504,37.665408,37.632021197587534,37.50186,37.746921,37.601897,37.661536,37.623905,37.570707,37.53225,37.631927,37.658059,37.644612,37.463772,37.653388,37.601367,37.581855,37.741908,37.517132,37.607655,37.62368,37.566072,37.713962,37.497468,37.619522,37.539644,37.533984,37.572279,37.567428,37.659937,37.639824,37.67146954312921,37.712291,37.626771,37.582673,37.5358032331349,37.606342745947984,37.527238,37.585386,37.653388,37.795017,37.582709,37.492913,37.60337,37.617698,37.539509,37.795349,37.480768,37.654601,37.67625,37.601169,37.67572,37.605499,37.758401,37.716827,37.635161,37.582206,37.656218,37.451555,37.599292,37.671507,37.578424,37.707098,37.499282,37.772262,37.6906376,37.506541,37.759228,37.612641,37.717079,37.662093,37.602166,37.70647,37.59869,37.566072,37.535763,37.627193,37.654601,37.605804,37.617698,37.519970834255254,37.476169,37.662093,37.760818,37.49736,37.539347,37.70013663654245,37.591602,37.70187,37.730437,37.568929,37.639958,37.713962,37.605023,37.685889,37.508804,37.532367,37.542033,37.707107,37.574471,37.63217,37.720816,37.788665,37.492024,37.646139,37.611895,37.477049,37.704116,37.732718,37.525872,37.479717,37.533301,37.770043,37.605966,37.50186,37.671238,37.601879,37.76177,37.713962,37.530409,37.539742,37.490497,37.476169,37.607026,37.478082,37.621094,37.613323,37.460843,37.730437,37.72767,37.6038278,37.605966,37.554493,37.614608,37.7062,37.787084,37.621606,37.61615127116343,37.565847913322955,37.680949,37.517895,37.766145,37.589248,37.52068,37.61468,37.661419,37.497216,37.530409,37.5348837030615,37.632709,37.492024,37.66321563720703,37.64613,37.789285,37.725137,37.759991,37.60620215211448,37.675361,37.662093,37.463835,37.797891,37.452974,37.656505,37.547342,37.66223783928636,37.531289,37.60680558396285,37.486975,37.478082,37.750514,37.614608,37.473995,37.539042,37.699562,37.54385800727039,37.476231,37.607026,37.484442,37.475854,37.622504,37.545827763229,37.477633,37.546004,37.497468,37.476169,37.621633,37.595114,37.654206,37.74967,37.665408,37.652705,37.497791,37.539347,37.598699,37.659173,37.435268,37.500423,37.737435,37.460421,37.608607,37.537083,37.540721,37.631236,37.539742,37.62669,37.497791,37.639958,37.531289,37.531505,37.659075,37.725191,37.715022,37.462634743377,37.497468,37.652966,37.602166,37.765381,37.662614,37.487622,37.486796,37.715812,37.523725,37.624957,37.592593,37.638737,37.60081,37.786222,37.67459001165666,37.520518,37.6039,37.646214019947905,37.558643,37.662093,37.475495,37.615354,37.634389,37.566072,37.533517,37.728173,37.709075,37.54150422247403,37.758823,37.489877,37.592258,37.597414,37.696687,37.512281,37.730437,37.527956,37.621552,37.531289,37.537029,37.516952,37.566072,37.622082,37.508131,37.639464,37.514958,37.787084,37.545092,37.539742,37.611742,37.66265,37.470895,37.730437,37.659164,37.589814,37.620681,37.539742,37.638413,37.505831,37.645258,37.664896,37.518883,37.566072,37.506397,37.606999,37.562389,37.617033,37.609119,37.7760295,37.662093,37.527175,37.643588,37.53683090209961,37.527552,37.621543,37.445437,37.658356,37.532367,37.715686,37.599911,37.685916,37.464571,37.549336,37.539374,37.617698,37.750622,37.56936,37.582817,37.609236818923094,37.568722,37.577121,37.494,37.483095,37.61265,37.592662,37.524839,37.605131,37.597522,37.507484,37.749661,37.579044,37.607898,37.585278,37.781281,37.462631,37.665408,37.466646,37.593318,37.507484,37.539248,37.617698669433594,37.507484,37.783949,37.494728,37.522558,37.585026,37.557071,37.682619,37.611652,37.647037,37.606281,37.662596,37.681559,37.539742,37.523707,37.637111,37.569117,37.566072,37.560889,37.526232,37.744118,37.697316,37.609326,37.674588,37.56989,37.7579799,37.639464,37.575693,37.605966,37.60647072883582,37.624651,37.566072,37.584146,37.583329,37.466646,37.514787,37.605966,37.599867,37.497468],\"marker\":{\"color\":\"fuchsia\",\"opacity\":0.3},\"mode\":\"markers\",\"name\":\"\",\"showlegend\":false,\"subplot\":\"mapbox\",\"type\":\"scattermapbox\"}],                        {\"template\":{\"data\":{\"histogram2dcontour\":[{\"type\":\"histogram2dcontour\",\"colorbar\":{\"outlinewidth\":0,\"ticks\":\"\"},\"colorscale\":[[0.0,\"#0d0887\"],[0.1111111111111111,\"#46039f\"],[0.2222222222222222,\"#7201a8\"],[0.3333333333333333,\"#9c179e\"],[0.4444444444444444,\"#bd3786\"],[0.5555555555555556,\"#d8576b\"],[0.6666666666666666,\"#ed7953\"],[0.7777777777777778,\"#fb9f3a\"],[0.8888888888888888,\"#fdca26\"],[1.0,\"#f0f921\"]]}],\"choropleth\":[{\"type\":\"choropleth\",\"colorbar\":{\"outlinewidth\":0,\"ticks\":\"\"}}],\"histogram2d\":[{\"type\":\"histogram2d\",\"colorbar\":{\"outlinewidth\":0,\"ticks\":\"\"},\"colorscale\":[[0.0,\"#0d0887\"],[0.1111111111111111,\"#46039f\"],[0.2222222222222222,\"#7201a8\"],[0.3333333333333333,\"#9c179e\"],[0.4444444444444444,\"#bd3786\"],[0.5555555555555556,\"#d8576b\"],[0.6666666666666666,\"#ed7953\"],[0.7777777777777778,\"#fb9f3a\"],[0.8888888888888888,\"#fdca26\"],[1.0,\"#f0f921\"]]}],\"heatmap\":[{\"type\":\"heatmap\",\"colorbar\":{\"outlinewidth\":0,\"ticks\":\"\"},\"colorscale\":[[0.0,\"#0d0887\"],[0.1111111111111111,\"#46039f\"],[0.2222222222222222,\"#7201a8\"],[0.3333333333333333,\"#9c179e\"],[0.4444444444444444,\"#bd3786\"],[0.5555555555555556,\"#d8576b\"],[0.6666666666666666,\"#ed7953\"],[0.7777777777777778,\"#fb9f3a\"],[0.8888888888888888,\"#fdca26\"],[1.0,\"#f0f921\"]]}],\"heatmapgl\":[{\"type\":\"heatmapgl\",\"colorbar\":{\"outlinewidth\":0,\"ticks\":\"\"},\"colorscale\":[[0.0,\"#0d0887\"],[0.1111111111111111,\"#46039f\"],[0.2222222222222222,\"#7201a8\"],[0.3333333333333333,\"#9c179e\"],[0.4444444444444444,\"#bd3786\"],[0.5555555555555556,\"#d8576b\"],[0.6666666666666666,\"#ed7953\"],[0.7777777777777778,\"#fb9f3a\"],[0.8888888888888888,\"#fdca26\"],[1.0,\"#f0f921\"]]}],\"contourcarpet\":[{\"type\":\"contourcarpet\",\"colorbar\":{\"outlinewidth\":0,\"ticks\":\"\"}}],\"contour\":[{\"type\":\"contour\",\"colorbar\":{\"outlinewidth\":0,\"ticks\":\"\"},\"colorscale\":[[0.0,\"#0d0887\"],[0.1111111111111111,\"#46039f\"],[0.2222222222222222,\"#7201a8\"],[0.3333333333333333,\"#9c179e\"],[0.4444444444444444,\"#bd3786\"],[0.5555555555555556,\"#d8576b\"],[0.6666666666666666,\"#ed7953\"],[0.7777777777777778,\"#fb9f3a\"],[0.8888888888888888,\"#fdca26\"],[1.0,\"#f0f921\"]]}],\"surface\":[{\"type\":\"surface\",\"colorbar\":{\"outlinewidth\":0,\"ticks\":\"\"},\"colorscale\":[[0.0,\"#0d0887\"],[0.1111111111111111,\"#46039f\"],[0.2222222222222222,\"#7201a8\"],[0.3333333333333333,\"#9c179e\"],[0.4444444444444444,\"#bd3786\"],[0.5555555555555556,\"#d8576b\"],[0.6666666666666666,\"#ed7953\"],[0.7777777777777778,\"#fb9f3a\"],[0.8888888888888888,\"#fdca26\"],[1.0,\"#f0f921\"]]}],\"mesh3d\":[{\"type\":\"mesh3d\",\"colorbar\":{\"outlinewidth\":0,\"ticks\":\"\"}}],\"scatter\":[{\"fillpattern\":{\"fillmode\":\"overlay\",\"size\":10,\"solidity\":0.2},\"type\":\"scatter\"}],\"parcoords\":[{\"type\":\"parcoords\",\"line\":{\"colorbar\":{\"outlinewidth\":0,\"ticks\":\"\"}}}],\"scatterpolargl\":[{\"type\":\"scatterpolargl\",\"marker\":{\"colorbar\":{\"outlinewidth\":0,\"ticks\":\"\"}}}],\"bar\":[{\"error_x\":{\"color\":\"#2a3f5f\"},\"error_y\":{\"color\":\"#2a3f5f\"},\"marker\":{\"line\":{\"color\":\"#E5ECF6\",\"width\":0.5},\"pattern\":{\"fillmode\":\"overlay\",\"size\":10,\"solidity\":0.2}},\"type\":\"bar\"}],\"scattergeo\":[{\"type\":\"scattergeo\",\"marker\":{\"colorbar\":{\"outlinewidth\":0,\"ticks\":\"\"}}}],\"scatterpolar\":[{\"type\":\"scatterpolar\",\"marker\":{\"colorbar\":{\"outlinewidth\":0,\"ticks\":\"\"}}}],\"histogram\":[{\"marker\":{\"pattern\":{\"fillmode\":\"overlay\",\"size\":10,\"solidity\":0.2}},\"type\":\"histogram\"}],\"scattergl\":[{\"type\":\"scattergl\",\"marker\":{\"colorbar\":{\"outlinewidth\":0,\"ticks\":\"\"}}}],\"scatter3d\":[{\"type\":\"scatter3d\",\"line\":{\"colorbar\":{\"outlinewidth\":0,\"ticks\":\"\"}},\"marker\":{\"colorbar\":{\"outlinewidth\":0,\"ticks\":\"\"}}}],\"scattermapbox\":[{\"type\":\"scattermapbox\",\"marker\":{\"colorbar\":{\"outlinewidth\":0,\"ticks\":\"\"}}}],\"scatterternary\":[{\"type\":\"scatterternary\",\"marker\":{\"colorbar\":{\"outlinewidth\":0,\"ticks\":\"\"}}}],\"scattercarpet\":[{\"type\":\"scattercarpet\",\"marker\":{\"colorbar\":{\"outlinewidth\":0,\"ticks\":\"\"}}}],\"carpet\":[{\"aaxis\":{\"endlinecolor\":\"#2a3f5f\",\"gridcolor\":\"white\",\"linecolor\":\"white\",\"minorgridcolor\":\"white\",\"startlinecolor\":\"#2a3f5f\"},\"baxis\":{\"endlinecolor\":\"#2a3f5f\",\"gridcolor\":\"white\",\"linecolor\":\"white\",\"minorgridcolor\":\"white\",\"startlinecolor\":\"#2a3f5f\"},\"type\":\"carpet\"}],\"table\":[{\"cells\":{\"fill\":{\"color\":\"#EBF0F8\"},\"line\":{\"color\":\"white\"}},\"header\":{\"fill\":{\"color\":\"#C8D4E3\"},\"line\":{\"color\":\"white\"}},\"type\":\"table\"}],\"barpolar\":[{\"marker\":{\"line\":{\"color\":\"#E5ECF6\",\"width\":0.5},\"pattern\":{\"fillmode\":\"overlay\",\"size\":10,\"solidity\":0.2}},\"type\":\"barpolar\"}],\"pie\":[{\"automargin\":true,\"type\":\"pie\"}]},\"layout\":{\"autotypenumbers\":\"strict\",\"colorway\":[\"#636efa\",\"#EF553B\",\"#00cc96\",\"#ab63fa\",\"#FFA15A\",\"#19d3f3\",\"#FF6692\",\"#B6E880\",\"#FF97FF\",\"#FECB52\"],\"font\":{\"color\":\"#2a3f5f\"},\"hovermode\":\"closest\",\"hoverlabel\":{\"align\":\"left\"},\"paper_bgcolor\":\"white\",\"plot_bgcolor\":\"#E5ECF6\",\"polar\":{\"bgcolor\":\"#E5ECF6\",\"angularaxis\":{\"gridcolor\":\"white\",\"linecolor\":\"white\",\"ticks\":\"\"},\"radialaxis\":{\"gridcolor\":\"white\",\"linecolor\":\"white\",\"ticks\":\"\"}},\"ternary\":{\"bgcolor\":\"#E5ECF6\",\"aaxis\":{\"gridcolor\":\"white\",\"linecolor\":\"white\",\"ticks\":\"\"},\"baxis\":{\"gridcolor\":\"white\",\"linecolor\":\"white\",\"ticks\":\"\"},\"caxis\":{\"gridcolor\":\"white\",\"linecolor\":\"white\",\"ticks\":\"\"}},\"coloraxis\":{\"colorbar\":{\"outlinewidth\":0,\"ticks\":\"\"}},\"colorscale\":{\"sequential\":[[0.0,\"#0d0887\"],[0.1111111111111111,\"#46039f\"],[0.2222222222222222,\"#7201a8\"],[0.3333333333333333,\"#9c179e\"],[0.4444444444444444,\"#bd3786\"],[0.5555555555555556,\"#d8576b\"],[0.6666666666666666,\"#ed7953\"],[0.7777777777777778,\"#fb9f3a\"],[0.8888888888888888,\"#fdca26\"],[1.0,\"#f0f921\"]],\"sequentialminus\":[[0.0,\"#0d0887\"],[0.1111111111111111,\"#46039f\"],[0.2222222222222222,\"#7201a8\"],[0.3333333333333333,\"#9c179e\"],[0.4444444444444444,\"#bd3786\"],[0.5555555555555556,\"#d8576b\"],[0.6666666666666666,\"#ed7953\"],[0.7777777777777778,\"#fb9f3a\"],[0.8888888888888888,\"#fdca26\"],[1.0,\"#f0f921\"]],\"diverging\":[[0,\"#8e0152\"],[0.1,\"#c51b7d\"],[0.2,\"#de77ae\"],[0.3,\"#f1b6da\"],[0.4,\"#fde0ef\"],[0.5,\"#f7f7f7\"],[0.6,\"#e6f5d0\"],[0.7,\"#b8e186\"],[0.8,\"#7fbc41\"],[0.9,\"#4d9221\"],[1,\"#276419\"]]},\"xaxis\":{\"gridcolor\":\"white\",\"linecolor\":\"white\",\"ticks\":\"\",\"title\":{\"standoff\":15},\"zerolinecolor\":\"white\",\"automargin\":true,\"zerolinewidth\":2},\"yaxis\":{\"gridcolor\":\"white\",\"linecolor\":\"white\",\"ticks\":\"\",\"title\":{\"standoff\":15},\"zerolinecolor\":\"white\",\"automargin\":true,\"zerolinewidth\":2},\"scene\":{\"xaxis\":{\"backgroundcolor\":\"#E5ECF6\",\"gridcolor\":\"white\",\"linecolor\":\"white\",\"showbackground\":true,\"ticks\":\"\",\"zerolinecolor\":\"white\",\"gridwidth\":2},\"yaxis\":{\"backgroundcolor\":\"#E5ECF6\",\"gridcolor\":\"white\",\"linecolor\":\"white\",\"showbackground\":true,\"ticks\":\"\",\"zerolinecolor\":\"white\",\"gridwidth\":2},\"zaxis\":{\"backgroundcolor\":\"#E5ECF6\",\"gridcolor\":\"white\",\"linecolor\":\"white\",\"showbackground\":true,\"ticks\":\"\",\"zerolinecolor\":\"white\",\"gridwidth\":2}},\"shapedefaults\":{\"line\":{\"color\":\"#2a3f5f\"}},\"annotationdefaults\":{\"arrowcolor\":\"#2a3f5f\",\"arrowhead\":0,\"arrowwidth\":1},\"geo\":{\"bgcolor\":\"white\",\"landcolor\":\"#E5ECF6\",\"subunitcolor\":\"white\",\"showland\":true,\"showlakes\":true,\"lakecolor\":\"white\"},\"title\":{\"x\":0.05},\"mapbox\":{\"style\":\"light\"}}},\"mapbox\":{\"domain\":{\"x\":[0.0,1.0],\"y\":[0.0,1.0]},\"center\":{\"lat\":55.751999,\"lon\":37.617734},\"zoom\":10,\"style\":\"open-street-map\"},\"legend\":{\"tracegroupgap\":0},\"margin\":{\"t\":0,\"r\":0,\"l\":0,\"b\":0},\"height\":800,\"width\":700},                        {\"responsive\": true}                    ).then(function(){\n",
              "                            \n",
              "var gd = document.getElementById('f4edf0f7-0f2c-444b-87e2-9668d841389a');\n",
              "var x = new MutationObserver(function (mutations, observer) {{\n",
              "        var display = window.getComputedStyle(gd).display;\n",
              "        if (!display || display === 'none') {{\n",
              "            console.log([gd, 'removed!']);\n",
              "            Plotly.purge(gd);\n",
              "            observer.disconnect();\n",
              "        }}\n",
              "}});\n",
              "\n",
              "// Listen for the removal of the full notebook cells\n",
              "var notebookContainer = gd.closest('#notebook-container');\n",
              "if (notebookContainer) {{\n",
              "    x.observe(notebookContainer, {childList: true});\n",
              "}}\n",
              "\n",
              "// Listen for the clearing of the current output cell\n",
              "var outputEl = gd.closest('.output');\n",
              "if (outputEl) {{\n",
              "    x.observe(outputEl, {childList: true});\n",
              "}}\n",
              "\n",
              "                        })                };                            </script>        </div>\n",
              "</body>\n",
              "</html>"
            ]
          },
          "metadata": {}
        }
      ],
      "source": [
        "import plotly.express as px\n",
        "\n",
        "fig = px.scatter_mapbox(list(zip(latitudes, longitudes)), lat=0, lon=1,\n",
        "                        color_discrete_sequence=[\"fuchsia\"], zoom=10,\n",
        "                        height=800, width=700,\n",
        "                        center={\"lat\": CREMLIN_LAT, \"lon\": CREMLIN_LNG},\n",
        "                        opacity=0.3)\n",
        "\n",
        "fig.update_layout(mapbox_style=\"open-street-map\")\n",
        "fig.update_layout(margin={\"r\":0,\"t\":0,\"l\":0,\"b\":0})\n",
        "fig.show()"
      ]
    },
    {
      "cell_type": "markdown",
      "metadata": {
        "id": "u-p3Llc361PN"
      },
      "source": [
        "(2 балла) **Сделайте выводы о проделанной работе:**"
      ]
    },
    {
      "cell_type": "markdown",
      "metadata": {
        "id": "G1c3d-qALobz"
      },
      "source": [
        ">*Подсказки для маленьких: Что вы можете сказать про районы Москвы? Что вы можете сказать про зарплаты? Что вы можете сказать про спрос?*"
      ]
    },
    {
      "cell_type": "markdown",
      "metadata": {
        "id": "gkPpbtBuVqwc"
      },
      "source": [
        "Ваши выводы здесь :)"
      ]
    },
    {
      "cell_type": "markdown",
      "metadata": {
        "id": "1NIVv73bPDO_"
      },
      "source": []
    },
    {
      "cell_type": "markdown",
      "metadata": {
        "id": "wVcCTF_Zz58q"
      },
      "source": [
        "## Задание 2. Анализ данных - 20 баллов"
      ]
    },
    {
      "cell_type": "markdown",
      "metadata": {
        "id": "lii5YFuucxR2"
      },
      "source": [
        "Вам предстоит проанализировать датасет, содержащий информацию об бриллианта, их стоимости и остальных характеристиках."
      ]
    },
    {
      "cell_type": "markdown",
      "metadata": {
        "id": "CvEO3-NI0Gez"
      },
      "source": [
        "\n",
        "\n",
        "Поясним значения хранящиеся в колонках:\n",
        "*   `cut` - огранка бриллианта (относится к одной из примерно 10 наиболее распространенных)\n",
        "*   `color` - цвет бриллианта, прозрачные бриллианты имеют градацию `D-Z`, \"более высокие\" буквы - более желтоватые, но часто имеют лучшие значения, поскольку цвет трудно определить один раз в кольце\n",
        "*   `clarity` - чистота бриллианта, наличие включений (внутренних дефектов), чем меньше и мельче, тем лучше\n",
        "*   `carat_weight` - масса бриллианта (слабо связана с размером бриллианта, т.к. огранка и качество огранки, как правило, играют большую роль)\n",
        "*   `cut_quality` - качество ограники по системе оценки GIA Cut\n",
        "*   `lab` - лаборатория оценивания\n",
        "*   `meas_length` - длина бриллианта\n",
        "*   `meas_width` - ширина бриллианта\n",
        "*   `meas_depth` - глубина бриллианта\n",
        "*   `total_sales_price` - цена бриллианта в долларах.\n",
        "*    **и прочие колонки**"
      ]
    },
    {
      "cell_type": "markdown",
      "metadata": {
        "id": "7mK1QntN6ZXh"
      },
      "source": [
        "Скачаем данные:"
      ]
    },
    {
      "cell_type": "code",
      "execution_count": 21,
      "metadata": {
        "colab": {
          "base_uri": "https://localhost:8080/"
        },
        "id": "LnCK3gCoebjw",
        "outputId": "0d0470a2-6302-4e14-d69d-d5f44e07de25"
      },
      "outputs": [
        {
          "output_type": "stream",
          "name": "stdout",
          "text": [
            "Downloading...\n",
            "From: https://drive.google.com/uc?id=1uIWeZFz3ElB5p1brBVEwJBHTbjXNPdfU\n",
            "To: /content/diamonds.csv\n",
            "100% 35.4M/35.4M [00:00<00:00, 147MB/s]\n"
          ]
        }
      ],
      "source": [
        "!gdown 1uIWeZFz3ElB5p1brBVEwJBHTbjXNPdfU"
      ]
    },
    {
      "cell_type": "markdown",
      "metadata": {
        "id": "wfSqVYoIfi3-"
      },
      "source": [
        "Создадим DataFrame:"
      ]
    },
    {
      "cell_type": "code",
      "execution_count": 22,
      "metadata": {
        "id": "cDgRJzRp6Ow4"
      },
      "outputs": [],
      "source": [
        "diamonds = pd.read_csv(\"diamonds.csv\")"
      ]
    },
    {
      "cell_type": "markdown",
      "metadata": {
        "id": "vlw_3lXG6bhv"
      },
      "source": [
        "(0.5 балла) Выведете первые 5 строк датасета:"
      ]
    },
    {
      "cell_type": "code",
      "execution_count": 23,
      "metadata": {
        "colab": {
          "base_uri": "https://localhost:8080/",
          "height": 386
        },
        "id": "gHA-AnSE6fth",
        "outputId": "ebc05f48-3bd0-4c53-b838-092737a4453b"
      },
      "outputs": [
        {
          "output_type": "execute_result",
          "data": {
            "text/plain": [
              "   Unnamed: 0    cut color clarity  carat_weight cut_quality  lab   symmetry  \\\n",
              "0           0  Round     E    VVS2          0.09   Excellent  IGI  Very Good   \n",
              "1           1  Round     E    VVS2          0.09   Very Good  IGI  Very Good   \n",
              "2           2  Round     E    VVS2          0.09   Excellent  IGI  Very Good   \n",
              "3           3  Round     E    VVS2          0.09   Excellent  IGI  Very Good   \n",
              "4           4  Round     E    VVS2          0.09   Very Good  IGI  Very Good   \n",
              "\n",
              "      polish eye_clean  ... meas_depth girdle_min  girdle_max  fluor_color  \\\n",
              "0  Very Good   unknown  ...       1.79          M           M      unknown   \n",
              "1  Very Good   unknown  ...       1.78        STK         STK      unknown   \n",
              "2  Very Good   unknown  ...       1.77         TN           M      unknown   \n",
              "3  Very Good   unknown  ...       1.78          M         STK      unknown   \n",
              "4  Excellent   unknown  ...       1.82        STK         STK      unknown   \n",
              "\n",
              "   fluor_intensity  fancy_color_dominant_color  fancy_color_secondary_color  \\\n",
              "0             None                     unknown                      unknown   \n",
              "1             None                     unknown                      unknown   \n",
              "2             None                     unknown                      unknown   \n",
              "3             None                     unknown                      unknown   \n",
              "4             None                     unknown                      unknown   \n",
              "\n",
              "  fancy_color_overtone fancy_color_intensity total_sales_price  \n",
              "0              unknown               unknown               200  \n",
              "1              unknown               unknown               200  \n",
              "2              unknown               unknown               200  \n",
              "3              unknown               unknown               200  \n",
              "4              unknown               unknown               200  \n",
              "\n",
              "[5 rows x 26 columns]"
            ],
            "text/html": [
              "\n",
              "  <div id=\"df-f42863d6-e156-4f23-af1a-193583422503\">\n",
              "    <div class=\"colab-df-container\">\n",
              "      <div>\n",
              "<style scoped>\n",
              "    .dataframe tbody tr th:only-of-type {\n",
              "        vertical-align: middle;\n",
              "    }\n",
              "\n",
              "    .dataframe tbody tr th {\n",
              "        vertical-align: top;\n",
              "    }\n",
              "\n",
              "    .dataframe thead th {\n",
              "        text-align: right;\n",
              "    }\n",
              "</style>\n",
              "<table border=\"1\" class=\"dataframe\">\n",
              "  <thead>\n",
              "    <tr style=\"text-align: right;\">\n",
              "      <th></th>\n",
              "      <th>Unnamed: 0</th>\n",
              "      <th>cut</th>\n",
              "      <th>color</th>\n",
              "      <th>clarity</th>\n",
              "      <th>carat_weight</th>\n",
              "      <th>cut_quality</th>\n",
              "      <th>lab</th>\n",
              "      <th>symmetry</th>\n",
              "      <th>polish</th>\n",
              "      <th>eye_clean</th>\n",
              "      <th>...</th>\n",
              "      <th>meas_depth</th>\n",
              "      <th>girdle_min</th>\n",
              "      <th>girdle_max</th>\n",
              "      <th>fluor_color</th>\n",
              "      <th>fluor_intensity</th>\n",
              "      <th>fancy_color_dominant_color</th>\n",
              "      <th>fancy_color_secondary_color</th>\n",
              "      <th>fancy_color_overtone</th>\n",
              "      <th>fancy_color_intensity</th>\n",
              "      <th>total_sales_price</th>\n",
              "    </tr>\n",
              "  </thead>\n",
              "  <tbody>\n",
              "    <tr>\n",
              "      <th>0</th>\n",
              "      <td>0</td>\n",
              "      <td>Round</td>\n",
              "      <td>E</td>\n",
              "      <td>VVS2</td>\n",
              "      <td>0.09</td>\n",
              "      <td>Excellent</td>\n",
              "      <td>IGI</td>\n",
              "      <td>Very Good</td>\n",
              "      <td>Very Good</td>\n",
              "      <td>unknown</td>\n",
              "      <td>...</td>\n",
              "      <td>1.79</td>\n",
              "      <td>M</td>\n",
              "      <td>M</td>\n",
              "      <td>unknown</td>\n",
              "      <td>None</td>\n",
              "      <td>unknown</td>\n",
              "      <td>unknown</td>\n",
              "      <td>unknown</td>\n",
              "      <td>unknown</td>\n",
              "      <td>200</td>\n",
              "    </tr>\n",
              "    <tr>\n",
              "      <th>1</th>\n",
              "      <td>1</td>\n",
              "      <td>Round</td>\n",
              "      <td>E</td>\n",
              "      <td>VVS2</td>\n",
              "      <td>0.09</td>\n",
              "      <td>Very Good</td>\n",
              "      <td>IGI</td>\n",
              "      <td>Very Good</td>\n",
              "      <td>Very Good</td>\n",
              "      <td>unknown</td>\n",
              "      <td>...</td>\n",
              "      <td>1.78</td>\n",
              "      <td>STK</td>\n",
              "      <td>STK</td>\n",
              "      <td>unknown</td>\n",
              "      <td>None</td>\n",
              "      <td>unknown</td>\n",
              "      <td>unknown</td>\n",
              "      <td>unknown</td>\n",
              "      <td>unknown</td>\n",
              "      <td>200</td>\n",
              "    </tr>\n",
              "    <tr>\n",
              "      <th>2</th>\n",
              "      <td>2</td>\n",
              "      <td>Round</td>\n",
              "      <td>E</td>\n",
              "      <td>VVS2</td>\n",
              "      <td>0.09</td>\n",
              "      <td>Excellent</td>\n",
              "      <td>IGI</td>\n",
              "      <td>Very Good</td>\n",
              "      <td>Very Good</td>\n",
              "      <td>unknown</td>\n",
              "      <td>...</td>\n",
              "      <td>1.77</td>\n",
              "      <td>TN</td>\n",
              "      <td>M</td>\n",
              "      <td>unknown</td>\n",
              "      <td>None</td>\n",
              "      <td>unknown</td>\n",
              "      <td>unknown</td>\n",
              "      <td>unknown</td>\n",
              "      <td>unknown</td>\n",
              "      <td>200</td>\n",
              "    </tr>\n",
              "    <tr>\n",
              "      <th>3</th>\n",
              "      <td>3</td>\n",
              "      <td>Round</td>\n",
              "      <td>E</td>\n",
              "      <td>VVS2</td>\n",
              "      <td>0.09</td>\n",
              "      <td>Excellent</td>\n",
              "      <td>IGI</td>\n",
              "      <td>Very Good</td>\n",
              "      <td>Very Good</td>\n",
              "      <td>unknown</td>\n",
              "      <td>...</td>\n",
              "      <td>1.78</td>\n",
              "      <td>M</td>\n",
              "      <td>STK</td>\n",
              "      <td>unknown</td>\n",
              "      <td>None</td>\n",
              "      <td>unknown</td>\n",
              "      <td>unknown</td>\n",
              "      <td>unknown</td>\n",
              "      <td>unknown</td>\n",
              "      <td>200</td>\n",
              "    </tr>\n",
              "    <tr>\n",
              "      <th>4</th>\n",
              "      <td>4</td>\n",
              "      <td>Round</td>\n",
              "      <td>E</td>\n",
              "      <td>VVS2</td>\n",
              "      <td>0.09</td>\n",
              "      <td>Very Good</td>\n",
              "      <td>IGI</td>\n",
              "      <td>Very Good</td>\n",
              "      <td>Excellent</td>\n",
              "      <td>unknown</td>\n",
              "      <td>...</td>\n",
              "      <td>1.82</td>\n",
              "      <td>STK</td>\n",
              "      <td>STK</td>\n",
              "      <td>unknown</td>\n",
              "      <td>None</td>\n",
              "      <td>unknown</td>\n",
              "      <td>unknown</td>\n",
              "      <td>unknown</td>\n",
              "      <td>unknown</td>\n",
              "      <td>200</td>\n",
              "    </tr>\n",
              "  </tbody>\n",
              "</table>\n",
              "<p>5 rows × 26 columns</p>\n",
              "</div>\n",
              "      <button class=\"colab-df-convert\" onclick=\"convertToInteractive('df-f42863d6-e156-4f23-af1a-193583422503')\"\n",
              "              title=\"Convert this dataframe to an interactive table.\"\n",
              "              style=\"display:none;\">\n",
              "        \n",
              "  <svg xmlns=\"http://www.w3.org/2000/svg\" height=\"24px\"viewBox=\"0 0 24 24\"\n",
              "       width=\"24px\">\n",
              "    <path d=\"M0 0h24v24H0V0z\" fill=\"none\"/>\n",
              "    <path d=\"M18.56 5.44l.94 2.06.94-2.06 2.06-.94-2.06-.94-.94-2.06-.94 2.06-2.06.94zm-11 1L8.5 8.5l.94-2.06 2.06-.94-2.06-.94L8.5 2.5l-.94 2.06-2.06.94zm10 10l.94 2.06.94-2.06 2.06-.94-2.06-.94-.94-2.06-.94 2.06-2.06.94z\"/><path d=\"M17.41 7.96l-1.37-1.37c-.4-.4-.92-.59-1.43-.59-.52 0-1.04.2-1.43.59L10.3 9.45l-7.72 7.72c-.78.78-.78 2.05 0 2.83L4 21.41c.39.39.9.59 1.41.59.51 0 1.02-.2 1.41-.59l7.78-7.78 2.81-2.81c.8-.78.8-2.07 0-2.86zM5.41 20L4 18.59l7.72-7.72 1.47 1.35L5.41 20z\"/>\n",
              "  </svg>\n",
              "      </button>\n",
              "      \n",
              "  <style>\n",
              "    .colab-df-container {\n",
              "      display:flex;\n",
              "      flex-wrap:wrap;\n",
              "      gap: 12px;\n",
              "    }\n",
              "\n",
              "    .colab-df-convert {\n",
              "      background-color: #E8F0FE;\n",
              "      border: none;\n",
              "      border-radius: 50%;\n",
              "      cursor: pointer;\n",
              "      display: none;\n",
              "      fill: #1967D2;\n",
              "      height: 32px;\n",
              "      padding: 0 0 0 0;\n",
              "      width: 32px;\n",
              "    }\n",
              "\n",
              "    .colab-df-convert:hover {\n",
              "      background-color: #E2EBFA;\n",
              "      box-shadow: 0px 1px 2px rgba(60, 64, 67, 0.3), 0px 1px 3px 1px rgba(60, 64, 67, 0.15);\n",
              "      fill: #174EA6;\n",
              "    }\n",
              "\n",
              "    [theme=dark] .colab-df-convert {\n",
              "      background-color: #3B4455;\n",
              "      fill: #D2E3FC;\n",
              "    }\n",
              "\n",
              "    [theme=dark] .colab-df-convert:hover {\n",
              "      background-color: #434B5C;\n",
              "      box-shadow: 0px 1px 3px 1px rgba(0, 0, 0, 0.15);\n",
              "      filter: drop-shadow(0px 1px 2px rgba(0, 0, 0, 0.3));\n",
              "      fill: #FFFFFF;\n",
              "    }\n",
              "  </style>\n",
              "\n",
              "      <script>\n",
              "        const buttonEl =\n",
              "          document.querySelector('#df-f42863d6-e156-4f23-af1a-193583422503 button.colab-df-convert');\n",
              "        buttonEl.style.display =\n",
              "          google.colab.kernel.accessAllowed ? 'block' : 'none';\n",
              "\n",
              "        async function convertToInteractive(key) {\n",
              "          const element = document.querySelector('#df-f42863d6-e156-4f23-af1a-193583422503');\n",
              "          const dataTable =\n",
              "            await google.colab.kernel.invokeFunction('convertToInteractive',\n",
              "                                                     [key], {});\n",
              "          if (!dataTable) return;\n",
              "\n",
              "          const docLinkHtml = 'Like what you see? Visit the ' +\n",
              "            '<a target=\"_blank\" href=https://colab.research.google.com/notebooks/data_table.ipynb>data table notebook</a>'\n",
              "            + ' to learn more about interactive tables.';\n",
              "          element.innerHTML = '';\n",
              "          dataTable['output_type'] = 'display_data';\n",
              "          await google.colab.output.renderOutput(dataTable, element);\n",
              "          const docLink = document.createElement('div');\n",
              "          docLink.innerHTML = docLinkHtml;\n",
              "          element.appendChild(docLink);\n",
              "        }\n",
              "      </script>\n",
              "    </div>\n",
              "  </div>\n",
              "  "
            ]
          },
          "metadata": {},
          "execution_count": 23
        }
      ],
      "source": [
        "diamonds.head(5)"
      ]
    },
    {
      "cell_type": "markdown",
      "metadata": {
        "id": "gat7bnPQ6fCE"
      },
      "source": [
        "(0.5 балла) Найдите количество бриллиантов всего в данном датасете:"
      ]
    },
    {
      "cell_type": "code",
      "execution_count": 24,
      "metadata": {
        "colab": {
          "base_uri": "https://localhost:8080/"
        },
        "id": "QMg3_1hJhJkt",
        "outputId": "f93e7ff8-1fcd-48bc-ae65-f7fccccb97e2"
      },
      "outputs": [
        {
          "output_type": "execute_result",
          "data": {
            "text/plain": [
              "219703"
            ]
          },
          "metadata": {},
          "execution_count": 24
        }
      ],
      "source": [
        "len(diamonds)"
      ]
    },
    {
      "cell_type": "markdown",
      "metadata": {
        "id": "fYQuIdtL7DFp"
      },
      "source": [
        "(0.5 балла) Выведите максимальную и минимальную цену бриллианта в формате `номер - цена`:"
      ]
    },
    {
      "cell_type": "code",
      "execution_count": 25,
      "metadata": {
        "colab": {
          "base_uri": "https://localhost:8080/"
        },
        "id": "D_7sjzjP7SEj",
        "outputId": "a38ed314-d673-4859-c542-db09bd224006"
      },
      "outputs": [
        {
          "output_type": "stream",
          "name": "stdout",
          "text": [
            "Max:\n",
            "219702    1449881\n",
            "Name: total_sales_price, dtype: int64\n",
            "Min:\n",
            "0     200\n",
            "1     200\n",
            "2     200\n",
            "3     200\n",
            "4     200\n",
            "5     200\n",
            "6     200\n",
            "7     200\n",
            "8     200\n",
            "9     200\n",
            "10    200\n",
            "11    200\n",
            "12    200\n",
            "13    200\n",
            "14    200\n",
            "15    200\n",
            "16    200\n",
            "17    200\n",
            "18    200\n",
            "19    200\n",
            "20    200\n",
            "21    200\n",
            "22    200\n",
            "Name: total_sales_price, dtype: int64\n"
          ]
        }
      ],
      "source": [
        "prices = diamonds['total_sales_price']\n",
        "print(f\"Max:\\n{prices[prices == prices.max()]}\")\n",
        "print(f\"Min:\\n{prices[prices == prices.min()]}\")"
      ]
    },
    {
      "cell_type": "markdown",
      "metadata": {
        "id": "E2mf4IIO7SOg"
      },
      "source": [
        "(1 балл) Посчитайте количество пропусков (пропуском считается значение `unknown` или `None`):"
      ]
    },
    {
      "cell_type": "code",
      "execution_count": 26,
      "metadata": {
        "id": "GjDPaCcQyjoS"
      },
      "outputs": [],
      "source": [
        "omissions = ((diamonds == 'None') | (diamonds == 'unknown'))"
      ]
    },
    {
      "cell_type": "code",
      "execution_count": 27,
      "metadata": {
        "id": "BuJZ0UoN7qAU",
        "colab": {
          "base_uri": "https://localhost:8080/"
        },
        "outputId": "df6972ef-dabb-4aea-c405-bdf62f9e0a34"
      },
      "outputs": [
        {
          "output_type": "execute_result",
          "data": {
            "text/plain": [
              "1891168"
            ]
          },
          "metadata": {},
          "execution_count": 27
        }
      ],
      "source": [
        "omissions.sum().sum()"
      ]
    },
    {
      "cell_type": "markdown",
      "metadata": {
        "id": "d5LWUc_fh0vb"
      },
      "source": [
        "(1 балл) Найдите в каких столбцах присутствуют пропуски:"
      ]
    },
    {
      "cell_type": "code",
      "execution_count": 28,
      "metadata": {
        "id": "xx79qSUK1oXT",
        "colab": {
          "base_uri": "https://localhost:8080/"
        },
        "outputId": "c7a0885a-e31c-4964-994f-2c6111d69652"
      },
      "outputs": [
        {
          "output_type": "execute_result",
          "data": {
            "text/plain": [
              "Unnamed: 0                     False\n",
              "cut                            False\n",
              "color                           True\n",
              "clarity                        False\n",
              "carat_weight                   False\n",
              "cut_quality                     True\n",
              "lab                            False\n",
              "symmetry                       False\n",
              "polish                         False\n",
              "eye_clean                       True\n",
              "culet_size                      True\n",
              "culet_condition                 True\n",
              "depth_percent                  False\n",
              "table_percent                  False\n",
              "meas_length                    False\n",
              "meas_width                     False\n",
              "meas_depth                     False\n",
              "girdle_min                      True\n",
              "girdle_max                      True\n",
              "fluor_color                     True\n",
              "fluor_intensity                 True\n",
              "fancy_color_dominant_color      True\n",
              "fancy_color_secondary_color     True\n",
              "fancy_color_overtone            True\n",
              "fancy_color_intensity           True\n",
              "total_sales_price              False\n",
              "dtype: bool"
            ]
          },
          "metadata": {},
          "execution_count": 28
        }
      ],
      "source": [
        "omissions.any()"
      ]
    },
    {
      "cell_type": "markdown",
      "metadata": {
        "id": "UznNZpJ47qGX"
      },
      "source": [
        "В нашем датасете присутствуют колонки, которые начинаются с `fancy_color_` или `fluor_`. Большинство значений в этих колонках - `unknown` или `None`, поэтому мы считаем их малоинформативными. "
      ]
    },
    {
      "cell_type": "markdown",
      "metadata": {
        "id": "Rkk6Hr2Ui87X"
      },
      "source": [
        "Ваша задача:"
      ]
    },
    {
      "cell_type": "markdown",
      "metadata": {
        "id": "YYBDAgSSi-JU"
      },
      "source": [
        "1. (0.5 балла) найти количество таких колонок, которые начинаются с `fancy_color_` или `fluor_`:"
      ]
    },
    {
      "cell_type": "code",
      "execution_count": 29,
      "metadata": {
        "id": "CRZz6JuV3nB9"
      },
      "outputs": [],
      "source": [
        "def get_columns_with_prefix(dataframe, prefix: str):\n",
        "  return dataframe.columns.str.startswith(prefix)"
      ]
    },
    {
      "cell_type": "code",
      "execution_count": 30,
      "metadata": {
        "id": "nbTUkk4T8-wO",
        "colab": {
          "base_uri": "https://localhost:8080/"
        },
        "outputId": "65983715-49c1-4cee-f7ae-e431a1b7927d"
      },
      "outputs": [
        {
          "output_type": "execute_result",
          "data": {
            "text/plain": [
              "6"
            ]
          },
          "metadata": {},
          "execution_count": 30
        }
      ],
      "source": [
        "non_informative = (get_columns_with_prefix(diamonds, 'fancy_color_')\n",
        "                   | get_columns_with_prefix(diamonds, 'fluor_'))\n",
        "non_informative.sum()"
      ]
    },
    {
      "cell_type": "markdown",
      "metadata": {
        "id": "imop6nNujA6z"
      },
      "source": [
        "2. (0.5 балла) найти количество информативных (не `None` или `unknown`) значений в этих колонках: "
      ]
    },
    {
      "cell_type": "code",
      "execution_count": 31,
      "metadata": {
        "id": "jtJcBwAVjPHU",
        "colab": {
          "base_uri": "https://localhost:8080/"
        },
        "outputId": "03543f09-8e7b-4aaf-b92b-fb495d2bd613"
      },
      "outputs": [
        {
          "output_type": "execute_result",
          "data": {
            "text/plain": [
              "111586"
            ]
          },
          "metadata": {},
          "execution_count": 31
        }
      ],
      "source": [
        "len(omissions) * non_informative.sum() -  omissions.loc[:, non_informative].sum().sum()"
      ]
    },
    {
      "cell_type": "markdown",
      "metadata": {
        "id": "wFbuTnkbjPeq"
      },
      "source": [
        "3. (0.5 балла) удалить данные колонки из датасета, сохранив изменения (в дальнейшем работаем измененным датасетом):"
      ]
    },
    {
      "cell_type": "code",
      "execution_count": 32,
      "metadata": {
        "id": "qSZ5cmKWjutz",
        "colab": {
          "base_uri": "https://localhost:8080/",
          "height": 357
        },
        "outputId": "35adbb4c-6136-4124-865e-44d5ebd80c66"
      },
      "outputs": [
        {
          "output_type": "execute_result",
          "data": {
            "text/plain": [
              "   Unnamed: 0    cut color clarity  carat_weight cut_quality  lab   symmetry  \\\n",
              "0           0  Round     E    VVS2          0.09   Excellent  IGI  Very Good   \n",
              "1           1  Round     E    VVS2          0.09   Very Good  IGI  Very Good   \n",
              "2           2  Round     E    VVS2          0.09   Excellent  IGI  Very Good   \n",
              "3           3  Round     E    VVS2          0.09   Excellent  IGI  Very Good   \n",
              "4           4  Round     E    VVS2          0.09   Very Good  IGI  Very Good   \n",
              "\n",
              "      polish eye_clean culet_size culet_condition  depth_percent  \\\n",
              "0  Very Good   unknown          N         unknown           62.7   \n",
              "1  Very Good   unknown          N         unknown           61.9   \n",
              "2  Very Good   unknown    unknown         unknown           61.1   \n",
              "3  Very Good   unknown    unknown         unknown           62.0   \n",
              "4  Excellent   unknown          N         unknown           64.9   \n",
              "\n",
              "   table_percent  meas_length  meas_width  meas_depth girdle_min girdle_max  \\\n",
              "0           59.0         2.85        2.87        1.79          M          M   \n",
              "1           59.0         2.84        2.89        1.78        STK        STK   \n",
              "2           59.0         2.88        2.90        1.77         TN          M   \n",
              "3           59.0         2.86        2.88        1.78          M        STK   \n",
              "4           58.5         2.79        2.83        1.82        STK        STK   \n",
              "\n",
              "   total_sales_price  \n",
              "0                200  \n",
              "1                200  \n",
              "2                200  \n",
              "3                200  \n",
              "4                200  "
            ],
            "text/html": [
              "\n",
              "  <div id=\"df-a22f1e7e-22d5-4563-97e5-d2b8f2b01d6a\">\n",
              "    <div class=\"colab-df-container\">\n",
              "      <div>\n",
              "<style scoped>\n",
              "    .dataframe tbody tr th:only-of-type {\n",
              "        vertical-align: middle;\n",
              "    }\n",
              "\n",
              "    .dataframe tbody tr th {\n",
              "        vertical-align: top;\n",
              "    }\n",
              "\n",
              "    .dataframe thead th {\n",
              "        text-align: right;\n",
              "    }\n",
              "</style>\n",
              "<table border=\"1\" class=\"dataframe\">\n",
              "  <thead>\n",
              "    <tr style=\"text-align: right;\">\n",
              "      <th></th>\n",
              "      <th>Unnamed: 0</th>\n",
              "      <th>cut</th>\n",
              "      <th>color</th>\n",
              "      <th>clarity</th>\n",
              "      <th>carat_weight</th>\n",
              "      <th>cut_quality</th>\n",
              "      <th>lab</th>\n",
              "      <th>symmetry</th>\n",
              "      <th>polish</th>\n",
              "      <th>eye_clean</th>\n",
              "      <th>culet_size</th>\n",
              "      <th>culet_condition</th>\n",
              "      <th>depth_percent</th>\n",
              "      <th>table_percent</th>\n",
              "      <th>meas_length</th>\n",
              "      <th>meas_width</th>\n",
              "      <th>meas_depth</th>\n",
              "      <th>girdle_min</th>\n",
              "      <th>girdle_max</th>\n",
              "      <th>total_sales_price</th>\n",
              "    </tr>\n",
              "  </thead>\n",
              "  <tbody>\n",
              "    <tr>\n",
              "      <th>0</th>\n",
              "      <td>0</td>\n",
              "      <td>Round</td>\n",
              "      <td>E</td>\n",
              "      <td>VVS2</td>\n",
              "      <td>0.09</td>\n",
              "      <td>Excellent</td>\n",
              "      <td>IGI</td>\n",
              "      <td>Very Good</td>\n",
              "      <td>Very Good</td>\n",
              "      <td>unknown</td>\n",
              "      <td>N</td>\n",
              "      <td>unknown</td>\n",
              "      <td>62.7</td>\n",
              "      <td>59.0</td>\n",
              "      <td>2.85</td>\n",
              "      <td>2.87</td>\n",
              "      <td>1.79</td>\n",
              "      <td>M</td>\n",
              "      <td>M</td>\n",
              "      <td>200</td>\n",
              "    </tr>\n",
              "    <tr>\n",
              "      <th>1</th>\n",
              "      <td>1</td>\n",
              "      <td>Round</td>\n",
              "      <td>E</td>\n",
              "      <td>VVS2</td>\n",
              "      <td>0.09</td>\n",
              "      <td>Very Good</td>\n",
              "      <td>IGI</td>\n",
              "      <td>Very Good</td>\n",
              "      <td>Very Good</td>\n",
              "      <td>unknown</td>\n",
              "      <td>N</td>\n",
              "      <td>unknown</td>\n",
              "      <td>61.9</td>\n",
              "      <td>59.0</td>\n",
              "      <td>2.84</td>\n",
              "      <td>2.89</td>\n",
              "      <td>1.78</td>\n",
              "      <td>STK</td>\n",
              "      <td>STK</td>\n",
              "      <td>200</td>\n",
              "    </tr>\n",
              "    <tr>\n",
              "      <th>2</th>\n",
              "      <td>2</td>\n",
              "      <td>Round</td>\n",
              "      <td>E</td>\n",
              "      <td>VVS2</td>\n",
              "      <td>0.09</td>\n",
              "      <td>Excellent</td>\n",
              "      <td>IGI</td>\n",
              "      <td>Very Good</td>\n",
              "      <td>Very Good</td>\n",
              "      <td>unknown</td>\n",
              "      <td>unknown</td>\n",
              "      <td>unknown</td>\n",
              "      <td>61.1</td>\n",
              "      <td>59.0</td>\n",
              "      <td>2.88</td>\n",
              "      <td>2.90</td>\n",
              "      <td>1.77</td>\n",
              "      <td>TN</td>\n",
              "      <td>M</td>\n",
              "      <td>200</td>\n",
              "    </tr>\n",
              "    <tr>\n",
              "      <th>3</th>\n",
              "      <td>3</td>\n",
              "      <td>Round</td>\n",
              "      <td>E</td>\n",
              "      <td>VVS2</td>\n",
              "      <td>0.09</td>\n",
              "      <td>Excellent</td>\n",
              "      <td>IGI</td>\n",
              "      <td>Very Good</td>\n",
              "      <td>Very Good</td>\n",
              "      <td>unknown</td>\n",
              "      <td>unknown</td>\n",
              "      <td>unknown</td>\n",
              "      <td>62.0</td>\n",
              "      <td>59.0</td>\n",
              "      <td>2.86</td>\n",
              "      <td>2.88</td>\n",
              "      <td>1.78</td>\n",
              "      <td>M</td>\n",
              "      <td>STK</td>\n",
              "      <td>200</td>\n",
              "    </tr>\n",
              "    <tr>\n",
              "      <th>4</th>\n",
              "      <td>4</td>\n",
              "      <td>Round</td>\n",
              "      <td>E</td>\n",
              "      <td>VVS2</td>\n",
              "      <td>0.09</td>\n",
              "      <td>Very Good</td>\n",
              "      <td>IGI</td>\n",
              "      <td>Very Good</td>\n",
              "      <td>Excellent</td>\n",
              "      <td>unknown</td>\n",
              "      <td>N</td>\n",
              "      <td>unknown</td>\n",
              "      <td>64.9</td>\n",
              "      <td>58.5</td>\n",
              "      <td>2.79</td>\n",
              "      <td>2.83</td>\n",
              "      <td>1.82</td>\n",
              "      <td>STK</td>\n",
              "      <td>STK</td>\n",
              "      <td>200</td>\n",
              "    </tr>\n",
              "  </tbody>\n",
              "</table>\n",
              "</div>\n",
              "      <button class=\"colab-df-convert\" onclick=\"convertToInteractive('df-a22f1e7e-22d5-4563-97e5-d2b8f2b01d6a')\"\n",
              "              title=\"Convert this dataframe to an interactive table.\"\n",
              "              style=\"display:none;\">\n",
              "        \n",
              "  <svg xmlns=\"http://www.w3.org/2000/svg\" height=\"24px\"viewBox=\"0 0 24 24\"\n",
              "       width=\"24px\">\n",
              "    <path d=\"M0 0h24v24H0V0z\" fill=\"none\"/>\n",
              "    <path d=\"M18.56 5.44l.94 2.06.94-2.06 2.06-.94-2.06-.94-.94-2.06-.94 2.06-2.06.94zm-11 1L8.5 8.5l.94-2.06 2.06-.94-2.06-.94L8.5 2.5l-.94 2.06-2.06.94zm10 10l.94 2.06.94-2.06 2.06-.94-2.06-.94-.94-2.06-.94 2.06-2.06.94z\"/><path d=\"M17.41 7.96l-1.37-1.37c-.4-.4-.92-.59-1.43-.59-.52 0-1.04.2-1.43.59L10.3 9.45l-7.72 7.72c-.78.78-.78 2.05 0 2.83L4 21.41c.39.39.9.59 1.41.59.51 0 1.02-.2 1.41-.59l7.78-7.78 2.81-2.81c.8-.78.8-2.07 0-2.86zM5.41 20L4 18.59l7.72-7.72 1.47 1.35L5.41 20z\"/>\n",
              "  </svg>\n",
              "      </button>\n",
              "      \n",
              "  <style>\n",
              "    .colab-df-container {\n",
              "      display:flex;\n",
              "      flex-wrap:wrap;\n",
              "      gap: 12px;\n",
              "    }\n",
              "\n",
              "    .colab-df-convert {\n",
              "      background-color: #E8F0FE;\n",
              "      border: none;\n",
              "      border-radius: 50%;\n",
              "      cursor: pointer;\n",
              "      display: none;\n",
              "      fill: #1967D2;\n",
              "      height: 32px;\n",
              "      padding: 0 0 0 0;\n",
              "      width: 32px;\n",
              "    }\n",
              "\n",
              "    .colab-df-convert:hover {\n",
              "      background-color: #E2EBFA;\n",
              "      box-shadow: 0px 1px 2px rgba(60, 64, 67, 0.3), 0px 1px 3px 1px rgba(60, 64, 67, 0.15);\n",
              "      fill: #174EA6;\n",
              "    }\n",
              "\n",
              "    [theme=dark] .colab-df-convert {\n",
              "      background-color: #3B4455;\n",
              "      fill: #D2E3FC;\n",
              "    }\n",
              "\n",
              "    [theme=dark] .colab-df-convert:hover {\n",
              "      background-color: #434B5C;\n",
              "      box-shadow: 0px 1px 3px 1px rgba(0, 0, 0, 0.15);\n",
              "      filter: drop-shadow(0px 1px 2px rgba(0, 0, 0, 0.3));\n",
              "      fill: #FFFFFF;\n",
              "    }\n",
              "  </style>\n",
              "\n",
              "      <script>\n",
              "        const buttonEl =\n",
              "          document.querySelector('#df-a22f1e7e-22d5-4563-97e5-d2b8f2b01d6a button.colab-df-convert');\n",
              "        buttonEl.style.display =\n",
              "          google.colab.kernel.accessAllowed ? 'block' : 'none';\n",
              "\n",
              "        async function convertToInteractive(key) {\n",
              "          const element = document.querySelector('#df-a22f1e7e-22d5-4563-97e5-d2b8f2b01d6a');\n",
              "          const dataTable =\n",
              "            await google.colab.kernel.invokeFunction('convertToInteractive',\n",
              "                                                     [key], {});\n",
              "          if (!dataTable) return;\n",
              "\n",
              "          const docLinkHtml = 'Like what you see? Visit the ' +\n",
              "            '<a target=\"_blank\" href=https://colab.research.google.com/notebooks/data_table.ipynb>data table notebook</a>'\n",
              "            + ' to learn more about interactive tables.';\n",
              "          element.innerHTML = '';\n",
              "          dataTable['output_type'] = 'display_data';\n",
              "          await google.colab.output.renderOutput(dataTable, element);\n",
              "          const docLink = document.createElement('div');\n",
              "          docLink.innerHTML = docLinkHtml;\n",
              "          element.appendChild(docLink);\n",
              "        }\n",
              "      </script>\n",
              "    </div>\n",
              "  </div>\n",
              "  "
            ]
          },
          "metadata": {},
          "execution_count": 32
        }
      ],
      "source": [
        "diamonds2 = diamonds.loc[:, ~non_informative]\n",
        "diamonds2.head()"
      ]
    },
    {
      "cell_type": "markdown",
      "metadata": {
        "id": "JID3q4vr8-2h"
      },
      "source": [
        "(1 балл) Проделайте тоже самое для колонок, начинающихся с `culet_`:"
      ]
    },
    {
      "cell_type": "code",
      "execution_count": 33,
      "metadata": {
        "id": "Wfsvzyad-T6P",
        "colab": {
          "base_uri": "https://localhost:8080/",
          "height": 206
        },
        "outputId": "5adc2574-ec55-4bb2-caa0-e62e66ad7d71"
      },
      "outputs": [
        {
          "output_type": "execute_result",
          "data": {
            "text/plain": [
              "   Unnamed: 0    cut color clarity  carat_weight cut_quality  lab   symmetry  \\\n",
              "0           0  Round     E    VVS2          0.09   Excellent  IGI  Very Good   \n",
              "1           1  Round     E    VVS2          0.09   Very Good  IGI  Very Good   \n",
              "2           2  Round     E    VVS2          0.09   Excellent  IGI  Very Good   \n",
              "3           3  Round     E    VVS2          0.09   Excellent  IGI  Very Good   \n",
              "4           4  Round     E    VVS2          0.09   Very Good  IGI  Very Good   \n",
              "\n",
              "      polish eye_clean  depth_percent  table_percent  meas_length  meas_width  \\\n",
              "0  Very Good   unknown           62.7           59.0         2.85        2.87   \n",
              "1  Very Good   unknown           61.9           59.0         2.84        2.89   \n",
              "2  Very Good   unknown           61.1           59.0         2.88        2.90   \n",
              "3  Very Good   unknown           62.0           59.0         2.86        2.88   \n",
              "4  Excellent   unknown           64.9           58.5         2.79        2.83   \n",
              "\n",
              "   meas_depth girdle_min girdle_max  total_sales_price  \n",
              "0        1.79          M          M                200  \n",
              "1        1.78        STK        STK                200  \n",
              "2        1.77         TN          M                200  \n",
              "3        1.78          M        STK                200  \n",
              "4        1.82        STK        STK                200  "
            ],
            "text/html": [
              "\n",
              "  <div id=\"df-c6f01f41-85e8-4d4f-bdd0-27ef801886f0\">\n",
              "    <div class=\"colab-df-container\">\n",
              "      <div>\n",
              "<style scoped>\n",
              "    .dataframe tbody tr th:only-of-type {\n",
              "        vertical-align: middle;\n",
              "    }\n",
              "\n",
              "    .dataframe tbody tr th {\n",
              "        vertical-align: top;\n",
              "    }\n",
              "\n",
              "    .dataframe thead th {\n",
              "        text-align: right;\n",
              "    }\n",
              "</style>\n",
              "<table border=\"1\" class=\"dataframe\">\n",
              "  <thead>\n",
              "    <tr style=\"text-align: right;\">\n",
              "      <th></th>\n",
              "      <th>Unnamed: 0</th>\n",
              "      <th>cut</th>\n",
              "      <th>color</th>\n",
              "      <th>clarity</th>\n",
              "      <th>carat_weight</th>\n",
              "      <th>cut_quality</th>\n",
              "      <th>lab</th>\n",
              "      <th>symmetry</th>\n",
              "      <th>polish</th>\n",
              "      <th>eye_clean</th>\n",
              "      <th>depth_percent</th>\n",
              "      <th>table_percent</th>\n",
              "      <th>meas_length</th>\n",
              "      <th>meas_width</th>\n",
              "      <th>meas_depth</th>\n",
              "      <th>girdle_min</th>\n",
              "      <th>girdle_max</th>\n",
              "      <th>total_sales_price</th>\n",
              "    </tr>\n",
              "  </thead>\n",
              "  <tbody>\n",
              "    <tr>\n",
              "      <th>0</th>\n",
              "      <td>0</td>\n",
              "      <td>Round</td>\n",
              "      <td>E</td>\n",
              "      <td>VVS2</td>\n",
              "      <td>0.09</td>\n",
              "      <td>Excellent</td>\n",
              "      <td>IGI</td>\n",
              "      <td>Very Good</td>\n",
              "      <td>Very Good</td>\n",
              "      <td>unknown</td>\n",
              "      <td>62.7</td>\n",
              "      <td>59.0</td>\n",
              "      <td>2.85</td>\n",
              "      <td>2.87</td>\n",
              "      <td>1.79</td>\n",
              "      <td>M</td>\n",
              "      <td>M</td>\n",
              "      <td>200</td>\n",
              "    </tr>\n",
              "    <tr>\n",
              "      <th>1</th>\n",
              "      <td>1</td>\n",
              "      <td>Round</td>\n",
              "      <td>E</td>\n",
              "      <td>VVS2</td>\n",
              "      <td>0.09</td>\n",
              "      <td>Very Good</td>\n",
              "      <td>IGI</td>\n",
              "      <td>Very Good</td>\n",
              "      <td>Very Good</td>\n",
              "      <td>unknown</td>\n",
              "      <td>61.9</td>\n",
              "      <td>59.0</td>\n",
              "      <td>2.84</td>\n",
              "      <td>2.89</td>\n",
              "      <td>1.78</td>\n",
              "      <td>STK</td>\n",
              "      <td>STK</td>\n",
              "      <td>200</td>\n",
              "    </tr>\n",
              "    <tr>\n",
              "      <th>2</th>\n",
              "      <td>2</td>\n",
              "      <td>Round</td>\n",
              "      <td>E</td>\n",
              "      <td>VVS2</td>\n",
              "      <td>0.09</td>\n",
              "      <td>Excellent</td>\n",
              "      <td>IGI</td>\n",
              "      <td>Very Good</td>\n",
              "      <td>Very Good</td>\n",
              "      <td>unknown</td>\n",
              "      <td>61.1</td>\n",
              "      <td>59.0</td>\n",
              "      <td>2.88</td>\n",
              "      <td>2.90</td>\n",
              "      <td>1.77</td>\n",
              "      <td>TN</td>\n",
              "      <td>M</td>\n",
              "      <td>200</td>\n",
              "    </tr>\n",
              "    <tr>\n",
              "      <th>3</th>\n",
              "      <td>3</td>\n",
              "      <td>Round</td>\n",
              "      <td>E</td>\n",
              "      <td>VVS2</td>\n",
              "      <td>0.09</td>\n",
              "      <td>Excellent</td>\n",
              "      <td>IGI</td>\n",
              "      <td>Very Good</td>\n",
              "      <td>Very Good</td>\n",
              "      <td>unknown</td>\n",
              "      <td>62.0</td>\n",
              "      <td>59.0</td>\n",
              "      <td>2.86</td>\n",
              "      <td>2.88</td>\n",
              "      <td>1.78</td>\n",
              "      <td>M</td>\n",
              "      <td>STK</td>\n",
              "      <td>200</td>\n",
              "    </tr>\n",
              "    <tr>\n",
              "      <th>4</th>\n",
              "      <td>4</td>\n",
              "      <td>Round</td>\n",
              "      <td>E</td>\n",
              "      <td>VVS2</td>\n",
              "      <td>0.09</td>\n",
              "      <td>Very Good</td>\n",
              "      <td>IGI</td>\n",
              "      <td>Very Good</td>\n",
              "      <td>Excellent</td>\n",
              "      <td>unknown</td>\n",
              "      <td>64.9</td>\n",
              "      <td>58.5</td>\n",
              "      <td>2.79</td>\n",
              "      <td>2.83</td>\n",
              "      <td>1.82</td>\n",
              "      <td>STK</td>\n",
              "      <td>STK</td>\n",
              "      <td>200</td>\n",
              "    </tr>\n",
              "  </tbody>\n",
              "</table>\n",
              "</div>\n",
              "      <button class=\"colab-df-convert\" onclick=\"convertToInteractive('df-c6f01f41-85e8-4d4f-bdd0-27ef801886f0')\"\n",
              "              title=\"Convert this dataframe to an interactive table.\"\n",
              "              style=\"display:none;\">\n",
              "        \n",
              "  <svg xmlns=\"http://www.w3.org/2000/svg\" height=\"24px\"viewBox=\"0 0 24 24\"\n",
              "       width=\"24px\">\n",
              "    <path d=\"M0 0h24v24H0V0z\" fill=\"none\"/>\n",
              "    <path d=\"M18.56 5.44l.94 2.06.94-2.06 2.06-.94-2.06-.94-.94-2.06-.94 2.06-2.06.94zm-11 1L8.5 8.5l.94-2.06 2.06-.94-2.06-.94L8.5 2.5l-.94 2.06-2.06.94zm10 10l.94 2.06.94-2.06 2.06-.94-2.06-.94-.94-2.06-.94 2.06-2.06.94z\"/><path d=\"M17.41 7.96l-1.37-1.37c-.4-.4-.92-.59-1.43-.59-.52 0-1.04.2-1.43.59L10.3 9.45l-7.72 7.72c-.78.78-.78 2.05 0 2.83L4 21.41c.39.39.9.59 1.41.59.51 0 1.02-.2 1.41-.59l7.78-7.78 2.81-2.81c.8-.78.8-2.07 0-2.86zM5.41 20L4 18.59l7.72-7.72 1.47 1.35L5.41 20z\"/>\n",
              "  </svg>\n",
              "      </button>\n",
              "      \n",
              "  <style>\n",
              "    .colab-df-container {\n",
              "      display:flex;\n",
              "      flex-wrap:wrap;\n",
              "      gap: 12px;\n",
              "    }\n",
              "\n",
              "    .colab-df-convert {\n",
              "      background-color: #E8F0FE;\n",
              "      border: none;\n",
              "      border-radius: 50%;\n",
              "      cursor: pointer;\n",
              "      display: none;\n",
              "      fill: #1967D2;\n",
              "      height: 32px;\n",
              "      padding: 0 0 0 0;\n",
              "      width: 32px;\n",
              "    }\n",
              "\n",
              "    .colab-df-convert:hover {\n",
              "      background-color: #E2EBFA;\n",
              "      box-shadow: 0px 1px 2px rgba(60, 64, 67, 0.3), 0px 1px 3px 1px rgba(60, 64, 67, 0.15);\n",
              "      fill: #174EA6;\n",
              "    }\n",
              "\n",
              "    [theme=dark] .colab-df-convert {\n",
              "      background-color: #3B4455;\n",
              "      fill: #D2E3FC;\n",
              "    }\n",
              "\n",
              "    [theme=dark] .colab-df-convert:hover {\n",
              "      background-color: #434B5C;\n",
              "      box-shadow: 0px 1px 3px 1px rgba(0, 0, 0, 0.15);\n",
              "      filter: drop-shadow(0px 1px 2px rgba(0, 0, 0, 0.3));\n",
              "      fill: #FFFFFF;\n",
              "    }\n",
              "  </style>\n",
              "\n",
              "      <script>\n",
              "        const buttonEl =\n",
              "          document.querySelector('#df-c6f01f41-85e8-4d4f-bdd0-27ef801886f0 button.colab-df-convert');\n",
              "        buttonEl.style.display =\n",
              "          google.colab.kernel.accessAllowed ? 'block' : 'none';\n",
              "\n",
              "        async function convertToInteractive(key) {\n",
              "          const element = document.querySelector('#df-c6f01f41-85e8-4d4f-bdd0-27ef801886f0');\n",
              "          const dataTable =\n",
              "            await google.colab.kernel.invokeFunction('convertToInteractive',\n",
              "                                                     [key], {});\n",
              "          if (!dataTable) return;\n",
              "\n",
              "          const docLinkHtml = 'Like what you see? Visit the ' +\n",
              "            '<a target=\"_blank\" href=https://colab.research.google.com/notebooks/data_table.ipynb>data table notebook</a>'\n",
              "            + ' to learn more about interactive tables.';\n",
              "          element.innerHTML = '';\n",
              "          dataTable['output_type'] = 'display_data';\n",
              "          await google.colab.output.renderOutput(dataTable, element);\n",
              "          const docLink = document.createElement('div');\n",
              "          docLink.innerHTML = docLinkHtml;\n",
              "          element.appendChild(docLink);\n",
              "        }\n",
              "      </script>\n",
              "    </div>\n",
              "  </div>\n",
              "  "
            ]
          },
          "metadata": {},
          "execution_count": 33
        }
      ],
      "source": [
        "diamonds3 = diamonds2.loc[:, ~get_columns_with_prefix(diamonds2, \"culet_\")]\n",
        "diamonds3.head()"
      ]
    },
    {
      "cell_type": "markdown",
      "metadata": {
        "id": "7_qYv5Xm-UCz"
      },
      "source": [
        "(1 балл) Посчитайте сколько бы стоил (в тысячах долларов) сейф, в котором хранились бы все бриллианты из датасета:"
      ]
    },
    {
      "cell_type": "code",
      "execution_count": 34,
      "metadata": {
        "id": "g2wVyz5U-cx7",
        "colab": {
          "base_uri": "https://localhost:8080/"
        },
        "outputId": "34d91e10-f801-47ed-9b27-93ed190840ec"
      },
      "outputs": [
        {
          "output_type": "execute_result",
          "data": {
            "text/plain": [
              "1517721.991"
            ]
          },
          "metadata": {},
          "execution_count": 34
        }
      ],
      "source": [
        "diamonds3['total_sales_price'].sum() / 1000"
      ]
    },
    {
      "cell_type": "markdown",
      "metadata": {
        "id": "GVwspHrUkRFv"
      },
      "source": [
        "Немного необоснованных манипуляций."
      ]
    },
    {
      "cell_type": "markdown",
      "metadata": {
        "id": "0j5Yr0mFxxfu"
      },
      "source": [
        "(1 балл) Выберите из датасета строки с четными индексами и выведете значения (не меняя нумерацию индексов):"
      ]
    },
    {
      "cell_type": "code",
      "execution_count": 35,
      "metadata": {
        "id": "dW2GOROfx6yd",
        "colab": {
          "base_uri": "https://localhost:8080/",
          "height": 468
        },
        "outputId": "e71896b6-89d2-44cd-c07c-fa188f0f6954"
      },
      "outputs": [
        {
          "output_type": "execute_result",
          "data": {
            "text/plain": [
              "        Unnamed: 0    cut    color clarity  carat_weight cut_quality  lab  \\\n",
              "0                0  Round        E    VVS2          0.09   Excellent  IGI   \n",
              "2                2  Round        E    VVS2          0.09   Excellent  IGI   \n",
              "4                4  Round        E    VVS2          0.09   Very Good  IGI   \n",
              "6                6  Round        E    VVS2          0.09   Very Good  IGI   \n",
              "8                8  Round        E    VVS2          0.09   Very Good  IGI   \n",
              "...            ...    ...      ...     ...           ...         ...  ...   \n",
              "219694      219695  Round        D      IF         12.52   Excellent  HRD   \n",
              "219696      219697   Oval        H     VS2         18.88     unknown  GIA   \n",
              "219698      219699  Round        E     VS1         10.65   Excellent  GIA   \n",
              "219700      219701  Round        E     VS1         18.07   Excellent  GIA   \n",
              "219702      219703   Pear  unknown    VVS2         10.03     unknown  GIA   \n",
              "\n",
              "         symmetry     polish eye_clean  depth_percent  table_percent  \\\n",
              "0       Very Good  Very Good   unknown           62.7           59.0   \n",
              "2       Very Good  Very Good   unknown           61.1           59.0   \n",
              "4       Very Good  Excellent   unknown           64.9           58.5   \n",
              "6       Very Good  Very Good   unknown           64.0           57.0   \n",
              "8       Very Good  Very Good   unknown           63.5           59.5   \n",
              "...           ...        ...       ...            ...            ...   \n",
              "219694  Excellent  Excellent   unknown           62.1           58.0   \n",
              "219696  Excellent  Excellent   unknown           57.1           55.0   \n",
              "219698  Excellent  Excellent   unknown           61.3           58.0   \n",
              "219700  Excellent  Excellent   unknown           60.2           59.0   \n",
              "219702  Very Good  Excellent   unknown           66.7           65.0   \n",
              "\n",
              "        meas_length  meas_width  meas_depth girdle_min girdle_max  \\\n",
              "0              2.85        2.87        1.79          M          M   \n",
              "2              2.88        2.90        1.77         TN          M   \n",
              "4              2.79        2.83        1.82        STK        STK   \n",
              "6              2.85        2.88        1.84        STK        STK   \n",
              "8              2.89        2.92        1.85        STK         TK   \n",
              "...             ...         ...         ...        ...        ...   \n",
              "219694        14.84       14.91        9.24    unknown    unknown   \n",
              "219696        21.34       15.23        8.69         TN        STK   \n",
              "219698        14.06       14.18        8.66          M        STK   \n",
              "219700        17.06       17.10       10.20         TN          M   \n",
              "219702        15.61       11.09        7.39    unknown    unknown   \n",
              "\n",
              "        total_sales_price  \n",
              "0                     200  \n",
              "2                     200  \n",
              "4                     200  \n",
              "6                     200  \n",
              "8                     200  \n",
              "...                   ...  \n",
              "219694            1121792  \n",
              "219696            1132347  \n",
              "219698            1210692  \n",
              "219700            1315496  \n",
              "219702            1449881  \n",
              "\n",
              "[109852 rows x 18 columns]"
            ],
            "text/html": [
              "\n",
              "  <div id=\"df-b0e71c69-e2c2-4e6b-92bc-5a7691010406\">\n",
              "    <div class=\"colab-df-container\">\n",
              "      <div>\n",
              "<style scoped>\n",
              "    .dataframe tbody tr th:only-of-type {\n",
              "        vertical-align: middle;\n",
              "    }\n",
              "\n",
              "    .dataframe tbody tr th {\n",
              "        vertical-align: top;\n",
              "    }\n",
              "\n",
              "    .dataframe thead th {\n",
              "        text-align: right;\n",
              "    }\n",
              "</style>\n",
              "<table border=\"1\" class=\"dataframe\">\n",
              "  <thead>\n",
              "    <tr style=\"text-align: right;\">\n",
              "      <th></th>\n",
              "      <th>Unnamed: 0</th>\n",
              "      <th>cut</th>\n",
              "      <th>color</th>\n",
              "      <th>clarity</th>\n",
              "      <th>carat_weight</th>\n",
              "      <th>cut_quality</th>\n",
              "      <th>lab</th>\n",
              "      <th>symmetry</th>\n",
              "      <th>polish</th>\n",
              "      <th>eye_clean</th>\n",
              "      <th>depth_percent</th>\n",
              "      <th>table_percent</th>\n",
              "      <th>meas_length</th>\n",
              "      <th>meas_width</th>\n",
              "      <th>meas_depth</th>\n",
              "      <th>girdle_min</th>\n",
              "      <th>girdle_max</th>\n",
              "      <th>total_sales_price</th>\n",
              "    </tr>\n",
              "  </thead>\n",
              "  <tbody>\n",
              "    <tr>\n",
              "      <th>0</th>\n",
              "      <td>0</td>\n",
              "      <td>Round</td>\n",
              "      <td>E</td>\n",
              "      <td>VVS2</td>\n",
              "      <td>0.09</td>\n",
              "      <td>Excellent</td>\n",
              "      <td>IGI</td>\n",
              "      <td>Very Good</td>\n",
              "      <td>Very Good</td>\n",
              "      <td>unknown</td>\n",
              "      <td>62.7</td>\n",
              "      <td>59.0</td>\n",
              "      <td>2.85</td>\n",
              "      <td>2.87</td>\n",
              "      <td>1.79</td>\n",
              "      <td>M</td>\n",
              "      <td>M</td>\n",
              "      <td>200</td>\n",
              "    </tr>\n",
              "    <tr>\n",
              "      <th>2</th>\n",
              "      <td>2</td>\n",
              "      <td>Round</td>\n",
              "      <td>E</td>\n",
              "      <td>VVS2</td>\n",
              "      <td>0.09</td>\n",
              "      <td>Excellent</td>\n",
              "      <td>IGI</td>\n",
              "      <td>Very Good</td>\n",
              "      <td>Very Good</td>\n",
              "      <td>unknown</td>\n",
              "      <td>61.1</td>\n",
              "      <td>59.0</td>\n",
              "      <td>2.88</td>\n",
              "      <td>2.90</td>\n",
              "      <td>1.77</td>\n",
              "      <td>TN</td>\n",
              "      <td>M</td>\n",
              "      <td>200</td>\n",
              "    </tr>\n",
              "    <tr>\n",
              "      <th>4</th>\n",
              "      <td>4</td>\n",
              "      <td>Round</td>\n",
              "      <td>E</td>\n",
              "      <td>VVS2</td>\n",
              "      <td>0.09</td>\n",
              "      <td>Very Good</td>\n",
              "      <td>IGI</td>\n",
              "      <td>Very Good</td>\n",
              "      <td>Excellent</td>\n",
              "      <td>unknown</td>\n",
              "      <td>64.9</td>\n",
              "      <td>58.5</td>\n",
              "      <td>2.79</td>\n",
              "      <td>2.83</td>\n",
              "      <td>1.82</td>\n",
              "      <td>STK</td>\n",
              "      <td>STK</td>\n",
              "      <td>200</td>\n",
              "    </tr>\n",
              "    <tr>\n",
              "      <th>6</th>\n",
              "      <td>6</td>\n",
              "      <td>Round</td>\n",
              "      <td>E</td>\n",
              "      <td>VVS2</td>\n",
              "      <td>0.09</td>\n",
              "      <td>Very Good</td>\n",
              "      <td>IGI</td>\n",
              "      <td>Very Good</td>\n",
              "      <td>Very Good</td>\n",
              "      <td>unknown</td>\n",
              "      <td>64.0</td>\n",
              "      <td>57.0</td>\n",
              "      <td>2.85</td>\n",
              "      <td>2.88</td>\n",
              "      <td>1.84</td>\n",
              "      <td>STK</td>\n",
              "      <td>STK</td>\n",
              "      <td>200</td>\n",
              "    </tr>\n",
              "    <tr>\n",
              "      <th>8</th>\n",
              "      <td>8</td>\n",
              "      <td>Round</td>\n",
              "      <td>E</td>\n",
              "      <td>VVS2</td>\n",
              "      <td>0.09</td>\n",
              "      <td>Very Good</td>\n",
              "      <td>IGI</td>\n",
              "      <td>Very Good</td>\n",
              "      <td>Very Good</td>\n",
              "      <td>unknown</td>\n",
              "      <td>63.5</td>\n",
              "      <td>59.5</td>\n",
              "      <td>2.89</td>\n",
              "      <td>2.92</td>\n",
              "      <td>1.85</td>\n",
              "      <td>STK</td>\n",
              "      <td>TK</td>\n",
              "      <td>200</td>\n",
              "    </tr>\n",
              "    <tr>\n",
              "      <th>...</th>\n",
              "      <td>...</td>\n",
              "      <td>...</td>\n",
              "      <td>...</td>\n",
              "      <td>...</td>\n",
              "      <td>...</td>\n",
              "      <td>...</td>\n",
              "      <td>...</td>\n",
              "      <td>...</td>\n",
              "      <td>...</td>\n",
              "      <td>...</td>\n",
              "      <td>...</td>\n",
              "      <td>...</td>\n",
              "      <td>...</td>\n",
              "      <td>...</td>\n",
              "      <td>...</td>\n",
              "      <td>...</td>\n",
              "      <td>...</td>\n",
              "      <td>...</td>\n",
              "    </tr>\n",
              "    <tr>\n",
              "      <th>219694</th>\n",
              "      <td>219695</td>\n",
              "      <td>Round</td>\n",
              "      <td>D</td>\n",
              "      <td>IF</td>\n",
              "      <td>12.52</td>\n",
              "      <td>Excellent</td>\n",
              "      <td>HRD</td>\n",
              "      <td>Excellent</td>\n",
              "      <td>Excellent</td>\n",
              "      <td>unknown</td>\n",
              "      <td>62.1</td>\n",
              "      <td>58.0</td>\n",
              "      <td>14.84</td>\n",
              "      <td>14.91</td>\n",
              "      <td>9.24</td>\n",
              "      <td>unknown</td>\n",
              "      <td>unknown</td>\n",
              "      <td>1121792</td>\n",
              "    </tr>\n",
              "    <tr>\n",
              "      <th>219696</th>\n",
              "      <td>219697</td>\n",
              "      <td>Oval</td>\n",
              "      <td>H</td>\n",
              "      <td>VS2</td>\n",
              "      <td>18.88</td>\n",
              "      <td>unknown</td>\n",
              "      <td>GIA</td>\n",
              "      <td>Excellent</td>\n",
              "      <td>Excellent</td>\n",
              "      <td>unknown</td>\n",
              "      <td>57.1</td>\n",
              "      <td>55.0</td>\n",
              "      <td>21.34</td>\n",
              "      <td>15.23</td>\n",
              "      <td>8.69</td>\n",
              "      <td>TN</td>\n",
              "      <td>STK</td>\n",
              "      <td>1132347</td>\n",
              "    </tr>\n",
              "    <tr>\n",
              "      <th>219698</th>\n",
              "      <td>219699</td>\n",
              "      <td>Round</td>\n",
              "      <td>E</td>\n",
              "      <td>VS1</td>\n",
              "      <td>10.65</td>\n",
              "      <td>Excellent</td>\n",
              "      <td>GIA</td>\n",
              "      <td>Excellent</td>\n",
              "      <td>Excellent</td>\n",
              "      <td>unknown</td>\n",
              "      <td>61.3</td>\n",
              "      <td>58.0</td>\n",
              "      <td>14.06</td>\n",
              "      <td>14.18</td>\n",
              "      <td>8.66</td>\n",
              "      <td>M</td>\n",
              "      <td>STK</td>\n",
              "      <td>1210692</td>\n",
              "    </tr>\n",
              "    <tr>\n",
              "      <th>219700</th>\n",
              "      <td>219701</td>\n",
              "      <td>Round</td>\n",
              "      <td>E</td>\n",
              "      <td>VS1</td>\n",
              "      <td>18.07</td>\n",
              "      <td>Excellent</td>\n",
              "      <td>GIA</td>\n",
              "      <td>Excellent</td>\n",
              "      <td>Excellent</td>\n",
              "      <td>unknown</td>\n",
              "      <td>60.2</td>\n",
              "      <td>59.0</td>\n",
              "      <td>17.06</td>\n",
              "      <td>17.10</td>\n",
              "      <td>10.20</td>\n",
              "      <td>TN</td>\n",
              "      <td>M</td>\n",
              "      <td>1315496</td>\n",
              "    </tr>\n",
              "    <tr>\n",
              "      <th>219702</th>\n",
              "      <td>219703</td>\n",
              "      <td>Pear</td>\n",
              "      <td>unknown</td>\n",
              "      <td>VVS2</td>\n",
              "      <td>10.03</td>\n",
              "      <td>unknown</td>\n",
              "      <td>GIA</td>\n",
              "      <td>Very Good</td>\n",
              "      <td>Excellent</td>\n",
              "      <td>unknown</td>\n",
              "      <td>66.7</td>\n",
              "      <td>65.0</td>\n",
              "      <td>15.61</td>\n",
              "      <td>11.09</td>\n",
              "      <td>7.39</td>\n",
              "      <td>unknown</td>\n",
              "      <td>unknown</td>\n",
              "      <td>1449881</td>\n",
              "    </tr>\n",
              "  </tbody>\n",
              "</table>\n",
              "<p>109852 rows × 18 columns</p>\n",
              "</div>\n",
              "      <button class=\"colab-df-convert\" onclick=\"convertToInteractive('df-b0e71c69-e2c2-4e6b-92bc-5a7691010406')\"\n",
              "              title=\"Convert this dataframe to an interactive table.\"\n",
              "              style=\"display:none;\">\n",
              "        \n",
              "  <svg xmlns=\"http://www.w3.org/2000/svg\" height=\"24px\"viewBox=\"0 0 24 24\"\n",
              "       width=\"24px\">\n",
              "    <path d=\"M0 0h24v24H0V0z\" fill=\"none\"/>\n",
              "    <path d=\"M18.56 5.44l.94 2.06.94-2.06 2.06-.94-2.06-.94-.94-2.06-.94 2.06-2.06.94zm-11 1L8.5 8.5l.94-2.06 2.06-.94-2.06-.94L8.5 2.5l-.94 2.06-2.06.94zm10 10l.94 2.06.94-2.06 2.06-.94-2.06-.94-.94-2.06-.94 2.06-2.06.94z\"/><path d=\"M17.41 7.96l-1.37-1.37c-.4-.4-.92-.59-1.43-.59-.52 0-1.04.2-1.43.59L10.3 9.45l-7.72 7.72c-.78.78-.78 2.05 0 2.83L4 21.41c.39.39.9.59 1.41.59.51 0 1.02-.2 1.41-.59l7.78-7.78 2.81-2.81c.8-.78.8-2.07 0-2.86zM5.41 20L4 18.59l7.72-7.72 1.47 1.35L5.41 20z\"/>\n",
              "  </svg>\n",
              "      </button>\n",
              "      \n",
              "  <style>\n",
              "    .colab-df-container {\n",
              "      display:flex;\n",
              "      flex-wrap:wrap;\n",
              "      gap: 12px;\n",
              "    }\n",
              "\n",
              "    .colab-df-convert {\n",
              "      background-color: #E8F0FE;\n",
              "      border: none;\n",
              "      border-radius: 50%;\n",
              "      cursor: pointer;\n",
              "      display: none;\n",
              "      fill: #1967D2;\n",
              "      height: 32px;\n",
              "      padding: 0 0 0 0;\n",
              "      width: 32px;\n",
              "    }\n",
              "\n",
              "    .colab-df-convert:hover {\n",
              "      background-color: #E2EBFA;\n",
              "      box-shadow: 0px 1px 2px rgba(60, 64, 67, 0.3), 0px 1px 3px 1px rgba(60, 64, 67, 0.15);\n",
              "      fill: #174EA6;\n",
              "    }\n",
              "\n",
              "    [theme=dark] .colab-df-convert {\n",
              "      background-color: #3B4455;\n",
              "      fill: #D2E3FC;\n",
              "    }\n",
              "\n",
              "    [theme=dark] .colab-df-convert:hover {\n",
              "      background-color: #434B5C;\n",
              "      box-shadow: 0px 1px 3px 1px rgba(0, 0, 0, 0.15);\n",
              "      filter: drop-shadow(0px 1px 2px rgba(0, 0, 0, 0.3));\n",
              "      fill: #FFFFFF;\n",
              "    }\n",
              "  </style>\n",
              "\n",
              "      <script>\n",
              "        const buttonEl =\n",
              "          document.querySelector('#df-b0e71c69-e2c2-4e6b-92bc-5a7691010406 button.colab-df-convert');\n",
              "        buttonEl.style.display =\n",
              "          google.colab.kernel.accessAllowed ? 'block' : 'none';\n",
              "\n",
              "        async function convertToInteractive(key) {\n",
              "          const element = document.querySelector('#df-b0e71c69-e2c2-4e6b-92bc-5a7691010406');\n",
              "          const dataTable =\n",
              "            await google.colab.kernel.invokeFunction('convertToInteractive',\n",
              "                                                     [key], {});\n",
              "          if (!dataTable) return;\n",
              "\n",
              "          const docLinkHtml = 'Like what you see? Visit the ' +\n",
              "            '<a target=\"_blank\" href=https://colab.research.google.com/notebooks/data_table.ipynb>data table notebook</a>'\n",
              "            + ' to learn more about interactive tables.';\n",
              "          element.innerHTML = '';\n",
              "          dataTable['output_type'] = 'display_data';\n",
              "          await google.colab.output.renderOutput(dataTable, element);\n",
              "          const docLink = document.createElement('div');\n",
              "          docLink.innerHTML = docLinkHtml;\n",
              "          element.appendChild(docLink);\n",
              "        }\n",
              "      </script>\n",
              "    </div>\n",
              "  </div>\n",
              "  "
            ]
          },
          "metadata": {},
          "execution_count": 35
        }
      ],
      "source": [
        "diamonds3.loc[diamonds3.index % 2 == 0]"
      ]
    },
    {
      "cell_type": "markdown",
      "metadata": {
        "id": "mNXqS4oox7TF"
      },
      "source": [
        "(0.5 балла) А теперь с индексами, кратными 6:"
      ]
    },
    {
      "cell_type": "code",
      "execution_count": 36,
      "metadata": {
        "id": "hy8LyzXix_SB",
        "colab": {
          "base_uri": "https://localhost:8080/",
          "height": 468
        },
        "outputId": "805997d5-1574-4af3-92f3-4a362e092763"
      },
      "outputs": [
        {
          "output_type": "execute_result",
          "data": {
            "text/plain": [
              "        Unnamed: 0      cut    color clarity  carat_weight cut_quality  lab  \\\n",
              "0                0    Round        E    VVS2          0.09   Excellent  IGI   \n",
              "6                6    Round        E    VVS2          0.09   Very Good  IGI   \n",
              "12              12    Round        E    VVS2          0.09   Very Good  IGI   \n",
              "18              18    Round        E    VVS2          0.09   Excellent  IGI   \n",
              "24              24    Round        L      I1          0.34   Excellent  IGI   \n",
              "...            ...      ...      ...     ...           ...         ...  ...   \n",
              "219678      219679    Round        G     VS1         10.23   Excellent  GIA   \n",
              "219684      219685  Radiant  unknown      I1          0.89     unknown  GIA   \n",
              "219690      219691    Round        D    VVS2         10.10   Excellent  GIA   \n",
              "219696      219697     Oval        H     VS2         18.88     unknown  GIA   \n",
              "219702      219703     Pear  unknown    VVS2         10.03     unknown  GIA   \n",
              "\n",
              "         symmetry     polish eye_clean  depth_percent  table_percent  \\\n",
              "0       Very Good  Very Good   unknown           62.7           59.0   \n",
              "6       Very Good  Very Good   unknown           64.0           57.0   \n",
              "12      Very Good  Very Good   unknown           61.8           58.5   \n",
              "18      Very Good  Very Good   unknown           61.0           60.0   \n",
              "24      Excellent  Excellent   unknown            0.0            0.0   \n",
              "...           ...        ...       ...            ...            ...   \n",
              "219678  Excellent  Excellent   unknown           62.7           55.0   \n",
              "219684       Good       Good   unknown           63.8           57.0   \n",
              "219690  Excellent  Excellent   unknown           59.4           59.0   \n",
              "219696  Excellent  Excellent   unknown           57.1           55.0   \n",
              "219702  Very Good  Excellent   unknown           66.7           65.0   \n",
              "\n",
              "        meas_length  meas_width  meas_depth girdle_min girdle_max  \\\n",
              "0              2.85        2.87        1.79          M          M   \n",
              "6              2.85        2.88        1.84        STK        STK   \n",
              "12             2.85        2.89        1.77        STK         TK   \n",
              "18             2.91        2.92        1.78          M          M   \n",
              "24             0.00        0.00        0.00    unknown    unknown   \n",
              "...             ...         ...         ...        ...        ...   \n",
              "219678        13.82       13.92        8.69         TN          M   \n",
              "219684         6.44        4.96        3.16         TK        VTK   \n",
              "219690        14.07       14.15        8.39          M        STK   \n",
              "219696        21.34       15.23        8.69         TN        STK   \n",
              "219702        15.61       11.09        7.39    unknown    unknown   \n",
              "\n",
              "        total_sales_price  \n",
              "0                     200  \n",
              "6                     200  \n",
              "12                    200  \n",
              "18                    200  \n",
              "24                    204  \n",
              "...                   ...  \n",
              "219678             859320  \n",
              "219684             982560  \n",
              "219690            1040739  \n",
              "219696            1132347  \n",
              "219702            1449881  \n",
              "\n",
              "[36618 rows x 18 columns]"
            ],
            "text/html": [
              "\n",
              "  <div id=\"df-f47d297a-a0f0-44eb-a620-fb1f9189e8ca\">\n",
              "    <div class=\"colab-df-container\">\n",
              "      <div>\n",
              "<style scoped>\n",
              "    .dataframe tbody tr th:only-of-type {\n",
              "        vertical-align: middle;\n",
              "    }\n",
              "\n",
              "    .dataframe tbody tr th {\n",
              "        vertical-align: top;\n",
              "    }\n",
              "\n",
              "    .dataframe thead th {\n",
              "        text-align: right;\n",
              "    }\n",
              "</style>\n",
              "<table border=\"1\" class=\"dataframe\">\n",
              "  <thead>\n",
              "    <tr style=\"text-align: right;\">\n",
              "      <th></th>\n",
              "      <th>Unnamed: 0</th>\n",
              "      <th>cut</th>\n",
              "      <th>color</th>\n",
              "      <th>clarity</th>\n",
              "      <th>carat_weight</th>\n",
              "      <th>cut_quality</th>\n",
              "      <th>lab</th>\n",
              "      <th>symmetry</th>\n",
              "      <th>polish</th>\n",
              "      <th>eye_clean</th>\n",
              "      <th>depth_percent</th>\n",
              "      <th>table_percent</th>\n",
              "      <th>meas_length</th>\n",
              "      <th>meas_width</th>\n",
              "      <th>meas_depth</th>\n",
              "      <th>girdle_min</th>\n",
              "      <th>girdle_max</th>\n",
              "      <th>total_sales_price</th>\n",
              "    </tr>\n",
              "  </thead>\n",
              "  <tbody>\n",
              "    <tr>\n",
              "      <th>0</th>\n",
              "      <td>0</td>\n",
              "      <td>Round</td>\n",
              "      <td>E</td>\n",
              "      <td>VVS2</td>\n",
              "      <td>0.09</td>\n",
              "      <td>Excellent</td>\n",
              "      <td>IGI</td>\n",
              "      <td>Very Good</td>\n",
              "      <td>Very Good</td>\n",
              "      <td>unknown</td>\n",
              "      <td>62.7</td>\n",
              "      <td>59.0</td>\n",
              "      <td>2.85</td>\n",
              "      <td>2.87</td>\n",
              "      <td>1.79</td>\n",
              "      <td>M</td>\n",
              "      <td>M</td>\n",
              "      <td>200</td>\n",
              "    </tr>\n",
              "    <tr>\n",
              "      <th>6</th>\n",
              "      <td>6</td>\n",
              "      <td>Round</td>\n",
              "      <td>E</td>\n",
              "      <td>VVS2</td>\n",
              "      <td>0.09</td>\n",
              "      <td>Very Good</td>\n",
              "      <td>IGI</td>\n",
              "      <td>Very Good</td>\n",
              "      <td>Very Good</td>\n",
              "      <td>unknown</td>\n",
              "      <td>64.0</td>\n",
              "      <td>57.0</td>\n",
              "      <td>2.85</td>\n",
              "      <td>2.88</td>\n",
              "      <td>1.84</td>\n",
              "      <td>STK</td>\n",
              "      <td>STK</td>\n",
              "      <td>200</td>\n",
              "    </tr>\n",
              "    <tr>\n",
              "      <th>12</th>\n",
              "      <td>12</td>\n",
              "      <td>Round</td>\n",
              "      <td>E</td>\n",
              "      <td>VVS2</td>\n",
              "      <td>0.09</td>\n",
              "      <td>Very Good</td>\n",
              "      <td>IGI</td>\n",
              "      <td>Very Good</td>\n",
              "      <td>Very Good</td>\n",
              "      <td>unknown</td>\n",
              "      <td>61.8</td>\n",
              "      <td>58.5</td>\n",
              "      <td>2.85</td>\n",
              "      <td>2.89</td>\n",
              "      <td>1.77</td>\n",
              "      <td>STK</td>\n",
              "      <td>TK</td>\n",
              "      <td>200</td>\n",
              "    </tr>\n",
              "    <tr>\n",
              "      <th>18</th>\n",
              "      <td>18</td>\n",
              "      <td>Round</td>\n",
              "      <td>E</td>\n",
              "      <td>VVS2</td>\n",
              "      <td>0.09</td>\n",
              "      <td>Excellent</td>\n",
              "      <td>IGI</td>\n",
              "      <td>Very Good</td>\n",
              "      <td>Very Good</td>\n",
              "      <td>unknown</td>\n",
              "      <td>61.0</td>\n",
              "      <td>60.0</td>\n",
              "      <td>2.91</td>\n",
              "      <td>2.92</td>\n",
              "      <td>1.78</td>\n",
              "      <td>M</td>\n",
              "      <td>M</td>\n",
              "      <td>200</td>\n",
              "    </tr>\n",
              "    <tr>\n",
              "      <th>24</th>\n",
              "      <td>24</td>\n",
              "      <td>Round</td>\n",
              "      <td>L</td>\n",
              "      <td>I1</td>\n",
              "      <td>0.34</td>\n",
              "      <td>Excellent</td>\n",
              "      <td>IGI</td>\n",
              "      <td>Excellent</td>\n",
              "      <td>Excellent</td>\n",
              "      <td>unknown</td>\n",
              "      <td>0.0</td>\n",
              "      <td>0.0</td>\n",
              "      <td>0.00</td>\n",
              "      <td>0.00</td>\n",
              "      <td>0.00</td>\n",
              "      <td>unknown</td>\n",
              "      <td>unknown</td>\n",
              "      <td>204</td>\n",
              "    </tr>\n",
              "    <tr>\n",
              "      <th>...</th>\n",
              "      <td>...</td>\n",
              "      <td>...</td>\n",
              "      <td>...</td>\n",
              "      <td>...</td>\n",
              "      <td>...</td>\n",
              "      <td>...</td>\n",
              "      <td>...</td>\n",
              "      <td>...</td>\n",
              "      <td>...</td>\n",
              "      <td>...</td>\n",
              "      <td>...</td>\n",
              "      <td>...</td>\n",
              "      <td>...</td>\n",
              "      <td>...</td>\n",
              "      <td>...</td>\n",
              "      <td>...</td>\n",
              "      <td>...</td>\n",
              "      <td>...</td>\n",
              "    </tr>\n",
              "    <tr>\n",
              "      <th>219678</th>\n",
              "      <td>219679</td>\n",
              "      <td>Round</td>\n",
              "      <td>G</td>\n",
              "      <td>VS1</td>\n",
              "      <td>10.23</td>\n",
              "      <td>Excellent</td>\n",
              "      <td>GIA</td>\n",
              "      <td>Excellent</td>\n",
              "      <td>Excellent</td>\n",
              "      <td>unknown</td>\n",
              "      <td>62.7</td>\n",
              "      <td>55.0</td>\n",
              "      <td>13.82</td>\n",
              "      <td>13.92</td>\n",
              "      <td>8.69</td>\n",
              "      <td>TN</td>\n",
              "      <td>M</td>\n",
              "      <td>859320</td>\n",
              "    </tr>\n",
              "    <tr>\n",
              "      <th>219684</th>\n",
              "      <td>219685</td>\n",
              "      <td>Radiant</td>\n",
              "      <td>unknown</td>\n",
              "      <td>I1</td>\n",
              "      <td>0.89</td>\n",
              "      <td>unknown</td>\n",
              "      <td>GIA</td>\n",
              "      <td>Good</td>\n",
              "      <td>Good</td>\n",
              "      <td>unknown</td>\n",
              "      <td>63.8</td>\n",
              "      <td>57.0</td>\n",
              "      <td>6.44</td>\n",
              "      <td>4.96</td>\n",
              "      <td>3.16</td>\n",
              "      <td>TK</td>\n",
              "      <td>VTK</td>\n",
              "      <td>982560</td>\n",
              "    </tr>\n",
              "    <tr>\n",
              "      <th>219690</th>\n",
              "      <td>219691</td>\n",
              "      <td>Round</td>\n",
              "      <td>D</td>\n",
              "      <td>VVS2</td>\n",
              "      <td>10.10</td>\n",
              "      <td>Excellent</td>\n",
              "      <td>GIA</td>\n",
              "      <td>Excellent</td>\n",
              "      <td>Excellent</td>\n",
              "      <td>unknown</td>\n",
              "      <td>59.4</td>\n",
              "      <td>59.0</td>\n",
              "      <td>14.07</td>\n",
              "      <td>14.15</td>\n",
              "      <td>8.39</td>\n",
              "      <td>M</td>\n",
              "      <td>STK</td>\n",
              "      <td>1040739</td>\n",
              "    </tr>\n",
              "    <tr>\n",
              "      <th>219696</th>\n",
              "      <td>219697</td>\n",
              "      <td>Oval</td>\n",
              "      <td>H</td>\n",
              "      <td>VS2</td>\n",
              "      <td>18.88</td>\n",
              "      <td>unknown</td>\n",
              "      <td>GIA</td>\n",
              "      <td>Excellent</td>\n",
              "      <td>Excellent</td>\n",
              "      <td>unknown</td>\n",
              "      <td>57.1</td>\n",
              "      <td>55.0</td>\n",
              "      <td>21.34</td>\n",
              "      <td>15.23</td>\n",
              "      <td>8.69</td>\n",
              "      <td>TN</td>\n",
              "      <td>STK</td>\n",
              "      <td>1132347</td>\n",
              "    </tr>\n",
              "    <tr>\n",
              "      <th>219702</th>\n",
              "      <td>219703</td>\n",
              "      <td>Pear</td>\n",
              "      <td>unknown</td>\n",
              "      <td>VVS2</td>\n",
              "      <td>10.03</td>\n",
              "      <td>unknown</td>\n",
              "      <td>GIA</td>\n",
              "      <td>Very Good</td>\n",
              "      <td>Excellent</td>\n",
              "      <td>unknown</td>\n",
              "      <td>66.7</td>\n",
              "      <td>65.0</td>\n",
              "      <td>15.61</td>\n",
              "      <td>11.09</td>\n",
              "      <td>7.39</td>\n",
              "      <td>unknown</td>\n",
              "      <td>unknown</td>\n",
              "      <td>1449881</td>\n",
              "    </tr>\n",
              "  </tbody>\n",
              "</table>\n",
              "<p>36618 rows × 18 columns</p>\n",
              "</div>\n",
              "      <button class=\"colab-df-convert\" onclick=\"convertToInteractive('df-f47d297a-a0f0-44eb-a620-fb1f9189e8ca')\"\n",
              "              title=\"Convert this dataframe to an interactive table.\"\n",
              "              style=\"display:none;\">\n",
              "        \n",
              "  <svg xmlns=\"http://www.w3.org/2000/svg\" height=\"24px\"viewBox=\"0 0 24 24\"\n",
              "       width=\"24px\">\n",
              "    <path d=\"M0 0h24v24H0V0z\" fill=\"none\"/>\n",
              "    <path d=\"M18.56 5.44l.94 2.06.94-2.06 2.06-.94-2.06-.94-.94-2.06-.94 2.06-2.06.94zm-11 1L8.5 8.5l.94-2.06 2.06-.94-2.06-.94L8.5 2.5l-.94 2.06-2.06.94zm10 10l.94 2.06.94-2.06 2.06-.94-2.06-.94-.94-2.06-.94 2.06-2.06.94z\"/><path d=\"M17.41 7.96l-1.37-1.37c-.4-.4-.92-.59-1.43-.59-.52 0-1.04.2-1.43.59L10.3 9.45l-7.72 7.72c-.78.78-.78 2.05 0 2.83L4 21.41c.39.39.9.59 1.41.59.51 0 1.02-.2 1.41-.59l7.78-7.78 2.81-2.81c.8-.78.8-2.07 0-2.86zM5.41 20L4 18.59l7.72-7.72 1.47 1.35L5.41 20z\"/>\n",
              "  </svg>\n",
              "      </button>\n",
              "      \n",
              "  <style>\n",
              "    .colab-df-container {\n",
              "      display:flex;\n",
              "      flex-wrap:wrap;\n",
              "      gap: 12px;\n",
              "    }\n",
              "\n",
              "    .colab-df-convert {\n",
              "      background-color: #E8F0FE;\n",
              "      border: none;\n",
              "      border-radius: 50%;\n",
              "      cursor: pointer;\n",
              "      display: none;\n",
              "      fill: #1967D2;\n",
              "      height: 32px;\n",
              "      padding: 0 0 0 0;\n",
              "      width: 32px;\n",
              "    }\n",
              "\n",
              "    .colab-df-convert:hover {\n",
              "      background-color: #E2EBFA;\n",
              "      box-shadow: 0px 1px 2px rgba(60, 64, 67, 0.3), 0px 1px 3px 1px rgba(60, 64, 67, 0.15);\n",
              "      fill: #174EA6;\n",
              "    }\n",
              "\n",
              "    [theme=dark] .colab-df-convert {\n",
              "      background-color: #3B4455;\n",
              "      fill: #D2E3FC;\n",
              "    }\n",
              "\n",
              "    [theme=dark] .colab-df-convert:hover {\n",
              "      background-color: #434B5C;\n",
              "      box-shadow: 0px 1px 3px 1px rgba(0, 0, 0, 0.15);\n",
              "      filter: drop-shadow(0px 1px 2px rgba(0, 0, 0, 0.3));\n",
              "      fill: #FFFFFF;\n",
              "    }\n",
              "  </style>\n",
              "\n",
              "      <script>\n",
              "        const buttonEl =\n",
              "          document.querySelector('#df-f47d297a-a0f0-44eb-a620-fb1f9189e8ca button.colab-df-convert');\n",
              "        buttonEl.style.display =\n",
              "          google.colab.kernel.accessAllowed ? 'block' : 'none';\n",
              "\n",
              "        async function convertToInteractive(key) {\n",
              "          const element = document.querySelector('#df-f47d297a-a0f0-44eb-a620-fb1f9189e8ca');\n",
              "          const dataTable =\n",
              "            await google.colab.kernel.invokeFunction('convertToInteractive',\n",
              "                                                     [key], {});\n",
              "          if (!dataTable) return;\n",
              "\n",
              "          const docLinkHtml = 'Like what you see? Visit the ' +\n",
              "            '<a target=\"_blank\" href=https://colab.research.google.com/notebooks/data_table.ipynb>data table notebook</a>'\n",
              "            + ' to learn more about interactive tables.';\n",
              "          element.innerHTML = '';\n",
              "          dataTable['output_type'] = 'display_data';\n",
              "          await google.colab.output.renderOutput(dataTable, element);\n",
              "          const docLink = document.createElement('div');\n",
              "          docLink.innerHTML = docLinkHtml;\n",
              "          element.appendChild(docLink);\n",
              "        }\n",
              "      </script>\n",
              "    </div>\n",
              "  </div>\n",
              "  "
            ]
          },
          "metadata": {},
          "execution_count": 36
        }
      ],
      "source": [
        "diamonds3.loc[diamonds3.index % 6 == 0]"
      ]
    },
    {
      "cell_type": "markdown",
      "metadata": {
        "id": "u94LL979x_bV"
      },
      "source": [
        "(1 балл) Выберете из датасета только категорильные признаки и выведете датасет:"
      ]
    },
    {
      "cell_type": "code",
      "execution_count": 37,
      "metadata": {
        "id": "2_LBNDWXyOOl",
        "colab": {
          "base_uri": "https://localhost:8080/",
          "height": 206
        },
        "outputId": "6382c0d3-db44-41d8-f320-57746c7fe09d"
      },
      "outputs": [
        {
          "output_type": "execute_result",
          "data": {
            "text/plain": [
              "     cut color clarity cut_quality  lab   symmetry     polish eye_clean  \\\n",
              "0  Round     E    VVS2   Excellent  IGI  Very Good  Very Good   unknown   \n",
              "1  Round     E    VVS2   Very Good  IGI  Very Good  Very Good   unknown   \n",
              "2  Round     E    VVS2   Excellent  IGI  Very Good  Very Good   unknown   \n",
              "3  Round     E    VVS2   Excellent  IGI  Very Good  Very Good   unknown   \n",
              "4  Round     E    VVS2   Very Good  IGI  Very Good  Excellent   unknown   \n",
              "\n",
              "  girdle_min girdle_max  \n",
              "0          M          M  \n",
              "1        STK        STK  \n",
              "2         TN          M  \n",
              "3          M        STK  \n",
              "4        STK        STK  "
            ],
            "text/html": [
              "\n",
              "  <div id=\"df-d1b7436f-3af3-4931-bbe1-f06e080ccf1b\">\n",
              "    <div class=\"colab-df-container\">\n",
              "      <div>\n",
              "<style scoped>\n",
              "    .dataframe tbody tr th:only-of-type {\n",
              "        vertical-align: middle;\n",
              "    }\n",
              "\n",
              "    .dataframe tbody tr th {\n",
              "        vertical-align: top;\n",
              "    }\n",
              "\n",
              "    .dataframe thead th {\n",
              "        text-align: right;\n",
              "    }\n",
              "</style>\n",
              "<table border=\"1\" class=\"dataframe\">\n",
              "  <thead>\n",
              "    <tr style=\"text-align: right;\">\n",
              "      <th></th>\n",
              "      <th>cut</th>\n",
              "      <th>color</th>\n",
              "      <th>clarity</th>\n",
              "      <th>cut_quality</th>\n",
              "      <th>lab</th>\n",
              "      <th>symmetry</th>\n",
              "      <th>polish</th>\n",
              "      <th>eye_clean</th>\n",
              "      <th>girdle_min</th>\n",
              "      <th>girdle_max</th>\n",
              "    </tr>\n",
              "  </thead>\n",
              "  <tbody>\n",
              "    <tr>\n",
              "      <th>0</th>\n",
              "      <td>Round</td>\n",
              "      <td>E</td>\n",
              "      <td>VVS2</td>\n",
              "      <td>Excellent</td>\n",
              "      <td>IGI</td>\n",
              "      <td>Very Good</td>\n",
              "      <td>Very Good</td>\n",
              "      <td>unknown</td>\n",
              "      <td>M</td>\n",
              "      <td>M</td>\n",
              "    </tr>\n",
              "    <tr>\n",
              "      <th>1</th>\n",
              "      <td>Round</td>\n",
              "      <td>E</td>\n",
              "      <td>VVS2</td>\n",
              "      <td>Very Good</td>\n",
              "      <td>IGI</td>\n",
              "      <td>Very Good</td>\n",
              "      <td>Very Good</td>\n",
              "      <td>unknown</td>\n",
              "      <td>STK</td>\n",
              "      <td>STK</td>\n",
              "    </tr>\n",
              "    <tr>\n",
              "      <th>2</th>\n",
              "      <td>Round</td>\n",
              "      <td>E</td>\n",
              "      <td>VVS2</td>\n",
              "      <td>Excellent</td>\n",
              "      <td>IGI</td>\n",
              "      <td>Very Good</td>\n",
              "      <td>Very Good</td>\n",
              "      <td>unknown</td>\n",
              "      <td>TN</td>\n",
              "      <td>M</td>\n",
              "    </tr>\n",
              "    <tr>\n",
              "      <th>3</th>\n",
              "      <td>Round</td>\n",
              "      <td>E</td>\n",
              "      <td>VVS2</td>\n",
              "      <td>Excellent</td>\n",
              "      <td>IGI</td>\n",
              "      <td>Very Good</td>\n",
              "      <td>Very Good</td>\n",
              "      <td>unknown</td>\n",
              "      <td>M</td>\n",
              "      <td>STK</td>\n",
              "    </tr>\n",
              "    <tr>\n",
              "      <th>4</th>\n",
              "      <td>Round</td>\n",
              "      <td>E</td>\n",
              "      <td>VVS2</td>\n",
              "      <td>Very Good</td>\n",
              "      <td>IGI</td>\n",
              "      <td>Very Good</td>\n",
              "      <td>Excellent</td>\n",
              "      <td>unknown</td>\n",
              "      <td>STK</td>\n",
              "      <td>STK</td>\n",
              "    </tr>\n",
              "  </tbody>\n",
              "</table>\n",
              "</div>\n",
              "      <button class=\"colab-df-convert\" onclick=\"convertToInteractive('df-d1b7436f-3af3-4931-bbe1-f06e080ccf1b')\"\n",
              "              title=\"Convert this dataframe to an interactive table.\"\n",
              "              style=\"display:none;\">\n",
              "        \n",
              "  <svg xmlns=\"http://www.w3.org/2000/svg\" height=\"24px\"viewBox=\"0 0 24 24\"\n",
              "       width=\"24px\">\n",
              "    <path d=\"M0 0h24v24H0V0z\" fill=\"none\"/>\n",
              "    <path d=\"M18.56 5.44l.94 2.06.94-2.06 2.06-.94-2.06-.94-.94-2.06-.94 2.06-2.06.94zm-11 1L8.5 8.5l.94-2.06 2.06-.94-2.06-.94L8.5 2.5l-.94 2.06-2.06.94zm10 10l.94 2.06.94-2.06 2.06-.94-2.06-.94-.94-2.06-.94 2.06-2.06.94z\"/><path d=\"M17.41 7.96l-1.37-1.37c-.4-.4-.92-.59-1.43-.59-.52 0-1.04.2-1.43.59L10.3 9.45l-7.72 7.72c-.78.78-.78 2.05 0 2.83L4 21.41c.39.39.9.59 1.41.59.51 0 1.02-.2 1.41-.59l7.78-7.78 2.81-2.81c.8-.78.8-2.07 0-2.86zM5.41 20L4 18.59l7.72-7.72 1.47 1.35L5.41 20z\"/>\n",
              "  </svg>\n",
              "      </button>\n",
              "      \n",
              "  <style>\n",
              "    .colab-df-container {\n",
              "      display:flex;\n",
              "      flex-wrap:wrap;\n",
              "      gap: 12px;\n",
              "    }\n",
              "\n",
              "    .colab-df-convert {\n",
              "      background-color: #E8F0FE;\n",
              "      border: none;\n",
              "      border-radius: 50%;\n",
              "      cursor: pointer;\n",
              "      display: none;\n",
              "      fill: #1967D2;\n",
              "      height: 32px;\n",
              "      padding: 0 0 0 0;\n",
              "      width: 32px;\n",
              "    }\n",
              "\n",
              "    .colab-df-convert:hover {\n",
              "      background-color: #E2EBFA;\n",
              "      box-shadow: 0px 1px 2px rgba(60, 64, 67, 0.3), 0px 1px 3px 1px rgba(60, 64, 67, 0.15);\n",
              "      fill: #174EA6;\n",
              "    }\n",
              "\n",
              "    [theme=dark] .colab-df-convert {\n",
              "      background-color: #3B4455;\n",
              "      fill: #D2E3FC;\n",
              "    }\n",
              "\n",
              "    [theme=dark] .colab-df-convert:hover {\n",
              "      background-color: #434B5C;\n",
              "      box-shadow: 0px 1px 3px 1px rgba(0, 0, 0, 0.15);\n",
              "      filter: drop-shadow(0px 1px 2px rgba(0, 0, 0, 0.3));\n",
              "      fill: #FFFFFF;\n",
              "    }\n",
              "  </style>\n",
              "\n",
              "      <script>\n",
              "        const buttonEl =\n",
              "          document.querySelector('#df-d1b7436f-3af3-4931-bbe1-f06e080ccf1b button.colab-df-convert');\n",
              "        buttonEl.style.display =\n",
              "          google.colab.kernel.accessAllowed ? 'block' : 'none';\n",
              "\n",
              "        async function convertToInteractive(key) {\n",
              "          const element = document.querySelector('#df-d1b7436f-3af3-4931-bbe1-f06e080ccf1b');\n",
              "          const dataTable =\n",
              "            await google.colab.kernel.invokeFunction('convertToInteractive',\n",
              "                                                     [key], {});\n",
              "          if (!dataTable) return;\n",
              "\n",
              "          const docLinkHtml = 'Like what you see? Visit the ' +\n",
              "            '<a target=\"_blank\" href=https://colab.research.google.com/notebooks/data_table.ipynb>data table notebook</a>'\n",
              "            + ' to learn more about interactive tables.';\n",
              "          element.innerHTML = '';\n",
              "          dataTable['output_type'] = 'display_data';\n",
              "          await google.colab.output.renderOutput(dataTable, element);\n",
              "          const docLink = document.createElement('div');\n",
              "          docLink.innerHTML = docLinkHtml;\n",
              "          element.appendChild(docLink);\n",
              "        }\n",
              "      </script>\n",
              "    </div>\n",
              "  </div>\n",
              "  "
            ]
          },
          "metadata": {},
          "execution_count": 37
        }
      ],
      "source": [
        "diamonds4 = diamonds3[['cut', 'color', 'clarity', 'cut_quality', 'lab', \n",
        "                       'symmetry', 'polish', 'eye_clean', \n",
        "                       'girdle_min', 'girdle_max']]\n",
        "diamonds4.head()"
      ]
    },
    {
      "cell_type": "markdown",
      "metadata": {
        "id": "QANg8ziJkHGM"
      },
      "source": [
        ">**Примечание**\n",
        ">\n",
        ">Данный датасет можно использовать для задания 3 (с использованием `sklearn`)"
      ]
    },
    {
      "cell_type": "markdown",
      "metadata": {
        "id": "mV9jLhspyOgz"
      },
      "source": [
        "(0.5 балла) Выберете столбец с данными о цене бриллиантов и домножите его на тот столбец, только транспонированный, и выведите полученную матрицу:"
      ]
    },
    {
      "cell_type": "code",
      "execution_count": 38,
      "metadata": {
        "id": "LawjtnoIymFu",
        "colab": {
          "base_uri": "https://localhost:8080/"
        },
        "outputId": "962f8626-2ab6-4fd8-934a-04697485e4e2"
      },
      "outputs": [
        {
          "output_type": "execute_result",
          "data": {
            "text/plain": [
              "158540672665477"
            ]
          },
          "metadata": {},
          "execution_count": 38
        }
      ],
      "source": [
        "prices = diamonds3['total_sales_price']\n",
        "\n",
        "np.dot(prices, prices.T)"
      ]
    },
    {
      "cell_type": "markdown",
      "metadata": {
        "id": "Pz02uapbkbGk"
      },
      "source": [
        "### Построение графиков"
      ]
    },
    {
      "cell_type": "markdown",
      "metadata": {
        "id": "_zhww-rd-c5c"
      },
      "source": [
        "**Требования к графику:**\n",
        "\n",
        "1.   График должен быть подписан\n",
        "2.   Оси должны быть подписаны\n",
        "3.   Должна быть легенда графика\n",
        "4.   График должен быть информативным (желательно без сильных выбросов)\n",
        "\n",
        "**Все надписи на русском языке!**"
      ]
    },
    {
      "cell_type": "markdown",
      "metadata": {
        "id": "mfebCvk0k2mo"
      },
      "source": [
        ">**Примечание**\n",
        ">\n",
        ">График необходимо строить для очищенных данных - в них не должно быть пропусков по осям, по которым строите график. При этом **не перезатирайте** имеющийся датафрейм!"
      ]
    },
    {
      "cell_type": "markdown",
      "metadata": {
        "id": "4R9Rwxdq-l21"
      },
      "source": [
        "(2 балла) Постройте график `цвет бриллианта - стоимость`:"
      ]
    },
    {
      "cell_type": "code",
      "execution_count": 39,
      "metadata": {
        "id": "Fo6I0j5o-vQh",
        "colab": {
          "base_uri": "https://localhost:8080/",
          "height": 472
        },
        "outputId": "28cb145c-c1c7-4175-8562-b81f398d5c27"
      },
      "outputs": [
        {
          "output_type": "display_data",
          "data": {
            "text/plain": [
              "<Figure size 640x480 with 1 Axes>"
            ],
            "image/png": "[encoded data removed]"
          },
          "metadata": {}
        }
      ],
      "source": [
        "colored_diamonds = diamonds3[diamonds3['color'] != 'unknown']\n",
        "\n",
        "plt.scatter(colored_diamonds['color'],\n",
        "            colored_diamonds['total_sales_price'],\n",
        "            alpha=0.11,\n",
        "            label='Бриллианты')\n",
        "\n",
        "\n",
        "means_by_color = colored_diamonds[['color', 'total_sales_price']].groupby('color').mean()\n",
        "plt.scatter(means_by_color.index,\n",
        "            means_by_color,\n",
        "            alpha=1,\n",
        "            label='Средние значения')\n",
        "\n",
        "plt.ylim([0, 5e5])\n",
        "\n",
        "plt.title(\"Зависимость цены от цвета\")\n",
        "plt.ylabel(\"Цена\")\n",
        "plt.xlabel('Цвет')\n",
        "plt.legend(loc='upper right')\n",
        "\n",
        "plt.show()"
      ]
    },
    {
      "cell_type": "markdown",
      "metadata": {
        "id": "W_UgFji5-vWx"
      },
      "source": [
        "(2 балла) Постройте график `лабараторная оценка - кол-во бриллиантов`:"
      ]
    },
    {
      "cell_type": "code",
      "execution_count": 40,
      "metadata": {
        "id": "nyT8-TRb_c24",
        "colab": {
          "base_uri": "https://localhost:8080/",
          "height": 472
        },
        "outputId": "c19006a2-33f0-4378-eca2-c900f7a96ab8"
      },
      "outputs": [
        {
          "output_type": "display_data",
          "data": {
            "text/plain": [
              "<Figure size 640x480 with 1 Axes>"
            ],
            "image/png": "[encoded data removed]"
          },
          "metadata": {}
        }
      ],
      "source": [
        "labs = diamonds3['lab'].value_counts()\n",
        "plt.plot(labs.index,\n",
        "         labs,\n",
        "         label=\"Количества бриллиантов\")\n",
        "\n",
        "plt.title(\n",
        "    \"Зависимость количества бриллиантов от лаборатории,\"\n",
        "    \" в которой проводилось исследование\")\n",
        "\n",
        "plt.ylabel(\"Количество\")\n",
        "plt.xlabel('Лаборатория')\n",
        "plt.legend(loc='upper right')\n",
        "\n",
        "plt.show()"
      ]
    },
    {
      "cell_type": "markdown",
      "metadata": {
        "id": "AgsMclnJ_c9H"
      },
      "source": [
        "(2 балла) Постройте график `вес бриллианта - стоимость`:"
      ]
    },
    {
      "cell_type": "code",
      "execution_count": 41,
      "metadata": {
        "id": "tn-x3pwmANQe",
        "colab": {
          "base_uri": "https://localhost:8080/",
          "height": 472
        },
        "outputId": "f75dafa1-8f3a-4679-e234-21385caa2afa"
      },
      "outputs": [
        {
          "output_type": "display_data",
          "data": {
            "text/plain": [
              "<Figure size 640x480 with 1 Axes>"
            ],
            "image/png": "[encoded data removed]"
          },
          "metadata": {}
        }
      ],
      "source": [
        "plt.scatter(diamonds3['carat_weight'],\n",
        "            diamonds3['total_sales_price'],\n",
        "            alpha=0.1,\n",
        "            label=\"Бриллианты\")\n",
        "\n",
        "plt.title(\"Зависимость цена бриллианта от его веса\")\n",
        "plt.ylabel(\"Цена\")\n",
        "plt.xlabel('Вес')\n",
        "plt.legend(loc='upper right')\n",
        "\n",
        "plt.show()"
      ]
    },
    {
      "cell_type": "markdown",
      "metadata": {
        "id": "0LVC1KfEAwuw"
      },
      "source": [
        "(2 балла) Постройте график `система оценки GIA Cut - кол-во бриллиантов`:"
      ]
    },
    {
      "cell_type": "code",
      "execution_count": 42,
      "metadata": {
        "id": "IeuLooSIA232",
        "colab": {
          "base_uri": "https://localhost:8080/",
          "height": 472
        },
        "outputId": "81a4bb0d-2cb6-476d-da36-5c045c68b5dc"
      },
      "outputs": [
        {
          "output_type": "display_data",
          "data": {
            "text/plain": [
              "<Figure size 640x480 with 1 Axes>"
            ],
            "image/png": "[encoded data removed]"
          },
          "metadata": {}
        }
      ],
      "source": [
        "informative_diamonds = diamonds3[diamonds3['cut_quality'] != 'unknown']\n",
        "\n",
        "cuts = informative_diamonds['cut_quality'].value_counts()\n",
        "\n",
        "X = ['Fair', 'Good', 'Very Good', 'Excellent', 'Ideal']\n",
        "Y = [cuts[x] for x in X]\n",
        "\n",
        "plt.plot(X,\n",
        "         Y,\n",
        "         label=\"Количества бриллиантов\")\n",
        "\n",
        "plt.title(\"График количества бриллиантов от их качества\")\n",
        "plt.ylabel(\"Количество\")\n",
        "plt.xlabel('Качество')\n",
        "plt.legend(loc='upper right')\n",
        "\n",
        "plt.show()"
      ]
    },
    {
      "cell_type": "markdown",
      "metadata": {
        "id": "DRaaNLidFDhL"
      },
      "source": [
        "(2 балла) **Сделайте выводы по построенным графикам:**"
      ]
    },
    {
      "cell_type": "markdown",
      "metadata": {
        "id": "GSuWCfdGLtn0"
      },
      "source": [
        ">*Подсказка для маленьких: Что вы можете сказать о графиках полученных выше для данного датасета?*"
      ]
    },
    {
      "cell_type": "markdown",
      "metadata": {
        "id": "iNdjR_X9lSt1"
      },
      "source": [
        "1. Цена не сильно зависит от цвета, так например, для разных цветов можно видеть примерно одинаковое распределение, к тому же, по каждому из цветов средние значения не отличаются значительно.\n",
        "2. Можно видеть, что лабороатория GIA доминирует в обработке драгоценностей.\n",
        "3. Несмотря на большое количество аномалий, прослеживается линейная зависимость от веса.\n",
        "4. Большинство брилиантов имеют качество 'Excellent', но также много брилиантов качества 'Very Good'"
      ]
    },
    {
      "cell_type": "markdown",
      "metadata": {
        "id": "JKYRkX_rBxxu"
      },
      "source": [
        "## Задание 3. Модель - 30 баллов"
      ]
    },
    {
      "cell_type": "markdown",
      "metadata": {
        "id": "EJO9SwpII_uJ"
      },
      "source": [
        "В данном задании вам предстоит построить классифицирующую модель размер алмаза и его стоимости, а затем оценить полученную модель."
      ]
    },
    {
      "cell_type": "markdown",
      "metadata": {
        "id": "_8sA1qlRllrk"
      },
      "source": [
        ">**Примечание**\n",
        ">\n",
        ">Данная модель не претендует на самый верный индикатор стоимости алмаза, ведь мы не учитываем ничего больше чем стоимость алмаза. Исключительно для образовательных целей :)"
      ]
    },
    {
      "cell_type": "markdown",
      "metadata": {
        "id": "e78rVEGFJrVN"
      },
      "source": [
        "Для построения модели нам понадобится 4 столбца, а именно: \n",
        "- `meas_length`\n",
        "- `meas_width`\n",
        "- `meas_depth`\n",
        "- `total_sales_price`\n",
        "\n",
        "От остальных столбцов можно избавиться."
      ]
    },
    {
      "cell_type": "markdown",
      "metadata": {
        "id": "HhpeXcR1l-Ag"
      },
      "source": [
        "(1 балл) Создайте новый датасет и выведите его первые 10 строк: "
      ]
    },
    {
      "cell_type": "code",
      "execution_count": 43,
      "metadata": {
        "id": "K87VXeCxKFrU",
        "colab": {
          "base_uri": "https://localhost:8080/",
          "height": 363
        },
        "outputId": "95111b87-3563-4dd0-e1a6-94eefdfff69b"
      },
      "outputs": [
        {
          "output_type": "execute_result",
          "data": {
            "text/plain": [
              "   meas_length  meas_width  meas_depth  total_sales_price\n",
              "0         2.85        2.87        1.79                200\n",
              "1         2.84        2.89        1.78                200\n",
              "2         2.88        2.90        1.77                200\n",
              "3         2.86        2.88        1.78                200\n",
              "4         2.79        2.83        1.82                200\n",
              "5         2.95        2.99        1.81                200\n",
              "6         2.85        2.88        1.84                200\n",
              "7         2.86        2.89        1.78                200\n",
              "8         2.89        2.92        1.85                200\n",
              "9         2.83        2.87        1.80                200"
            ],
            "text/html": [
              "\n",
              "  <div id=\"df-5ab63c9e-33d1-4cb6-905a-819b9537d042\">\n",
              "    <div class=\"colab-df-container\">\n",
              "      <div>\n",
              "<style scoped>\n",
              "    .dataframe tbody tr th:only-of-type {\n",
              "        vertical-align: middle;\n",
              "    }\n",
              "\n",
              "    .dataframe tbody tr th {\n",
              "        vertical-align: top;\n",
              "    }\n",
              "\n",
              "    .dataframe thead th {\n",
              "        text-align: right;\n",
              "    }\n",
              "</style>\n",
              "<table border=\"1\" class=\"dataframe\">\n",
              "  <thead>\n",
              "    <tr style=\"text-align: right;\">\n",
              "      <th></th>\n",
              "      <th>meas_length</th>\n",
              "      <th>meas_width</th>\n",
              "      <th>meas_depth</th>\n",
              "      <th>total_sales_price</th>\n",
              "    </tr>\n",
              "  </thead>\n",
              "  <tbody>\n",
              "    <tr>\n",
              "      <th>0</th>\n",
              "      <td>2.85</td>\n",
              "      <td>2.87</td>\n",
              "      <td>1.79</td>\n",
              "      <td>200</td>\n",
              "    </tr>\n",
              "    <tr>\n",
              "      <th>1</th>\n",
              "      <td>2.84</td>\n",
              "      <td>2.89</td>\n",
              "      <td>1.78</td>\n",
              "      <td>200</td>\n",
              "    </tr>\n",
              "    <tr>\n",
              "      <th>2</th>\n",
              "      <td>2.88</td>\n",
              "      <td>2.90</td>\n",
              "      <td>1.77</td>\n",
              "      <td>200</td>\n",
              "    </tr>\n",
              "    <tr>\n",
              "      <th>3</th>\n",
              "      <td>2.86</td>\n",
              "      <td>2.88</td>\n",
              "      <td>1.78</td>\n",
              "      <td>200</td>\n",
              "    </tr>\n",
              "    <tr>\n",
              "      <th>4</th>\n",
              "      <td>2.79</td>\n",
              "      <td>2.83</td>\n",
              "      <td>1.82</td>\n",
              "      <td>200</td>\n",
              "    </tr>\n",
              "    <tr>\n",
              "      <th>5</th>\n",
              "      <td>2.95</td>\n",
              "      <td>2.99</td>\n",
              "      <td>1.81</td>\n",
              "      <td>200</td>\n",
              "    </tr>\n",
              "    <tr>\n",
              "      <th>6</th>\n",
              "      <td>2.85</td>\n",
              "      <td>2.88</td>\n",
              "      <td>1.84</td>\n",
              "      <td>200</td>\n",
              "    </tr>\n",
              "    <tr>\n",
              "      <th>7</th>\n",
              "      <td>2.86</td>\n",
              "      <td>2.89</td>\n",
              "      <td>1.78</td>\n",
              "      <td>200</td>\n",
              "    </tr>\n",
              "    <tr>\n",
              "      <th>8</th>\n",
              "      <td>2.89</td>\n",
              "      <td>2.92</td>\n",
              "      <td>1.85</td>\n",
              "      <td>200</td>\n",
              "    </tr>\n",
              "    <tr>\n",
              "      <th>9</th>\n",
              "      <td>2.83</td>\n",
              "      <td>2.87</td>\n",
              "      <td>1.80</td>\n",
              "      <td>200</td>\n",
              "    </tr>\n",
              "  </tbody>\n",
              "</table>\n",
              "</div>\n",
              "      <button class=\"colab-df-convert\" onclick=\"convertToInteractive('df-5ab63c9e-33d1-4cb6-905a-819b9537d042')\"\n",
              "              title=\"Convert this dataframe to an interactive table.\"\n",
              "              style=\"display:none;\">\n",
              "        \n",
              "  <svg xmlns=\"http://www.w3.org/2000/svg\" height=\"24px\"viewBox=\"0 0 24 24\"\n",
              "       width=\"24px\">\n",
              "    <path d=\"M0 0h24v24H0V0z\" fill=\"none\"/>\n",
              "    <path d=\"M18.56 5.44l.94 2.06.94-2.06 2.06-.94-2.06-.94-.94-2.06-.94 2.06-2.06.94zm-11 1L8.5 8.5l.94-2.06 2.06-.94-2.06-.94L8.5 2.5l-.94 2.06-2.06.94zm10 10l.94 2.06.94-2.06 2.06-.94-2.06-.94-.94-2.06-.94 2.06-2.06.94z\"/><path d=\"M17.41 7.96l-1.37-1.37c-.4-.4-.92-.59-1.43-.59-.52 0-1.04.2-1.43.59L10.3 9.45l-7.72 7.72c-.78.78-.78 2.05 0 2.83L4 21.41c.39.39.9.59 1.41.59.51 0 1.02-.2 1.41-.59l7.78-7.78 2.81-2.81c.8-.78.8-2.07 0-2.86zM5.41 20L4 18.59l7.72-7.72 1.47 1.35L5.41 20z\"/>\n",
              "  </svg>\n",
              "      </button>\n",
              "      \n",
              "  <style>\n",
              "    .colab-df-container {\n",
              "      display:flex;\n",
              "      flex-wrap:wrap;\n",
              "      gap: 12px;\n",
              "    }\n",
              "\n",
              "    .colab-df-convert {\n",
              "      background-color: #E8F0FE;\n",
              "      border: none;\n",
              "      border-radius: 50%;\n",
              "      cursor: pointer;\n",
              "      display: none;\n",
              "      fill: #1967D2;\n",
              "      height: 32px;\n",
              "      padding: 0 0 0 0;\n",
              "      width: 32px;\n",
              "    }\n",
              "\n",
              "    .colab-df-convert:hover {\n",
              "      background-color: #E2EBFA;\n",
              "      box-shadow: 0px 1px 2px rgba(60, 64, 67, 0.3), 0px 1px 3px 1px rgba(60, 64, 67, 0.15);\n",
              "      fill: #174EA6;\n",
              "    }\n",
              "\n",
              "    [theme=dark] .colab-df-convert {\n",
              "      background-color: #3B4455;\n",
              "      fill: #D2E3FC;\n",
              "    }\n",
              "\n",
              "    [theme=dark] .colab-df-convert:hover {\n",
              "      background-color: #434B5C;\n",
              "      box-shadow: 0px 1px 3px 1px rgba(0, 0, 0, 0.15);\n",
              "      filter: drop-shadow(0px 1px 2px rgba(0, 0, 0, 0.3));\n",
              "      fill: #FFFFFF;\n",
              "    }\n",
              "  </style>\n",
              "\n",
              "      <script>\n",
              "        const buttonEl =\n",
              "          document.querySelector('#df-5ab63c9e-33d1-4cb6-905a-819b9537d042 button.colab-df-convert');\n",
              "        buttonEl.style.display =\n",
              "          google.colab.kernel.accessAllowed ? 'block' : 'none';\n",
              "\n",
              "        async function convertToInteractive(key) {\n",
              "          const element = document.querySelector('#df-5ab63c9e-33d1-4cb6-905a-819b9537d042');\n",
              "          const dataTable =\n",
              "            await google.colab.kernel.invokeFunction('convertToInteractive',\n",
              "                                                     [key], {});\n",
              "          if (!dataTable) return;\n",
              "\n",
              "          const docLinkHtml = 'Like what you see? Visit the ' +\n",
              "            '<a target=\"_blank\" href=https://colab.research.google.com/notebooks/data_table.ipynb>data table notebook</a>'\n",
              "            + ' to learn more about interactive tables.';\n",
              "          element.innerHTML = '';\n",
              "          dataTable['output_type'] = 'display_data';\n",
              "          await google.colab.output.renderOutput(dataTable, element);\n",
              "          const docLink = document.createElement('div');\n",
              "          docLink.innerHTML = docLinkHtml;\n",
              "          element.appendChild(docLink);\n",
              "        }\n",
              "      </script>\n",
              "    </div>\n",
              "  </div>\n",
              "  "
            ]
          },
          "metadata": {},
          "execution_count": 43
        }
      ],
      "source": [
        "diamonds_for_model = diamonds[['meas_length', 'meas_width', 'meas_depth', 'total_sales_price']]\n",
        "diamonds_for_model.head(10)"
      ]
    },
    {
      "cell_type": "markdown",
      "metadata": {
        "id": "Uex8DVspKFxn"
      },
      "source": [
        "(1 балл) Перемешайте строки в датафрейме случайным образом: "
      ]
    },
    {
      "cell_type": "code",
      "execution_count": 44,
      "metadata": {
        "colab": {
          "base_uri": "https://localhost:8080/",
          "height": 206
        },
        "id": "5lRYIwGOKOnT",
        "outputId": "156301d6-15c1-493e-c67d-9e7fde1eb77a"
      },
      "outputs": [
        {
          "output_type": "execute_result",
          "data": {
            "text/plain": [
              "   meas_length  meas_width  meas_depth  total_sales_price\n",
              "0         5.12        5.16        3.23               2678\n",
              "1         4.77        3.46        2.27                888\n",
              "2         4.48        4.51        2.83               1110\n",
              "3         4.66        4.72        2.96                528\n",
              "4         5.95        5.98        3.73               5112"
            ],
            "text/html": [
              "\n",
              "  <div id=\"df-f929f2ef-ad46-4d6e-bb29-601fc88ea6bd\">\n",
              "    <div class=\"colab-df-container\">\n",
              "      <div>\n",
              "<style scoped>\n",
              "    .dataframe tbody tr th:only-of-type {\n",
              "        vertical-align: middle;\n",
              "    }\n",
              "\n",
              "    .dataframe tbody tr th {\n",
              "        vertical-align: top;\n",
              "    }\n",
              "\n",
              "    .dataframe thead th {\n",
              "        text-align: right;\n",
              "    }\n",
              "</style>\n",
              "<table border=\"1\" class=\"dataframe\">\n",
              "  <thead>\n",
              "    <tr style=\"text-align: right;\">\n",
              "      <th></th>\n",
              "      <th>meas_length</th>\n",
              "      <th>meas_width</th>\n",
              "      <th>meas_depth</th>\n",
              "      <th>total_sales_price</th>\n",
              "    </tr>\n",
              "  </thead>\n",
              "  <tbody>\n",
              "    <tr>\n",
              "      <th>0</th>\n",
              "      <td>5.12</td>\n",
              "      <td>5.16</td>\n",
              "      <td>3.23</td>\n",
              "      <td>2678</td>\n",
              "    </tr>\n",
              "    <tr>\n",
              "      <th>1</th>\n",
              "      <td>4.77</td>\n",
              "      <td>3.46</td>\n",
              "      <td>2.27</td>\n",
              "      <td>888</td>\n",
              "    </tr>\n",
              "    <tr>\n",
              "      <th>2</th>\n",
              "      <td>4.48</td>\n",
              "      <td>4.51</td>\n",
              "      <td>2.83</td>\n",
              "      <td>1110</td>\n",
              "    </tr>\n",
              "    <tr>\n",
              "      <th>3</th>\n",
              "      <td>4.66</td>\n",
              "      <td>4.72</td>\n",
              "      <td>2.96</td>\n",
              "      <td>528</td>\n",
              "    </tr>\n",
              "    <tr>\n",
              "      <th>4</th>\n",
              "      <td>5.95</td>\n",
              "      <td>5.98</td>\n",
              "      <td>3.73</td>\n",
              "      <td>5112</td>\n",
              "    </tr>\n",
              "  </tbody>\n",
              "</table>\n",
              "</div>\n",
              "      <button class=\"colab-df-convert\" onclick=\"convertToInteractive('df-f929f2ef-ad46-4d6e-bb29-601fc88ea6bd')\"\n",
              "              title=\"Convert this dataframe to an interactive table.\"\n",
              "              style=\"display:none;\">\n",
              "        \n",
              "  <svg xmlns=\"http://www.w3.org/2000/svg\" height=\"24px\"viewBox=\"0 0 24 24\"\n",
              "       width=\"24px\">\n",
              "    <path d=\"M0 0h24v24H0V0z\" fill=\"none\"/>\n",
              "    <path d=\"M18.56 5.44l.94 2.06.94-2.06 2.06-.94-2.06-.94-.94-2.06-.94 2.06-2.06.94zm-11 1L8.5 8.5l.94-2.06 2.06-.94-2.06-.94L8.5 2.5l-.94 2.06-2.06.94zm10 10l.94 2.06.94-2.06 2.06-.94-2.06-.94-.94-2.06-.94 2.06-2.06.94z\"/><path d=\"M17.41 7.96l-1.37-1.37c-.4-.4-.92-.59-1.43-.59-.52 0-1.04.2-1.43.59L10.3 9.45l-7.72 7.72c-.78.78-.78 2.05 0 2.83L4 21.41c.39.39.9.59 1.41.59.51 0 1.02-.2 1.41-.59l7.78-7.78 2.81-2.81c.8-.78.8-2.07 0-2.86zM5.41 20L4 18.59l7.72-7.72 1.47 1.35L5.41 20z\"/>\n",
              "  </svg>\n",
              "      </button>\n",
              "      \n",
              "  <style>\n",
              "    .colab-df-container {\n",
              "      display:flex;\n",
              "      flex-wrap:wrap;\n",
              "      gap: 12px;\n",
              "    }\n",
              "\n",
              "    .colab-df-convert {\n",
              "      background-color: #E8F0FE;\n",
              "      border: none;\n",
              "      border-radius: 50%;\n",
              "      cursor: pointer;\n",
              "      display: none;\n",
              "      fill: #1967D2;\n",
              "      height: 32px;\n",
              "      padding: 0 0 0 0;\n",
              "      width: 32px;\n",
              "    }\n",
              "\n",
              "    .colab-df-convert:hover {\n",
              "      background-color: #E2EBFA;\n",
              "      box-shadow: 0px 1px 2px rgba(60, 64, 67, 0.3), 0px 1px 3px 1px rgba(60, 64, 67, 0.15);\n",
              "      fill: #174EA6;\n",
              "    }\n",
              "\n",
              "    [theme=dark] .colab-df-convert {\n",
              "      background-color: #3B4455;\n",
              "      fill: #D2E3FC;\n",
              "    }\n",
              "\n",
              "    [theme=dark] .colab-df-convert:hover {\n",
              "      background-color: #434B5C;\n",
              "      box-shadow: 0px 1px 3px 1px rgba(0, 0, 0, 0.15);\n",
              "      filter: drop-shadow(0px 1px 2px rgba(0, 0, 0, 0.3));\n",
              "      fill: #FFFFFF;\n",
              "    }\n",
              "  </style>\n",
              "\n",
              "      <script>\n",
              "        const buttonEl =\n",
              "          document.querySelector('#df-f929f2ef-ad46-4d6e-bb29-601fc88ea6bd button.colab-df-convert');\n",
              "        buttonEl.style.display =\n",
              "          google.colab.kernel.accessAllowed ? 'block' : 'none';\n",
              "\n",
              "        async function convertToInteractive(key) {\n",
              "          const element = document.querySelector('#df-f929f2ef-ad46-4d6e-bb29-601fc88ea6bd');\n",
              "          const dataTable =\n",
              "            await google.colab.kernel.invokeFunction('convertToInteractive',\n",
              "                                                     [key], {});\n",
              "          if (!dataTable) return;\n",
              "\n",
              "          const docLinkHtml = 'Like what you see? Visit the ' +\n",
              "            '<a target=\"_blank\" href=https://colab.research.google.com/notebooks/data_table.ipynb>data table notebook</a>'\n",
              "            + ' to learn more about interactive tables.';\n",
              "          element.innerHTML = '';\n",
              "          dataTable['output_type'] = 'display_data';\n",
              "          await google.colab.output.renderOutput(dataTable, element);\n",
              "          const docLink = document.createElement('div');\n",
              "          docLink.innerHTML = docLinkHtml;\n",
              "          element.appendChild(docLink);\n",
              "        }\n",
              "      </script>\n",
              "    </div>\n",
              "  </div>\n",
              "  "
            ]
          },
          "metadata": {},
          "execution_count": 44
        }
      ],
      "source": [
        "diamonds_for_model = diamonds_for_model.sample(frac=1).reset_index(drop=True)\n",
        "diamonds_for_model.head()"
      ]
    },
    {
      "cell_type": "markdown",
      "metadata": {
        "id": "iEHBNONDLl64"
      },
      "source": [
        "(1 балл) Сформируем новую колонку - для каждого бриллианта найдем сумму Минковского (p=3) по 3 измерениям бриллианта:"
      ]
    },
    {
      "cell_type": "code",
      "execution_count": 45,
      "metadata": {
        "colab": {
          "base_uri": "https://localhost:8080/"
        },
        "id": "V3CTAQbAMQsR",
        "outputId": "d44d5787-89b0-4dc9-fa59-b73b7fdb0bec"
      },
      "outputs": [
        {
          "output_type": "execute_result",
          "data": {
            "text/plain": [
              "0         2.406717\n",
              "1         2.694284\n",
              "2         2.097941\n",
              "3         2.180334\n",
              "4         2.816052\n",
              "            ...   \n",
              "219698    2.450694\n",
              "219699    2.274316\n",
              "219700    1.855332\n",
              "219701    2.059990\n",
              "219702    2.430530\n",
              "Name: minkowski_sum, Length: 219703, dtype: float64"
            ]
          },
          "metadata": {},
          "execution_count": 45
        }
      ],
      "source": [
        "x = diamonds_for_model['meas_length']\n",
        "y = diamonds_for_model['meas_width']\n",
        "z = diamonds_for_model['meas_depth']\n",
        "\n",
        "diamonds_for_model['minkowski_sum'] = ((x - y).abs() ** 3 + (y - z).abs() ** 3 + (z - x).abs() ** 3) ** (1/3)\n",
        "diamonds_for_model['minkowski_sum']"
      ]
    },
    {
      "cell_type": "markdown",
      "metadata": {
        "id": "z5s5_yB8n1Hp"
      },
      "source": [
        "(1 балл) Сформируем новый датасет из двух колонок - сумма Минковского и `total_sales_price`: "
      ]
    },
    {
      "cell_type": "code",
      "execution_count": 46,
      "metadata": {
        "colab": {
          "base_uri": "https://localhost:8080/",
          "height": 206
        },
        "id": "tXxZnWS7n9q0",
        "outputId": "204fb710-a985-4c57-ceed-e7c787e9d5dc"
      },
      "outputs": [
        {
          "output_type": "execute_result",
          "data": {
            "text/plain": [
              "   minkowski_sum  total_sales_price\n",
              "0       2.406717               2678\n",
              "1       2.694284                888\n",
              "2       2.097941               1110\n",
              "3       2.180334                528\n",
              "4       2.816052               5112"
            ],
            "text/html": [
              "\n",
              "  <div id=\"df-9b03c0b0-c279-473d-ab61-f07ae2cfb4c9\">\n",
              "    <div class=\"colab-df-container\">\n",
              "      <div>\n",
              "<style scoped>\n",
              "    .dataframe tbody tr th:only-of-type {\n",
              "        vertical-align: middle;\n",
              "    }\n",
              "\n",
              "    .dataframe tbody tr th {\n",
              "        vertical-align: top;\n",
              "    }\n",
              "\n",
              "    .dataframe thead th {\n",
              "        text-align: right;\n",
              "    }\n",
              "</style>\n",
              "<table border=\"1\" class=\"dataframe\">\n",
              "  <thead>\n",
              "    <tr style=\"text-align: right;\">\n",
              "      <th></th>\n",
              "      <th>minkowski_sum</th>\n",
              "      <th>total_sales_price</th>\n",
              "    </tr>\n",
              "  </thead>\n",
              "  <tbody>\n",
              "    <tr>\n",
              "      <th>0</th>\n",
              "      <td>2.406717</td>\n",
              "      <td>2678</td>\n",
              "    </tr>\n",
              "    <tr>\n",
              "      <th>1</th>\n",
              "      <td>2.694284</td>\n",
              "      <td>888</td>\n",
              "    </tr>\n",
              "    <tr>\n",
              "      <th>2</th>\n",
              "      <td>2.097941</td>\n",
              "      <td>1110</td>\n",
              "    </tr>\n",
              "    <tr>\n",
              "      <th>3</th>\n",
              "      <td>2.180334</td>\n",
              "      <td>528</td>\n",
              "    </tr>\n",
              "    <tr>\n",
              "      <th>4</th>\n",
              "      <td>2.816052</td>\n",
              "      <td>5112</td>\n",
              "    </tr>\n",
              "  </tbody>\n",
              "</table>\n",
              "</div>\n",
              "      <button class=\"colab-df-convert\" onclick=\"convertToInteractive('df-9b03c0b0-c279-473d-ab61-f07ae2cfb4c9')\"\n",
              "              title=\"Convert this dataframe to an interactive table.\"\n",
              "              style=\"display:none;\">\n",
              "        \n",
              "  <svg xmlns=\"http://www.w3.org/2000/svg\" height=\"24px\"viewBox=\"0 0 24 24\"\n",
              "       width=\"24px\">\n",
              "    <path d=\"M0 0h24v24H0V0z\" fill=\"none\"/>\n",
              "    <path d=\"M18.56 5.44l.94 2.06.94-2.06 2.06-.94-2.06-.94-.94-2.06-.94 2.06-2.06.94zm-11 1L8.5 8.5l.94-2.06 2.06-.94-2.06-.94L8.5 2.5l-.94 2.06-2.06.94zm10 10l.94 2.06.94-2.06 2.06-.94-2.06-.94-.94-2.06-.94 2.06-2.06.94z\"/><path d=\"M17.41 7.96l-1.37-1.37c-.4-.4-.92-.59-1.43-.59-.52 0-1.04.2-1.43.59L10.3 9.45l-7.72 7.72c-.78.78-.78 2.05 0 2.83L4 21.41c.39.39.9.59 1.41.59.51 0 1.02-.2 1.41-.59l7.78-7.78 2.81-2.81c.8-.78.8-2.07 0-2.86zM5.41 20L4 18.59l7.72-7.72 1.47 1.35L5.41 20z\"/>\n",
              "  </svg>\n",
              "      </button>\n",
              "      \n",
              "  <style>\n",
              "    .colab-df-container {\n",
              "      display:flex;\n",
              "      flex-wrap:wrap;\n",
              "      gap: 12px;\n",
              "    }\n",
              "\n",
              "    .colab-df-convert {\n",
              "      background-color: #E8F0FE;\n",
              "      border: none;\n",
              "      border-radius: 50%;\n",
              "      cursor: pointer;\n",
              "      display: none;\n",
              "      fill: #1967D2;\n",
              "      height: 32px;\n",
              "      padding: 0 0 0 0;\n",
              "      width: 32px;\n",
              "    }\n",
              "\n",
              "    .colab-df-convert:hover {\n",
              "      background-color: #E2EBFA;\n",
              "      box-shadow: 0px 1px 2px rgba(60, 64, 67, 0.3), 0px 1px 3px 1px rgba(60, 64, 67, 0.15);\n",
              "      fill: #174EA6;\n",
              "    }\n",
              "\n",
              "    [theme=dark] .colab-df-convert {\n",
              "      background-color: #3B4455;\n",
              "      fill: #D2E3FC;\n",
              "    }\n",
              "\n",
              "    [theme=dark] .colab-df-convert:hover {\n",
              "      background-color: #434B5C;\n",
              "      box-shadow: 0px 1px 3px 1px rgba(0, 0, 0, 0.15);\n",
              "      filter: drop-shadow(0px 1px 2px rgba(0, 0, 0, 0.3));\n",
              "      fill: #FFFFFF;\n",
              "    }\n",
              "  </style>\n",
              "\n",
              "      <script>\n",
              "        const buttonEl =\n",
              "          document.querySelector('#df-9b03c0b0-c279-473d-ab61-f07ae2cfb4c9 button.colab-df-convert');\n",
              "        buttonEl.style.display =\n",
              "          google.colab.kernel.accessAllowed ? 'block' : 'none';\n",
              "\n",
              "        async function convertToInteractive(key) {\n",
              "          const element = document.querySelector('#df-9b03c0b0-c279-473d-ab61-f07ae2cfb4c9');\n",
              "          const dataTable =\n",
              "            await google.colab.kernel.invokeFunction('convertToInteractive',\n",
              "                                                     [key], {});\n",
              "          if (!dataTable) return;\n",
              "\n",
              "          const docLinkHtml = 'Like what you see? Visit the ' +\n",
              "            '<a target=\"_blank\" href=https://colab.research.google.com/notebooks/data_table.ipynb>data table notebook</a>'\n",
              "            + ' to learn more about interactive tables.';\n",
              "          element.innerHTML = '';\n",
              "          dataTable['output_type'] = 'display_data';\n",
              "          await google.colab.output.renderOutput(dataTable, element);\n",
              "          const docLink = document.createElement('div');\n",
              "          docLink.innerHTML = docLinkHtml;\n",
              "          element.appendChild(docLink);\n",
              "        }\n",
              "      </script>\n",
              "    </div>\n",
              "  </div>\n",
              "  "
            ]
          },
          "metadata": {},
          "execution_count": 46
        }
      ],
      "source": [
        "diamonds_for_model = diamonds_for_model[['minkowski_sum', 'total_sales_price']]\n",
        "diamonds_for_model.head()"
      ]
    },
    {
      "cell_type": "markdown",
      "metadata": {
        "id": "aXCp0GmUKOvM"
      },
      "source": [
        "(1 балл) Разделите вашу выборку на две части в соотношении 8:2 - одна выборка будет для тренировка, а другая для тестов вашей модели:"
      ]
    },
    {
      "cell_type": "code",
      "execution_count": 47,
      "metadata": {
        "colab": {
          "base_uri": "https://localhost:8080/"
        },
        "id": "rxwHhdnFK3Lz",
        "outputId": "0a693b09-742c-4fa9-a3f0-79ee35babc0c"
      },
      "outputs": [
        {
          "output_type": "execute_result",
          "data": {
            "text/plain": [
              "(175762, 43941)"
            ]
          },
          "metadata": {},
          "execution_count": 47
        }
      ],
      "source": [
        "diamonds_training = diamonds_for_model.sample(frac=0.8)\n",
        "diamonds_testing = diamonds_for_model.drop(diamonds_training.index)\n",
        "\n",
        "len(diamonds_training), len(diamonds_testing)"
      ]
    },
    {
      "cell_type": "markdown",
      "metadata": {
        "id": "lhuRoIMRK3S3"
      },
      "source": [
        "(2 балла) Постройте график зависимости стоимости от вашего нового параметра размера для тренинг-выборки:"
      ]
    },
    {
      "cell_type": "code",
      "execution_count": 48,
      "metadata": {
        "colab": {
          "base_uri": "https://localhost:8080/",
          "height": 482
        },
        "id": "zdXv0wimNNZq",
        "outputId": "ffa0b23e-c394-4fdb-e511-ab4079a68341"
      },
      "outputs": [
        {
          "output_type": "execute_result",
          "data": {
            "text/plain": [
              "<matplotlib.legend.Legend at 0x7fc767d91ed0>"
            ]
          },
          "metadata": {},
          "execution_count": 48
        },
        {
          "output_type": "display_data",
          "data": {
            "text/plain": [
              "<Figure size 640x480 with 1 Axes>"
            ],
            "image/png": "[encoded data removed]"
          },
          "metadata": {}
        }
      ],
      "source": [
        "fig, ax = plt.subplots()\n",
        "ax.scatter(diamonds_training['minkowski_sum'],\n",
        "           diamonds_training['total_sales_price'],\n",
        "           alpha=0.2,\n",
        "           label='тренировочные данные')\n",
        "\n",
        "ax.set_xlabel('Сумма Минковского')\n",
        "ax.set_ylabel('Цена')\n",
        "ax.legend(loc='upper right')"
      ]
    },
    {
      "cell_type": "markdown",
      "metadata": {
        "id": "0cUx_FSiNOUx"
      },
      "source": [
        "(2 балла) Нанесите на тот же график тестовую выборку, используя другой цвет (не забудьте про параметр прозрачности):"
      ]
    },
    {
      "cell_type": "code",
      "execution_count": 49,
      "metadata": {
        "colab": {
          "base_uri": "https://localhost:8080/",
          "height": 465
        },
        "id": "R09w4W7VNnM2",
        "outputId": "60b21da7-8735-469c-ecca-daea3eaf6b21"
      },
      "outputs": [
        {
          "output_type": "execute_result",
          "data": {
            "text/plain": [
              "<Figure size 640x480 with 1 Axes>"
            ],
            "image/png": "[encoded data removed]"
          },
          "metadata": {},
          "execution_count": 49
        }
      ],
      "source": [
        "ax.scatter(diamonds_testing['minkowski_sum'],\n",
        "           diamonds_testing['total_sales_price'],\n",
        "           alpha=0.2,\n",
        "           label='Тестовые данные')\n",
        "\n",
        "ax.legend(loc='upper right')\n",
        "\n",
        "fig"
      ]
    },
    {
      "cell_type": "markdown",
      "metadata": {
        "id": "VwIIccnpNnVj"
      },
      "source": [
        "(3 балла) Найдите для каждой бриллианта из тестовой выборки его \"ближайшего соседа\" из тренинг-выборки. Для каждого бриллианта из тестовой выборки найдите расстояния до соответствующего ближайшего соседа:"
      ]
    },
    {
      "cell_type": "code",
      "execution_count": 50,
      "metadata": {
        "id": "t_jpKJ54OBb0"
      },
      "outputs": [],
      "source": [
        "id = [np.argmin(abs(diamonds_training['minkowski_sum'] - t)) for t in diamonds_testing['minkowski_sum']]"
      ]
    },
    {
      "cell_type": "code",
      "source": [
        "neighbors = diamonds_training.iloc[id].reset_index().drop(columns=['index'])\n",
        "neighbors.head()"
      ],
      "metadata": {
        "colab": {
          "base_uri": "https://localhost:8080/",
          "height": 206
        },
        "id": "0-SeMQxGd8dZ",
        "outputId": "a504c949-3d18-4e04-cf35-3c1ddc1de1f3"
      },
      "execution_count": 51,
      "outputs": [
        {
          "output_type": "execute_result",
          "data": {
            "text/plain": [
              "   minkowski_sum  total_sales_price\n",
              "0       2.694284                804\n",
              "1       2.104144                894\n",
              "2       2.425497               1768\n",
              "3       9.245740              21152\n",
              "4       2.167138                716"
            ],
            "text/html": [
              "\n",
              "  <div id=\"df-1b3b6914-8288-4991-abf9-b00c6eb9cbc3\">\n",
              "    <div class=\"colab-df-container\">\n",
              "      <div>\n",
              "<style scoped>\n",
              "    .dataframe tbody tr th:only-of-type {\n",
              "        vertical-align: middle;\n",
              "    }\n",
              "\n",
              "    .dataframe tbody tr th {\n",
              "        vertical-align: top;\n",
              "    }\n",
              "\n",
              "    .dataframe thead th {\n",
              "        text-align: right;\n",
              "    }\n",
              "</style>\n",
              "<table border=\"1\" class=\"dataframe\">\n",
              "  <thead>\n",
              "    <tr style=\"text-align: right;\">\n",
              "      <th></th>\n",
              "      <th>minkowski_sum</th>\n",
              "      <th>total_sales_price</th>\n",
              "    </tr>\n",
              "  </thead>\n",
              "  <tbody>\n",
              "    <tr>\n",
              "      <th>0</th>\n",
              "      <td>2.694284</td>\n",
              "      <td>804</td>\n",
              "    </tr>\n",
              "    <tr>\n",
              "      <th>1</th>\n",
              "      <td>2.104144</td>\n",
              "      <td>894</td>\n",
              "    </tr>\n",
              "    <tr>\n",
              "      <th>2</th>\n",
              "      <td>2.425497</td>\n",
              "      <td>1768</td>\n",
              "    </tr>\n",
              "    <tr>\n",
              "      <th>3</th>\n",
              "      <td>9.245740</td>\n",
              "      <td>21152</td>\n",
              "    </tr>\n",
              "    <tr>\n",
              "      <th>4</th>\n",
              "      <td>2.167138</td>\n",
              "      <td>716</td>\n",
              "    </tr>\n",
              "  </tbody>\n",
              "</table>\n",
              "</div>\n",
              "      <button class=\"colab-df-convert\" onclick=\"convertToInteractive('df-1b3b6914-8288-4991-abf9-b00c6eb9cbc3')\"\n",
              "              title=\"Convert this dataframe to an interactive table.\"\n",
              "              style=\"display:none;\">\n",
              "        \n",
              "  <svg xmlns=\"http://www.w3.org/2000/svg\" height=\"24px\"viewBox=\"0 0 24 24\"\n",
              "       width=\"24px\">\n",
              "    <path d=\"M0 0h24v24H0V0z\" fill=\"none\"/>\n",
              "    <path d=\"M18.56 5.44l.94 2.06.94-2.06 2.06-.94-2.06-.94-.94-2.06-.94 2.06-2.06.94zm-11 1L8.5 8.5l.94-2.06 2.06-.94-2.06-.94L8.5 2.5l-.94 2.06-2.06.94zm10 10l.94 2.06.94-2.06 2.06-.94-2.06-.94-.94-2.06-.94 2.06-2.06.94z\"/><path d=\"M17.41 7.96l-1.37-1.37c-.4-.4-.92-.59-1.43-.59-.52 0-1.04.2-1.43.59L10.3 9.45l-7.72 7.72c-.78.78-.78 2.05 0 2.83L4 21.41c.39.39.9.59 1.41.59.51 0 1.02-.2 1.41-.59l7.78-7.78 2.81-2.81c.8-.78.8-2.07 0-2.86zM5.41 20L4 18.59l7.72-7.72 1.47 1.35L5.41 20z\"/>\n",
              "  </svg>\n",
              "      </button>\n",
              "      \n",
              "  <style>\n",
              "    .colab-df-container {\n",
              "      display:flex;\n",
              "      flex-wrap:wrap;\n",
              "      gap: 12px;\n",
              "    }\n",
              "\n",
              "    .colab-df-convert {\n",
              "      background-color: #E8F0FE;\n",
              "      border: none;\n",
              "      border-radius: 50%;\n",
              "      cursor: pointer;\n",
              "      display: none;\n",
              "      fill: #1967D2;\n",
              "      height: 32px;\n",
              "      padding: 0 0 0 0;\n",
              "      width: 32px;\n",
              "    }\n",
              "\n",
              "    .colab-df-convert:hover {\n",
              "      background-color: #E2EBFA;\n",
              "      box-shadow: 0px 1px 2px rgba(60, 64, 67, 0.3), 0px 1px 3px 1px rgba(60, 64, 67, 0.15);\n",
              "      fill: #174EA6;\n",
              "    }\n",
              "\n",
              "    [theme=dark] .colab-df-convert {\n",
              "      background-color: #3B4455;\n",
              "      fill: #D2E3FC;\n",
              "    }\n",
              "\n",
              "    [theme=dark] .colab-df-convert:hover {\n",
              "      background-color: #434B5C;\n",
              "      box-shadow: 0px 1px 3px 1px rgba(0, 0, 0, 0.15);\n",
              "      filter: drop-shadow(0px 1px 2px rgba(0, 0, 0, 0.3));\n",
              "      fill: #FFFFFF;\n",
              "    }\n",
              "  </style>\n",
              "\n",
              "      <script>\n",
              "        const buttonEl =\n",
              "          document.querySelector('#df-1b3b6914-8288-4991-abf9-b00c6eb9cbc3 button.colab-df-convert');\n",
              "        buttonEl.style.display =\n",
              "          google.colab.kernel.accessAllowed ? 'block' : 'none';\n",
              "\n",
              "        async function convertToInteractive(key) {\n",
              "          const element = document.querySelector('#df-1b3b6914-8288-4991-abf9-b00c6eb9cbc3');\n",
              "          const dataTable =\n",
              "            await google.colab.kernel.invokeFunction('convertToInteractive',\n",
              "                                                     [key], {});\n",
              "          if (!dataTable) return;\n",
              "\n",
              "          const docLinkHtml = 'Like what you see? Visit the ' +\n",
              "            '<a target=\"_blank\" href=https://colab.research.google.com/notebooks/data_table.ipynb>data table notebook</a>'\n",
              "            + ' to learn more about interactive tables.';\n",
              "          element.innerHTML = '';\n",
              "          dataTable['output_type'] = 'display_data';\n",
              "          await google.colab.output.renderOutput(dataTable, element);\n",
              "          const docLink = document.createElement('div');\n",
              "          docLink.innerHTML = docLinkHtml;\n",
              "          element.appendChild(docLink);\n",
              "        }\n",
              "      </script>\n",
              "    </div>\n",
              "  </div>\n",
              "  "
            ]
          },
          "metadata": {},
          "execution_count": 51
        }
      ]
    },
    {
      "cell_type": "markdown",
      "metadata": {
        "id": "7R0uaHqurV_u"
      },
      "source": [
        "(3 балла) Найдите насколько сильно (в процентах) отличается цена бриллиантов из тестовой выборки от их соответствующих ближайших соседей:"
      ]
    },
    {
      "cell_type": "code",
      "execution_count": 52,
      "metadata": {
        "id": "Uy2ngWJ4rn-4",
        "colab": {
          "base_uri": "https://localhost:8080/"
        },
        "outputId": "613623ec-cf8d-48fe-e635-d164f90a003e"
      },
      "outputs": [
        {
          "output_type": "execute_result",
          "data": {
            "text/plain": [
              "363.3291879996825"
            ]
          },
          "metadata": {},
          "execution_count": 52
        }
      ],
      "source": [
        "differences = (abs(\n",
        "    diamonds_testing['total_sales_price'] - neighbors['total_sales_price'])\n",
        "    / diamonds_testing['total_sales_price'])\n",
        "differences.mean() * 100"
      ]
    },
    {
      "cell_type": "code",
      "source": [
        "from sklearn.metrics import mean_squared_error\n",
        "\n",
        "f\"Nearest neighbours: {mean_squared_error(diamonds_testing['total_sales_price'], neighbors['total_sales_price'])}\""
      ],
      "metadata": {
        "id": "EctTBQuw-PdM",
        "colab": {
          "base_uri": "https://localhost:8080/",
          "height": 35
        },
        "outputId": "aa21eb2a-23c3-4ba6-8139-5f85a2648a8e"
      },
      "execution_count": 54,
      "outputs": [
        {
          "output_type": "execute_result",
          "data": {
            "text/plain": [
              "'Nearest neighbours: 899924242.4144421'"
            ],
            "application/vnd.google.colaboratory.intrinsic+json": {
              "type": "string"
            }
          },
          "metadata": {},
          "execution_count": 54
        }
      ]
    },
    {
      "cell_type": "markdown",
      "metadata": {
        "id": "tl0CHY6_OAxU"
      },
      "source": [
        "**Данная модель является выдумкой автора. Не важен коэффициент ошибки, важны ваши шаги для получения коэффициента.**"
      ]
    },
    {
      "cell_type": "markdown",
      "metadata": {
        "id": "AbrAdKSUrqz5"
      },
      "source": [
        "### Введение в машинное обучение"
      ]
    },
    {
      "cell_type": "markdown",
      "metadata": {
        "id": "I6sqXZLYuox4"
      },
      "source": [
        "Теперь давайте познакомимся с таким сильным инструментом как `sklearn`."
      ]
    },
    {
      "cell_type": "markdown",
      "metadata": {
        "id": "q4OpdbhwsuAX"
      },
      "source": [
        "Вам необходимо:\n",
        "1. выбрать 2 категориальных признака\n",
        "2. на их основе обучить решающее дерево\n",
        "3. оценить среднеквадратичную ошибку цены бриллианта\n",
        "4. сделать пп. 1-3 и выбрать ту пару, которая дает лучший результат\n",
        "5. сделать выводы"
      ]
    },
    {
      "cell_type": "markdown",
      "metadata": {
        "id": "rScraaVSxQlT"
      },
      "source": [
        "(3 балла) Мы работаем с категориальными признаками, для них не понятно что есть \"больше\" и \"меньше\". Поэтому нам нужно предварительно закодировать значения наших признаков, с чем нам поможет [OneHotEncoder](https://scikit-learn.org/stable/modules/generated/sklearn.preprocessing.OneHotEncoder.html):"
      ]
    },
    {
      "cell_type": "code",
      "execution_count": 55,
      "metadata": {
        "id": "s4n9VF3hhuQW"
      },
      "outputs": [],
      "source": [
        "# взял эти два признака для примера, потом будет перебор всех пар\n",
        "X = diamonds3[['cut', 'color']]\n",
        "y = diamonds3['total_sales_price']"
      ]
    },
    {
      "cell_type": "code",
      "execution_count": 56,
      "metadata": {
        "id": "G8hDstLlxjry",
        "colab": {
          "base_uri": "https://localhost:8080/"
        },
        "outputId": "f6ffb382-a19a-4029-f01b-941a2b56dcc6"
      },
      "outputs": [
        {
          "output_type": "execute_result",
          "data": {
            "text/plain": [
              "array([[0., 0., 0., ..., 0., 0., 0.],\n",
              "       [0., 0., 0., ..., 0., 0., 0.],\n",
              "       [0., 0., 0., ..., 0., 0., 0.],\n",
              "       ...,\n",
              "       [0., 0., 0., ..., 0., 0., 0.],\n",
              "       [0., 0., 0., ..., 0., 0., 1.],\n",
              "       [0., 0., 0., ..., 0., 0., 1.]])"
            ]
          },
          "metadata": {},
          "execution_count": 56
        }
      ],
      "source": [
        "from sklearn.preprocessing import OneHotEncoder\n",
        "\n",
        "\n",
        "enc = OneHotEncoder(handle_unknown='ignore')\n",
        "X = enc.fit_transform(X)\n",
        "X.toarray()"
      ]
    },
    {
      "cell_type": "markdown",
      "metadata": {
        "id": "ig8t-nmRvojA"
      },
      "source": [
        "(3 балла) Разбейте датасет на обучающую и тестовую выбору. Для этого вам поможет [train_test_split](https://scikit-learn.org/stable/modules/generated/sklearn.model_selection.train_test_split.html):"
      ]
    },
    {
      "cell_type": "code",
      "execution_count": 57,
      "metadata": {
        "id": "ChVKP43AwY8i"
      },
      "outputs": [],
      "source": [
        "from sklearn.model_selection import train_test_split\n",
        "\n",
        "\n",
        "X_train, X_test, y_train, y_test = train_test_split(X, y, test_size=0.2)"
      ]
    },
    {
      "cell_type": "markdown",
      "metadata": {
        "id": "gbv2zLpkwZsq"
      },
      "source": [
        "(3 балла) Затем создайте и обучите вашу модель - [DecisionTreeRegressor](https://scikit-learn.org/stable/modules/generated/sklearn.tree.DecisionTreeRegressor.html):"
      ]
    },
    {
      "cell_type": "code",
      "execution_count": 58,
      "metadata": {
        "id": "Qfvv2j6Sws8p"
      },
      "outputs": [],
      "source": [
        "from sklearn.tree import DecisionTreeRegressor\n",
        "\n",
        "clf = DecisionTreeRegressor(random_state=57)\n",
        "clf = clf.fit(X_train, y_train)"
      ]
    },
    {
      "cell_type": "markdown",
      "metadata": {
        "id": "nUvBoY1pwtIv"
      },
      "source": [
        "(3 балла) Оцените ошибку вашей модели при помощи [mean_squared_error](https://scikit-learn.org/stable/modules/generated/sklearn.metrics.mean_squared_error.html):"
      ]
    },
    {
      "cell_type": "code",
      "execution_count": 59,
      "metadata": {
        "id": "q946oHPaxGA4",
        "colab": {
          "base_uri": "https://localhost:8080/"
        },
        "outputId": "7d718235-fa52-4cc2-aad8-4d538995fe90"
      },
      "outputs": [
        {
          "output_type": "execute_result",
          "data": {
            "text/plain": [
              "676142434.3800211"
            ]
          },
          "metadata": {},
          "execution_count": 59
        }
      ],
      "source": [
        "from sklearn.metrics import mean_squared_error\n",
        "\n",
        "\n",
        "y_pred = clf.predict(X_test)\n",
        "mean_squared_error(y_test, y_pred)"
      ]
    },
    {
      "cell_type": "markdown",
      "metadata": {
        "id": "scWwHLEKxGPl"
      },
      "source": [
        "(3 балла) **Сделайте выводы какие категориальные признаки лучше:**"
      ]
    },
    {
      "cell_type": "code",
      "execution_count": 60,
      "metadata": {
        "id": "qreKVLDOjlcN"
      },
      "outputs": [],
      "source": [
        "categorical_attributes = ['cut', 'color', 'clarity', 'cut_quality', 'lab', \n",
        "                          'symmetry', 'polish', 'eye_clean', \n",
        "                          'girdle_min', 'girdle_max']"
      ]
    },
    {
      "cell_type": "code",
      "source": [
        "def clc_error_for_attributes(*attributes) -> float:\n",
        "    X = diamonds3[list(attributes)]\n",
        "    y = diamonds3['total_sales_price']\n",
        "    X = OneHotEncoder(handle_unknown='ignore').fit_transform(X)\n",
        "\n",
        "    X_train, X_test, y_train, y_test = train_test_split(X, y, test_size=0.2)\n",
        "\n",
        "    clf = DecisionTreeRegressor(random_state=57)\n",
        "    clf = clf.fit(X_train, y_train)\n",
        "\n",
        "    y_pred = clf.predict(X_test)\n",
        "\n",
        "    return mean_squared_error(y_test, y_pred)"
      ],
      "metadata": {
        "id": "roIUgC5ykpXZ"
      },
      "execution_count": 61,
      "outputs": []
    },
    {
      "cell_type": "code",
      "execution_count": 62,
      "metadata": {
        "id": "DSF0OR7bkFAv"
      },
      "outputs": [],
      "source": [
        "ms_errors = dict()\n",
        "\n",
        "for i in range(len(categorical_attributes)):\n",
        "  for j in range(i):\n",
        "    attr1 = categorical_attributes[i]\n",
        "    attr2 = categorical_attributes[j]\n",
        "\n",
        "    ms_errors[(attr1, attr2)] = clc_error_for_attributes(attr1, attr2)"
      ]
    },
    {
      "cell_type": "code",
      "source": [
        "ms_errors"
      ],
      "metadata": {
        "colab": {
          "base_uri": "https://localhost:8080/"
        },
        "id": "w0LY_l6-k5sF",
        "outputId": "3d8724f6-b101-4a1d-97c1-cba48ae23755"
      },
      "execution_count": 63,
      "outputs": [
        {
          "output_type": "execute_result",
          "data": {
            "text/plain": [
              "{('color', 'cut'): 553241060.0122912,\n",
              " ('clarity', 'cut'): 624306015.6326021,\n",
              " ('clarity', 'color'): 647617736.6914715,\n",
              " ('cut_quality', 'cut'): 564401795.6439008,\n",
              " ('cut_quality', 'color'): 552344428.523833,\n",
              " ('cut_quality', 'clarity'): 595750772.4547707,\n",
              " ('lab', 'cut'): 608312030.4592576,\n",
              " ('lab', 'color'): 669039956.5826942,\n",
              " ('lab', 'clarity'): 582554562.6444435,\n",
              " ('lab', 'cut_quality'): 631205844.8558102,\n",
              " ('symmetry', 'cut'): 696728475.721682,\n",
              " ('symmetry', 'color'): 719708450.406553,\n",
              " ('symmetry', 'clarity'): 577543164.5632852,\n",
              " ('symmetry', 'cut_quality'): 622533135.0400636,\n",
              " ('symmetry', 'lab'): 607175231.0142851,\n",
              " ('polish', 'cut'): 724047814.7184298,\n",
              " ('polish', 'color'): 657735131.900709,\n",
              " ('polish', 'clarity'): 619748382.8708614,\n",
              " ('polish', 'cut_quality'): 605866787.5246989,\n",
              " ('polish', 'lab'): 794946367.3819822,\n",
              " ('polish', 'symmetry'): 669500214.445427,\n",
              " ('eye_clean', 'cut'): 632377143.1232368,\n",
              " ('eye_clean', 'color'): 547528183.1174362,\n",
              " ('eye_clean', 'clarity'): 611067213.8112124,\n",
              " ('eye_clean', 'cut_quality'): 710286977.5030593,\n",
              " ('eye_clean', 'lab'): 733776305.0087093,\n",
              " ('eye_clean', 'symmetry'): 650444346.1568501,\n",
              " ('eye_clean', 'polish'): 831671744.6182568,\n",
              " ('girdle_min', 'cut'): 686830304.0988458,\n",
              " ('girdle_min', 'color'): 738517812.0705029,\n",
              " ('girdle_min', 'clarity'): 760137541.1190389,\n",
              " ('girdle_min', 'cut_quality'): 638153196.8142912,\n",
              " ('girdle_min', 'lab'): 624752259.8030248,\n",
              " ('girdle_min', 'symmetry'): 686320657.759314,\n",
              " ('girdle_min', 'polish'): 619612181.1966633,\n",
              " ('girdle_min', 'eye_clean'): 602010659.8333665,\n",
              " ('girdle_max', 'cut'): 604379980.8768828,\n",
              " ('girdle_max', 'color'): 688718593.9109137,\n",
              " ('girdle_max', 'clarity'): 690591773.2864859,\n",
              " ('girdle_max', 'cut_quality'): 699506231.6097807,\n",
              " ('girdle_max', 'lab'): 656117464.2428653,\n",
              " ('girdle_max', 'symmetry'): 553337088.9889036,\n",
              " ('girdle_max', 'polish'): 626484491.8510209,\n",
              " ('girdle_max', 'eye_clean'): 653323529.5472192,\n",
              " ('girdle_max', 'girdle_min'): 636221322.0538939}"
            ]
          },
          "metadata": {},
          "execution_count": 63
        }
      ]
    },
    {
      "cell_type": "code",
      "execution_count": 66,
      "metadata": {
        "id": "YcIzQnIbkxWv",
        "colab": {
          "base_uri": "https://localhost:8080/",
          "height": 35
        },
        "outputId": "d30d299a-e55e-4fb3-f90d-e77b0be900b3"
      },
      "outputs": [
        {
          "output_type": "execute_result",
          "data": {
            "text/plain": [
              "\"Лучший набор признаков ('eye_clean', 'color'), их ошибка 547528183.1174362\""
            ],
            "application/vnd.google.colaboratory.intrinsic+json": {
              "type": "string"
            }
          },
          "metadata": {},
          "execution_count": 66
        }
      ],
      "source": [
        "best_attrs = min(ms_errors.items(), key=lambda item: item[1])\n",
        "f\"Лучший набор признаков {best_attrs[0]}, их ошибка {best_attrs[1]}\""
      ]
    },
    {
      "cell_type": "code",
      "source": [
        "# теперь попробуем все признаки вместе\n",
        "f\"Ошибка для всех признаков вместе: {clc_error_for_attributes(*categorical_attributes)}\""
      ],
      "metadata": {
        "colab": {
          "base_uri": "https://localhost:8080/",
          "height": 35
        },
        "id": "B9kQIS0gmJ_n",
        "outputId": "e8f54acc-90b4-4e6d-ef79-5e102ea88698"
      },
      "execution_count": 67,
      "outputs": [
        {
          "output_type": "execute_result",
          "data": {
            "text/plain": [
              "'Ошибка для всех признаков вместе: 867357348.6587676'"
            ],
            "application/vnd.google.colaboratory.intrinsic+json": {
              "type": "string"
            }
          },
          "metadata": {},
          "execution_count": 67
        }
      ]
    },
    {
      "cell_type": "code",
      "source": [
        "# попробуем загружать признаки тройками:\n",
        "for i in range(len(categorical_attributes)):\n",
        "  for j in range(i):\n",
        "    for k in range(j):\n",
        "      attr1 = categorical_attributes[i]\n",
        "      attr2 = categorical_attributes[j]\n",
        "      attr3 = categorical_attributes[k]\n",
        "\n",
        "      ms_errors[(attr1, attr2, attr3)] = clc_error_for_attributes(attr1, attr2, attr3)"
      ],
      "metadata": {
        "id": "ClNMTb3psy84"
      },
      "execution_count": 68,
      "outputs": []
    },
    {
      "cell_type": "code",
      "source": [
        "best_attrs = min(ms_errors.items(), key=lambda item: item[1])\n",
        "f\"Лучший набор признаков {best_attrs[0]}, их ошибка {best_attrs[1]}\""
      ],
      "metadata": {
        "colab": {
          "base_uri": "https://localhost:8080/",
          "height": 35
        },
        "id": "6nl9fTReAzsb",
        "outputId": "0ea5f280-b384-4b82-84ea-dfe887eee212"
      },
      "execution_count": 69,
      "outputs": [
        {
          "output_type": "execute_result",
          "data": {
            "text/plain": [
              "\"Лучший набор признаков ('girdle_max', 'eye_clean', 'cut'), их ошибка 497955861.6982214\""
            ],
            "application/vnd.google.colaboratory.intrinsic+json": {
              "type": "string"
            }
          },
          "metadata": {},
          "execution_count": 69
        }
      ]
    },
    {
      "cell_type": "markdown",
      "metadata": {
        "id": "djE6Ke2bL5WS"
      },
      "source": [
        "*Подсказки для маленьких: Что вы можете сказать о зависимости по вашей выборке признаков? Какой вы можете сделать вывод об готовых инструментах для работы и написанных Вами?*"
      ]
    },
    {
      "cell_type": "markdown",
      "metadata": {
        "id": "lu36_N58uvui"
      },
      "source": [
        "Подход с решающим деревом оказался значительно лучше, чем подход с ближайшими соседями (547'528'183 < 899'924'242). Лучшая пара признаков -- `eye_clean` и `color`. Если обучить дерево на всех признаках, ошибка получается гораздо больше (867'357'348), из чего можно сделать вывод, что некоторые признаки не являются содержательными и наоборот запутывают. Загрузив тройки признаков, мы улучшили результат относительно пар (497'955'861), скорее всего, если загрузить четверки, ошибка уменьшится дополнительно."
      ]
    }
  ],
  "metadata": {
    "colab": {
      "provenance": [],
      "include_colab_link": true
    },
    "kernelspec": {
      "display_name": "Python 3",
      "name": "python3"
    },
    "language_info": {
      "name": "python"
    }
  },
  "nbformat": 4,
  "nbformat_minor": 0
}